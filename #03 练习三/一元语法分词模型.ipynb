{
 "cells": [
  {
   "cell_type": "markdown",
   "metadata": {},
   "source": [
    "## 一元语法模型"
   ]
  },
  {
   "cell_type": "markdown",
   "metadata": {},
   "source": [
    "### 前缀词典构建"
   ]
  },
  {
   "cell_type": "code",
   "execution_count": 1,
   "metadata": {
    "ExecuteTime": {
     "end_time": "2021-05-13T11:56:58.727632Z",
     "start_time": "2021-05-13T11:56:58.711844Z"
    }
   },
   "outputs": [],
   "source": [
    "def gen_pfdict(f):\n",
    "    lfreq = {}\n",
    "    ltotal = 0\n",
    "    for lineno, line in enumerate(f, 1):\n",
    "        try:\n",
    "            line = line.strip()\n",
    "            word, freq = line.split(' ')[:2]\n",
    "            freq = int(freq)\n",
    "            lfreq[word] = freq\n",
    "            ltotal += freq\n",
    "            for ch in range(len(word)):\n",
    "                wfrag = word[:ch + 1]\n",
    "                if wfrag not in lfreq:\n",
    "                    lfreq[wfrag] = 0 # 不在词典里的前缀，词频设为零，前提是词典已经进行排序\n",
    "        except ValueError:\n",
    "            raise ValueError(\n",
    "                'invalid dictionary entry in %s at Line %s: %s' % (f.name, lineno, line))\n",
    "    f.close()\n",
    "    return lfreq, ltotal"
   ]
  },
  {
   "cell_type": "markdown",
   "metadata": {},
   "source": [
    "### 有向无环图构建"
   ]
  },
  {
   "cell_type": "code",
   "execution_count": 2,
   "metadata": {
    "ExecuteTime": {
     "end_time": "2021-05-13T11:57:00.393486Z",
     "start_time": "2021-05-13T11:56:59.574093Z"
    }
   },
   "outputs": [],
   "source": [
    "import logging\n",
    "logging.basicConfig(level=logging.DEBUG,format='%(asctime)s - [line:%(lineno)d] - %(levelname)s: %(message)s')\n",
    "\n",
    "f = open(\"jieba_dict.txt\",encoding=\"utf-8\")\n",
    "FREQ, total = gen_pfdict(f)"
   ]
  },
  {
   "cell_type": "code",
   "execution_count": 4,
   "metadata": {
    "ExecuteTime": {
     "end_time": "2021-03-27T16:23:11.200926Z",
     "start_time": "2021-03-27T16:23:11.179982Z"
    }
   },
   "outputs": [
    {
     "name": "stdout",
     "output_type": "stream",
     "text": [
      "4207\n",
      "60101967\n"
     ]
    },
    {
     "data": {
      "text/plain": [
       "-9.567048044164698"
      ]
     },
     "execution_count": 4,
     "metadata": {},
     "output_type": "execute_result"
    }
   ],
   "source": [
    "print(FREQ['玩'])\n",
    "print(total)\n",
    "log(4207)-log(60101967)"
   ]
  },
  {
   "cell_type": "code",
   "execution_count": 3,
   "metadata": {
    "ExecuteTime": {
     "end_time": "2021-05-13T11:57:03.204152Z",
     "start_time": "2021-05-13T11:57:03.186076Z"
    }
   },
   "outputs": [],
   "source": [
    "def get_DAG(sentence):\n",
    "    logging.info(\"生成有向无环图...\")\n",
    "    DAG = {}\n",
    "    N = len(sentence)\n",
    "    for k in range(N):\n",
    "        logging.debug(\"k = %s\"%k)\n",
    "        tmplist = []\n",
    "        i = k\n",
    "        frag = sentence[k]\n",
    "        logging.debug(\"for 循环 frag: %s\"%frag)\n",
    "        while i < N and frag in FREQ:\n",
    "            logging.debug(\"\\t 进入while...\")\n",
    "            logging.debug(\"\\t i = %s\"%i)\n",
    "            logging.debug(\"\\t FREQ[%s]: %s\"%(frag,FREQ[frag]))\n",
    "            if FREQ[frag]:\n",
    "                tmplist.append(i)\n",
    "            i += 1\n",
    "            frag = sentence[k:i + 1]\n",
    "            logging.debug(\"\\t while 循环 frag: %s\"%frag)\n",
    "            logging.debug(\"\\t tmplist: %s\"%tmplist)\n",
    "        if not tmplist:\n",
    "            tmplist.append(k)\n",
    "            logging.debug(\"\\t if 语句 tmplist: %s\"%tmplist)\n",
    "        DAG[k] = tmplist\n",
    "    return DAG"
   ]
  },
  {
   "cell_type": "code",
   "execution_count": 8,
   "metadata": {
    "ExecuteTime": {
     "end_time": "2021-03-27T16:24:29.620423Z",
     "start_time": "2021-03-27T16:24:29.613442Z"
    }
   },
   "outputs": [
    {
     "name": "stderr",
     "output_type": "stream",
     "text": [
      "2021-03-28 00:24:29,613 - [line:2] - INFO: 生成有向无环图...\n"
     ]
    },
    {
     "data": {
      "text/plain": [
       "{0: [0], 1: [1, 2, 4], 2: [2], 3: [3, 4], 4: [4], 5: [5]}"
      ]
     },
     "execution_count": 8,
     "metadata": {},
     "output_type": "execute_result"
    }
   ],
   "source": [
    "logger = logging.getLogger()\n",
    "logger.setLevel(logging.INFO)\n",
    "get_DAG(\"去北京大学玩\")"
   ]
  },
  {
   "cell_type": "markdown",
   "metadata": {},
   "source": [
    "### 最大概率路径计算"
   ]
  },
  {
   "cell_type": "code",
   "execution_count": 4,
   "metadata": {
    "ExecuteTime": {
     "end_time": "2021-05-13T11:57:05.984142Z",
     "start_time": "2021-05-13T11:57:05.964440Z"
    }
   },
   "outputs": [
    {
     "name": "stderr",
     "output_type": "stream",
     "text": [
      "2021-05-13 19:57:05,965 - [line:2] - INFO: 生成有向无环图...\n"
     ]
    },
    {
     "name": "stdout",
     "output_type": "stream",
     "text": [
      "{0: [0], 1: [1, 2, 4], 2: [2], 3: [3, 4], 4: [4], 5: [5]}\n"
     ]
    }
   ],
   "source": [
    "from math import log\n",
    "logger = logging.getLogger()\n",
    "logger.setLevel(logging.INFO) \n",
    "\n",
    "route = {}\n",
    "sentence = \"去北京大学玩\"\n",
    "DAG = get_DAG(sentence)\n",
    "print(DAG)\n",
    "def calc(sentence, DAG, route):\n",
    "    logging.info(\"计算路径概率...\")\n",
    "    N = len(sentence)\n",
    "    route[N] = (0, 0)\n",
    "    logtotal = log(total)\n",
    "    for idx in range(N-1, -1, -1):\n",
    "        logging.debug(\"\\t idx: %s\"%idx)\n",
    "        logging.debug(\"\\t DAG[%s]: %s\"% (idx,DAG[idx]))\n",
    "        tmp = []\n",
    "        for x in DAG[idx]:\n",
    "            logging.debug(\"\\t\\t x: %s\"%x)\n",
    "            logging.debug(\"\\t\\t sentence[idx:x + 1]: %s\"%sentence[idx:x + 1])\n",
    "            # 计算概率值\n",
    "            prob = log(FREQ.get(sentence[idx:x + 1]) or 1) - logtotal\n",
    "            logging.debug(\"\\t\\t porb: %s\"%prob)\n",
    "            logging.debug(\"\\t\\t route[%s][0]: %s\"%(x+1, route[x+1][0]))\n",
    "            value = round(prob + route[x + 1][0],2)\n",
    "            logging.debug(\"\\t\\t value: %s\"%value)\n",
    "            tmp.append( (value, x) )\n",
    "            logging.debug(\"\\t\\t tmp: %s\"%str(tmp))\n",
    "        route[idx] = max(tmp)\n",
    "        logging.debug(\"\\t route[%s]: %s\"%(idx,str(route[idx])))"
   ]
  },
  {
   "cell_type": "code",
   "execution_count": 21,
   "metadata": {
    "ExecuteTime": {
     "end_time": "2021-03-27T16:27:28.557448Z",
     "start_time": "2021-03-27T16:27:28.544483Z"
    }
   },
   "outputs": [
    {
     "data": {
      "text/plain": [
       "{0: [0, 1],\n",
       " 1: [1],\n",
       " 2: [2],\n",
       " 3: [3, 4],\n",
       " 4: [4],\n",
       " 5: [5, 6],\n",
       " 6: [6],\n",
       " 7: [7],\n",
       " 8: [8, 9],\n",
       " 9: [9],\n",
       " 10: [10]}"
      ]
     },
     "execution_count": 21,
     "metadata": {},
     "output_type": "execute_result"
    }
   ],
   "source": [
    "DAG"
   ]
  },
  {
   "cell_type": "code",
   "execution_count": 22,
   "metadata": {
    "ExecuteTime": {
     "end_time": "2021-03-27T16:30:54.284616Z",
     "start_time": "2021-03-27T16:30:54.273645Z"
    }
   },
   "outputs": [
    {
     "name": "stderr",
     "output_type": "stream",
     "text": [
      "2021-03-28 00:30:54,274 - [line:2] - INFO: 生成有向无环图...\n",
      "2021-03-28 00:30:54,275 - [line:10] - INFO: 计算路径概率...\n"
     ]
    },
    {
     "data": {
      "text/plain": [
       "[(11, (0, 0)),\n",
       " (10, (0, 0)),\n",
       " (9, (-11.57, 9)),\n",
       " (8, (-9.06, 9)),\n",
       " (7, (-16.65, 7)),\n",
       " (6, (-27.92, 6)),\n",
       " (5, (-25.0, 6)),\n",
       " (4, (-35.29, 4)),\n",
       " (3, (-32.12, 4)),\n",
       " (2, (-37.36, 2)),\n",
       " (1, (-48.82, 1)),\n",
       " (0, (-47.42, 1))]"
      ]
     },
     "execution_count": 22,
     "metadata": {},
     "output_type": "execute_result"
    }
   ],
   "source": [
    "sentence = '希腊的经济结构较特殊'\n",
    "DAG = get_DAG(sentence)\n",
    "calc(sentence,DAG,route)\n",
    "sorted(route.items() ,key=lambda x:x[0], reverse=True)"
   ]
  },
  {
   "cell_type": "markdown",
   "metadata": {},
   "source": [
    "### 获取分词结果"
   ]
  },
  {
   "cell_type": "markdown",
   "metadata": {},
   "source": [
    "#### 精确模式"
   ]
  },
  {
   "cell_type": "markdown",
   "metadata": {},
   "source": [
    "试图将句子最精确地切开，适合文本分析"
   ]
  },
  {
   "cell_type": "code",
   "execution_count": 8,
   "metadata": {
    "ExecuteTime": {
     "end_time": "2021-05-13T11:57:40.127356Z",
     "start_time": "2021-05-13T11:57:40.105116Z"
    }
   },
   "outputs": [
    {
     "name": "stderr",
     "output_type": "stream",
     "text": [
      "2021-05-13 19:57:40,107 - [line:2] - INFO: 生成有向无环图...\n",
      "2021-05-13 19:57:40,109 - [line:10] - INFO: 计算路径概率...\n"
     ]
    },
    {
     "data": {
      "text/plain": [
       "['去', '北京大学', '玩']"
      ]
     },
     "execution_count": 8,
     "metadata": {},
     "output_type": "execute_result"
    }
   ],
   "source": [
    "import re\n",
    "re_eng = re.compile('[a-zA-Z0-9]', re.U)\n",
    "\n",
    "def __cut_DAG_NO_HMM(sentence):\n",
    "    DAG = get_DAG(sentence)\n",
    "    route = {}\n",
    "    calc(sentence, DAG, route)\n",
    "    x = 0\n",
    "    N = len(sentence)\n",
    "    buf = ''\n",
    "    while x < N:\n",
    "        y = route[x][1] + 1\n",
    "        l_word = sentence[x:y]\n",
    "        logging.debug(\"\\tx: %s\"%x)\n",
    "        logging.debug(\"\\troute[%s][1]: %s\"%(x,route[x][1]))\n",
    "        logging.debug(\"\\ty: %s\"%y)\n",
    "        logging.debug(\"\\tl_word: %s\"%l_word)\n",
    "        # 如果是连续的英文字母或数字进行合并\n",
    "        if re_eng.match(l_word) and len(l_word) == 1:\n",
    "            buf += l_word\n",
    "            x = y\n",
    "        else:\n",
    "            if buf:\n",
    "                yield buf\n",
    "                buf = ''\n",
    "            yield l_word\n",
    "            x = y\n",
    "    # 如果句子以连续英文或数字结尾\n",
    "    if buf:\n",
    "        yield buf\n",
    "        buf = ''\n",
    "            \n",
    "list(__cut_DAG_NO_HMM(sentence))"
   ]
  },
  {
   "cell_type": "code",
   "execution_count": 11,
   "metadata": {
    "ExecuteTime": {
     "end_time": "2021-05-13T11:58:29.687222Z",
     "start_time": "2021-05-13T11:58:29.678376Z"
    }
   },
   "outputs": [
    {
     "name": "stderr",
     "output_type": "stream",
     "text": [
      "2021-05-13 19:58:29,679 - [line:2] - INFO: 生成有向无环图...\n",
      "2021-05-13 19:58:29,680 - [line:10] - INFO: 计算路径概率...\n"
     ]
    },
    {
     "data": {
      "text/plain": [
       "'希腊  的  经济  结构  较  特殊  。'"
      ]
     },
     "execution_count": 11,
     "metadata": {},
     "output_type": "execute_result"
    }
   ],
   "source": [
    "# wordcut = wordCut()\n",
    "sentence = '希腊的经济结构较特殊。'\n",
    "\"  \".join(__cut_DAG_NO_HMM(sentence))"
   ]
  }
 ],
 "metadata": {
  "kernelspec": {
   "display_name": "Python 3",
   "language": "python",
   "name": "python3"
  },
  "language_info": {
   "codemirror_mode": {
    "name": "ipython",
    "version": 3
   },
   "file_extension": ".py",
   "mimetype": "text/x-python",
   "name": "python",
   "nbconvert_exporter": "python",
   "pygments_lexer": "ipython3",
   "version": "3.7.0"
  },
  "nbTranslate": {
   "displayLangs": [
    "*"
   ],
   "hotkey": "alt-t",
   "langInMainMenu": true,
   "sourceLang": "en",
   "targetLang": "fr",
   "useGoogleTranslate": true
  },
  "toc": {
   "base_numbering": 1,
   "nav_menu": {},
   "number_sections": true,
   "sideBar": true,
   "skip_h1_title": false,
   "title_cell": "Table of Contents",
   "title_sidebar": "Contents",
   "toc_cell": false,
   "toc_position": {},
   "toc_section_display": true,
   "toc_window_display": false
  },
  "varInspector": {
   "cols": {
    "lenName": 16,
    "lenType": 16,
    "lenVar": 40
   },
   "kernels_config": {
    "python": {
     "delete_cmd_postfix": "",
     "delete_cmd_prefix": "del ",
     "library": "var_list.py",
     "varRefreshCmd": "print(var_dic_list())"
    },
    "r": {
     "delete_cmd_postfix": ") ",
     "delete_cmd_prefix": "rm(",
     "library": "var_list.r",
     "varRefreshCmd": "cat(var_dic_list()) "
    }
   },
   "types_to_exclude": [
    "module",
    "function",
    "builtin_function_or_method",
    "instance",
    "_Feature"
   ],
   "window_display": false
  }
 },
 "nbformat": 4,
 "nbformat_minor": 2
}
