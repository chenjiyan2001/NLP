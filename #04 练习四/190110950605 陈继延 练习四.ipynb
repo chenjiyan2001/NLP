{
 "cells": [
  {
   "cell_type": "markdown",
   "metadata": {},
   "source": [
    "**写在前面：**代码实在是有点长，不便于观看，所以作业里用到的函数部分，调试完我就放到py文件里单独存放（第一次这样写，如果写的不规范的话莫怪），再进行导入调用。然后这些函数实现还有简单分析放在另一个ipynb文件里。如果要运行代码的话注意文件的路径，我就不把所有的文件一起提交了。"
   ]
  },
  {
   "cell_type": "markdown",
   "metadata": {},
   "source": [
    "# 练习四"
   ]
  },
  {
   "cell_type": "markdown",
   "metadata": {},
   "source": [
    "## 导入库和数据"
   ]
  },
  {
   "cell_type": "code",
   "execution_count": 37,
   "metadata": {
    "ExecuteTime": {
     "end_time": "2021-03-31T03:03:37.216013Z",
     "start_time": "2021-03-31T03:03:37.212240Z"
    }
   },
   "outputs": [],
   "source": [
    "import numpy as np\n",
    "from graphviz import Digraph\n",
    "import os\n",
    "from tqdm.notebook import tqdm_notebook as tqdm\n",
    "\n",
    "# 加速模块，或许会用到\n",
    "from numba import njit"
   ]
  },
  {
   "cell_type": "code",
   "execution_count": 39,
   "metadata": {
    "ExecuteTime": {
     "end_time": "2021-03-31T03:06:03.372608Z",
     "start_time": "2021-03-31T03:06:03.356884Z"
    }
   },
   "outputs": [],
   "source": [
    "sighan05 = \"../外部数据/第二届国际中文分词评测/icwb2-data/\" # 语料库\n",
    "msr_train = os.path.join(sighan05, 'training', 'msr_training.utf8') # 训练集\n",
    "msr_trainLabel = os.path.join(sighan05, 'training', 'msr_trainLabel.utf8') # 自建标注集\n",
    "msr_test = os.path.join(sighan05, 'testing', 'msr_test.utf8') # 测试集\n",
    "msr_output = os.path.join(sighan05, 'testing', 'msr_output.txt') # 保存输出结果的空文件\n",
    "msr_gold = os.path.join(sighan05, 'gold', 'msr_test_gold.utf8') # 测试集的正确结果\n",
    "OUTFRMAE = \"P:\\t%.2f\\nR:\\t%.2f\\nF1:\\t%.2f\\nOOV-R:\\t%.2f\\nIV-R:\\t%.2f\" # 准确性结果的输出格式"
   ]
  },
  {
   "cell_type": "markdown",
   "metadata": {},
   "source": [
    "## 对语料库进行自动标注"
   ]
  },
  {
   "cell_type": "code",
   "execution_count": 69,
   "metadata": {
    "ExecuteTime": {
     "end_time": "2021-03-31T03:15:45.900915Z",
     "start_time": "2021-03-31T03:15:45.893464Z"
    }
   },
   "outputs": [],
   "source": [
    "# 自动标注函数\n",
    "def sample_autoLabel(cut_lst):\n",
    "    Label_lst = []\n",
    "    for item in cut_lst: # 空格作为分隔符\n",
    "        length = len(item)\n",
    "        if length == 1:\n",
    "            Label_lst.append('S')\n",
    "        elif length == 2:\n",
    "            Label_lst.extend(['B','E'])\n",
    "        else:\n",
    "            times = length-2\n",
    "            Label_lst.extend(['B'] + ['M']*2 + ['E'])\n",
    "    return Label_lst"
   ]
  },
  {
   "cell_type": "code",
   "execution_count": 90,
   "metadata": {
    "ExecuteTime": {
     "end_time": "2021-03-31T03:16:58.808603Z",
     "start_time": "2021-03-31T03:16:56.473088Z"
    }
   },
   "outputs": [
    {
     "data": {
      "application/vnd.jupyter.widget-view+json": {
       "model_id": "15acce3ba2934adcb417d7403b0abf06",
       "version_major": 2,
       "version_minor": 0
      },
      "text/plain": [
       "0it [00:00, ?it/s]"
      ]
     },
     "metadata": {},
     "output_type": "display_data"
    }
   ],
   "source": [
    "# 进行标注\n",
    "with open(msr_train, encoding='utf-8') as original, \\\n",
    "     open(msr_trainLabel, 'w', encoding='utf-8') as Label:\n",
    "    for sentence in tqdm(original):\n",
    "        cut_lst = sentence.replace('\\n','').split('  ')  # 去除结尾的\\n。注意语料库里是以两个空格进行分割\n",
    "        sentence_label = ' '.join(sample_autoLabel(cut_lst))\n",
    "        Label.write(sentence_label)\n",
    "        Label.write('\\n')"
   ]
  },
  {
   "cell_type": "code",
   "execution_count": 100,
   "metadata": {
    "ExecuteTime": {
     "end_time": "2021-03-31T03:58:48.320455Z",
     "start_time": "2021-03-31T03:58:48.306881Z"
    }
   },
   "outputs": [
    {
     "name": "stdout",
     "output_type": "stream",
     "text": [
      "S B E S S B E S S S B M M E S S S S S S B E S S B M M E S B M M E S S B E S B M M E S S S S B E S S\n",
      "\n"
     ]
    }
   ],
   "source": [
    "# 结果\n",
    "label = open(msr_trainLabel, encoding='utf-8')\n",
    "print(label.readline())\n",
    "label.close()"
   ]
  },
  {
   "cell_type": "markdown",
   "metadata": {},
   "source": [
    "## 作业\n",
    "利用MSR语料计算初始状态概率向量$\\pi$,状态转移概率矩阵$A$和发射概率矩阵$B$,构建分词器并进行性能评测。"
   ]
  },
  {
   "cell_type": "code",
   "execution_count": null,
   "metadata": {},
   "outputs": [],
   "source": []
  },
  {
   "cell_type": "markdown",
   "metadata": {},
   "source": [
    "## "
   ]
  }
 ],
 "metadata": {
  "kernelspec": {
   "display_name": "Python 3",
   "language": "python",
   "name": "python3"
  },
  "language_info": {
   "codemirror_mode": {
    "name": "ipython",
    "version": 3
   },
   "file_extension": ".py",
   "mimetype": "text/x-python",
   "name": "python",
   "nbconvert_exporter": "python",
   "pygments_lexer": "ipython3",
   "version": "3.7.0"
  },
  "nbTranslate": {
   "displayLangs": [
    "*"
   ],
   "hotkey": "alt-t",
   "langInMainMenu": true,
   "sourceLang": "en",
   "targetLang": "fr",
   "useGoogleTranslate": true
  },
  "toc": {
   "base_numbering": 1,
   "nav_menu": {},
   "number_sections": true,
   "sideBar": true,
   "skip_h1_title": false,
   "title_cell": "Table of Contents",
   "title_sidebar": "Contents",
   "toc_cell": false,
   "toc_position": {},
   "toc_section_display": true,
   "toc_window_display": false
  },
  "varInspector": {
   "cols": {
    "lenName": 16,
    "lenType": 16,
    "lenVar": 40
   },
   "kernels_config": {
    "python": {
     "delete_cmd_postfix": "",
     "delete_cmd_prefix": "del ",
     "library": "var_list.py",
     "varRefreshCmd": "print(var_dic_list())"
    },
    "r": {
     "delete_cmd_postfix": ") ",
     "delete_cmd_prefix": "rm(",
     "library": "var_list.r",
     "varRefreshCmd": "cat(var_dic_list()) "
    }
   },
   "types_to_exclude": [
    "module",
    "function",
    "builtin_function_or_method",
    "instance",
    "_Feature"
   ],
   "window_display": false
  }
 },
 "nbformat": 4,
 "nbformat_minor": 2
}
