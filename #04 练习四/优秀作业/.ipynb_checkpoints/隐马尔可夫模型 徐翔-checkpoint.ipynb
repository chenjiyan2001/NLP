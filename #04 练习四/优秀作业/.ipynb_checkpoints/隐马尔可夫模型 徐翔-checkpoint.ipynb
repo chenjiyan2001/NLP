{
 "cells": [
  {
   "cell_type": "markdown",
   "metadata": {},
   "source": [
    "# 导入语料库"
   ]
  },
  {
   "cell_type": "code",
   "execution_count": 1,
   "metadata": {
    "ExecuteTime": {
     "end_time": "2021-04-02T08:16:12.375080Z",
     "start_time": "2021-04-02T08:16:12.355080Z"
    }
   },
   "outputs": [],
   "source": [
    "import re\n",
    "import os\n",
    "import time\n",
    "from graphviz import *\n",
    "from math import log"
   ]
  },
  {
   "cell_type": "markdown",
   "metadata": {},
   "source": [
    "## 加载词典"
   ]
  },
  {
   "cell_type": "code",
   "execution_count": 2,
   "metadata": {
    "ExecuteTime": {
     "end_time": "2021-04-02T08:16:12.415081Z",
     "start_time": "2021-04-02T08:16:12.400081Z"
    }
   },
   "outputs": [],
   "source": [
    "def load_dictionary(dict_file):\n",
    "    \"\"\"\n",
    "    加载词库\n",
    "    :return: 一个set形式的词库\n",
    "    \"\"\"\n",
    "    fr = open(dict_file,encoding=\"utf-8\")\n",
    "    word_list = [item.strip().split(\"\\t\")[0] for item in fr]\n",
    "    return set(word_list)"
   ]
  },
  {
   "cell_type": "code",
   "execution_count": 3,
   "metadata": {
    "ExecuteTime": {
     "end_time": "2021-04-02T08:16:13.060081Z",
     "start_time": "2021-04-02T08:16:12.710081Z"
    }
   },
   "outputs": [],
   "source": [
    "sighan05 = \"C:/Users/apple/Desktop/徐翔资料/大学课堂资料/数据科学/自然语言处理/实验课件/练习2/第二届国际中文分词评测/icwb2-data/\"\n",
    "msr_dict = os.path.join(sighan05, 'gold', 'msr_training_words.utf8')\n",
    "msr_train = os.path.join(sighan05, 'training', 'msr_training.utf8')\n",
    "msr_test = os.path.join(sighan05, 'testing', 'msr_test.utf8')\n",
    "msr_output = os.path.join(sighan05, 'testing', 'msr_output.txt')\n",
    "msr_gold = os.path.join(sighan05, 'gold', 'msr_test_gold.utf8')\n",
    "\n",
    "word_dict = load_dictionary(msr_dict)"
   ]
  },
  {
   "cell_type": "markdown",
   "metadata": {},
   "source": [
    "## 加载训练集"
   ]
  },
  {
   "cell_type": "code",
   "execution_count": 4,
   "metadata": {
    "ExecuteTime": {
     "end_time": "2021-04-02T08:16:18.139392Z",
     "start_time": "2021-04-02T08:16:13.689282Z"
    }
   },
   "outputs": [
    {
     "name": "stdout",
     "output_type": "stream",
     "text": [
      "['“', '人们', '常', '说', '生活', '是', '一', '部', '教科书', '，', '而', '血', '与', '火', '的', '战争', '更', '是', '不可多得', '的', '教科书', '，', '她', '确实', '是', '名副其实', '的', '‘', '我', '的', '大学', '’', '。']\n"
     ]
    }
   ],
   "source": [
    "fr = open(msr_train,encoding=\"utf-8\")\n",
    "sent_list = [item[:-1].split(' ') for item in fr]\n",
    "for i in range(len(sent_list)):\n",
    "    sent_list[i] = [word for word in sent_list[i] if len(word)>0]\n",
    "sent_list = [li for li in sent_list if len(li)>0]\n",
    "    \n",
    "print(sent_list[0])"
   ]
  },
  {
   "cell_type": "markdown",
   "metadata": {},
   "source": [
    "# 训练隐马尔可夫模型"
   ]
  },
  {
   "cell_type": "markdown",
   "metadata": {},
   "source": [
    "## {B,M,E,S}序列标注"
   ]
  },
  {
   "cell_type": "code",
   "execution_count": 5,
   "metadata": {
    "ExecuteTime": {
     "end_time": "2021-04-02T08:16:21.169397Z",
     "start_time": "2021-04-02T08:16:21.154397Z"
    }
   },
   "outputs": [],
   "source": [
    "states = ['B', 'M', 'E', 'S']\n",
    "pi = {'B':0,'S':0}\n",
    "transition_probability = dict(zip(states, [{} for i in range(len(states))]))\n",
    "emission_probility = dict(zip(states, [{} for i in range(len(states))]))"
   ]
  },
  {
   "cell_type": "code",
   "execution_count": 6,
   "metadata": {
    "ExecuteTime": {
     "end_time": "2021-04-02T08:16:41.370433Z",
     "start_time": "2021-04-02T08:16:23.979401Z"
    }
   },
   "outputs": [],
   "source": [
    "def add(string,dic):\n",
    "    if string in dic:                              # 字典中已存在对应的键\n",
    "        dic[string] = dic[string] + 1\n",
    "    else:                                          # 字典中不存在对应的键\n",
    "        dic[string] = 1\n",
    "\n",
    "for li in sent_list:\n",
    "    seq = []                                       # 用于存储序列标注\n",
    "    for word in li:\n",
    "        if len(word) ==1:\n",
    "            seq.append('S')\n",
    "            add(word,emission_probility['S'])\n",
    "        elif len(word) == 2:\n",
    "            seq.append('B')\n",
    "            seq.append('E')\n",
    "            add(word[0],emission_probility['B'])\n",
    "            add(word[1],emission_probility['E'])\n",
    "        else:\n",
    "            seq.append('B')\n",
    "            add(word[0],emission_probility['B'])\n",
    "            for i in range(1,len(word)-1):\n",
    "                seq.append('M')\n",
    "                add(word[i],emission_probility['M'])\n",
    "            seq.append('E')\n",
    "            add(word[0],emission_probility['E'])\n",
    "    \n",
    "    if seq[0] == 'B':\n",
    "        pi['B'] = pi['B']+1\n",
    "    else:\n",
    "        pi['S'] = pi['S']+1\n",
    "        \n",
    "    for i in range(len(seq)-1):\n",
    "        add(seq[i+1],transition_probability[seq[i]])"
   ]
  },
  {
   "cell_type": "markdown",
   "metadata": {},
   "source": [
    "## 估计初始状态概率向量"
   ]
  },
  {
   "cell_type": "code",
   "execution_count": 7,
   "metadata": {
    "ExecuteTime": {
     "end_time": "2021-04-02T08:16:43.912437Z",
     "start_time": "2021-04-02T08:16:43.887437Z"
    }
   },
   "outputs": [
    {
     "name": "stdout",
     "output_type": "stream",
     "text": [
      "{'B': 60460, 'S': 26459}\n",
      "{'B': -0.3629946611387064, 'S': -1.1893802854123139, 'M': -3.14e+100, 'E': -3.14e+100}\n"
     ]
    }
   ],
   "source": [
    "print(pi)\n",
    "\n",
    "MIN_FLOAT = -3.14e100\n",
    "number = sum(pi.values())\n",
    "for key in pi.keys():\n",
    "    pi[key] = log(pi[key]/number)\n",
    "pi['M'] = MIN_FLOAT\n",
    "pi['E'] = MIN_FLOAT\n",
    "\n",
    "print(pi)"
   ]
  },
  {
   "cell_type": "markdown",
   "metadata": {},
   "source": [
    "## 估计转移概率矩阵"
   ]
  },
  {
   "cell_type": "code",
   "execution_count": 8,
   "metadata": {
    "ExecuteTime": {
     "end_time": "2021-04-02T08:16:47.178444Z",
     "start_time": "2021-04-02T08:16:47.150943Z"
    }
   },
   "outputs": [],
   "source": [
    "for state in states:\n",
    "    number = sum(transition_probability[state].values())\n",
    "    for key in transition_probability[state].keys():\n",
    "        transition_probability[state][key] = log(transition_probability[state][key]/number)"
   ]
  },
  {
   "cell_type": "markdown",
   "metadata": {},
   "source": [
    "## 估计发射概率矩阵"
   ]
  },
  {
   "cell_type": "code",
   "execution_count": 9,
   "metadata": {
    "ExecuteTime": {
     "end_time": "2021-04-02T08:16:50.669549Z",
     "start_time": "2021-04-02T08:16:50.604549Z"
    }
   },
   "outputs": [],
   "source": [
    "for state in states:\n",
    "    number = sum(emission_probility[state].values())\n",
    "    for key in emission_probility[state].keys():\n",
    "        emission_probility[state][key] = log(emission_probility[state][key]/number)"
   ]
  },
  {
   "cell_type": "markdown",
   "metadata": {},
   "source": [
    "# 中文分词"
   ]
  },
  {
   "cell_type": "markdown",
   "metadata": {
    "ExecuteTime": {
     "end_time": "2021-04-02T06:36:42.182318Z",
     "start_time": "2021-04-02T06:36:41.662517Z"
    }
   },
   "source": [
    "## 维特比算法"
   ]
  },
  {
   "cell_type": "code",
   "execution_count": 10,
   "metadata": {
    "ExecuteTime": {
     "end_time": "2021-04-02T08:16:53.414954Z",
     "start_time": "2021-04-02T08:16:53.399354Z"
    }
   },
   "outputs": [],
   "source": [
    "PrevStatus = {\n",
    "    'B': 'ES',\n",
    "    'M': 'MB',\n",
    "    'S': 'SE',\n",
    "    'E': 'BM'\n",
    "}"
   ]
  },
  {
   "cell_type": "code",
   "execution_count": 11,
   "metadata": {
    "ExecuteTime": {
     "end_time": "2021-04-02T08:16:56.155158Z",
     "start_time": "2021-04-02T08:16:56.125158Z"
    }
   },
   "outputs": [
    {
     "name": "stdout",
     "output_type": "stream",
     "text": [
      "(-30.507856628263557, ['B', 'E', 'S', 'B', 'E'])\n"
     ]
    }
   ],
   "source": [
    "def viterbi(obs, states, start_p, trans_p, emit_p):\n",
    "    V = [{}]  # tabular\n",
    "    path = {}\n",
    "    for y in states:  # init\n",
    "        V[0][y] = start_p[y] + emit_p[y].get(obs[0], MIN_FLOAT) # emit_p[y].get(obs[0], MIN_FLOAT)从状态y发射到obs[0]的概率\n",
    "        path[y] = [y]\n",
    "    for t in range(1, len(obs)):\n",
    "        V.append({})\n",
    "        newpath = {}\n",
    "        for y in states:\n",
    "            em_p = emit_p[y].get(obs[t], MIN_FLOAT)\n",
    "            (prob, state) = max(\n",
    "                [(V[t - 1][y0] + trans_p[y0].get(y, MIN_FLOAT) + em_p, y0) for y0 in PrevStatus[y]])\n",
    "            V[t][y] = prob\n",
    "            newpath[y] = path[state] + [y]\n",
    "        path = newpath\n",
    "    (prob, state) = max((V[len(obs) - 1][y], y) for y in 'ES')\n",
    "\n",
    "    return (prob, path[state])\n",
    "\n",
    "sentence = \"商品和服务\"\n",
    "print(viterbi(sentence, 'BMES', pi, transition_probability, emission_probility))"
   ]
  },
  {
   "cell_type": "code",
   "execution_count": 12,
   "metadata": {
    "ExecuteTime": {
     "end_time": "2021-04-02T08:16:59.846366Z",
     "start_time": "2021-04-02T08:16:59.780766Z"
    }
   },
   "outputs": [
    {
     "name": "stdout",
     "output_type": "stream",
     "text": [
      "['商品', '和', '服务']\n"
     ]
    }
   ],
   "source": [
    "def __cut(sentence):\n",
    "    global emit_P # 在函数内部对函数外的变量进行操作\n",
    "    prob, pos_list = viterbi(sentence, 'BMES', pi, transition_probability, emission_probility)\n",
    "    begin, nexti = 0, 0\n",
    "    for i, char in enumerate(sentence):\n",
    "        pos = pos_list[i]\n",
    "        if pos == 'B':\n",
    "            begin = i\n",
    "        elif pos == 'E':\n",
    "            yield sentence[begin:i + 1]\n",
    "            nexti = i + 1\n",
    "        elif pos == 'S':\n",
    "            yield char\n",
    "            nexti = i + 1\n",
    "    if nexti < len(sentence):\n",
    "        yield sentence[nexti:]\n",
    "    \n",
    "print(list(__cut(sentence)))"
   ]
  },
  {
   "cell_type": "markdown",
   "metadata": {},
   "source": [
    "## 评测准确率和速度"
   ]
  },
  {
   "cell_type": "code",
   "execution_count": 13,
   "metadata": {
    "ExecuteTime": {
     "end_time": "2021-04-02T08:17:03.518772Z",
     "start_time": "2021-04-02T08:17:03.433172Z"
    }
   },
   "outputs": [],
   "source": [
    "def to_region(segmentation: str) -> list:\n",
    "    \"\"\"\n",
    "    将分词结果转换为区间\n",
    "    :param segmentation: 商品 和 服务\n",
    "    :return: [(0, 2), (2, 3), (3, 5)]\n",
    "    \"\"\"\n",
    "    region = []\n",
    "    start = 0\n",
    "    for word in re.compile(\"\\\\s+\").split(segmentation.strip()):\n",
    "        end = start + len(word)\n",
    "        region.append((start, end))\n",
    "        start = end\n",
    "    return region\n",
    "\n",
    "\n",
    "def prf(gold: str, pred: str, dic) -> tuple:\n",
    "    \"\"\"\n",
    "    计算P、R、F1\n",
    "    :param gold: 标准答案文件，比如“商品 和 服务”\n",
    "    :param pred: 分词结果文件，比如“商品 和服 务”\n",
    "    :param dic: 词典\n",
    "    :return: (P, R, F1, OOV_R, IV_R)\n",
    "    \"\"\"\n",
    "    A_size, B_size, A_cap_B_size, OOV, IV, OOV_R, IV_R = 0, 0, 0, 0, 0, 0, 0\n",
    "    with open(gold,encoding=\"utf-8\") as gd, open(pred,encoding=\"utf-8\") as pd:\n",
    "        for g, p in zip(gd, pd):\n",
    "            A, B = set(to_region(g)), set(to_region(p))\n",
    "            A_size += len(A)\n",
    "            B_size += len(B)\n",
    "            A_cap_B_size += len(A & B) # A与B的交集，分词结果中正确的部分\n",
    "            text = re.sub(\"\\\\s+\", \"\", g)\n",
    "            for (start, end) in A:\n",
    "                word = text[start: end]\n",
    "                if word in dic:\n",
    "                    IV += 1  # 登陆词的词频统计\n",
    "                else:\n",
    "                    OOV += 1 # 未登陆词的词频统计\n",
    "\n",
    "            for (start, end) in A & B:\n",
    "                word = text[start: end]\n",
    "                if word in dic:\n",
    "                    IV_R += 1\n",
    "                else:\n",
    "                    OOV_R += 1\n",
    "    p, r = A_cap_B_size / B_size * 100, A_cap_B_size / A_size * 100\n",
    "    return p, r, 2 * p * r / (p + r), OOV_R / OOV * 100, IV_R / IV * 100"
   ]
  },
  {
   "cell_type": "code",
   "execution_count": 14,
   "metadata": {
    "ExecuteTime": {
     "end_time": "2021-04-02T08:17:13.615091Z",
     "start_time": "2021-04-02T08:17:06.555977Z"
    }
   },
   "outputs": [
    {
     "name": "stdout",
     "output_type": "stream",
     "text": [
      "Time:6.11\n",
      "P:77.20 R:79.43 F1:78.30 OOV-R:34.61 IV-R:80.65\n"
     ]
    }
   ],
   "source": [
    "with open(msr_gold,encoding=\"utf-8\") as test, open(msr_output, 'w', encoding=\"utf-8\") as output:\n",
    "    time0 = time.time()\n",
    "    for line in test:\n",
    "        output.write(\"  \".join(list(__cut(re.sub(\"\\\\s+\", \"\", line)))))\n",
    "        output.write(\"\\n\")\n",
    "print(\"Time:%.2f\" % float(time.time()-time0))\n",
    "print(\"P:%.2f R:%.2f F1:%.2f OOV-R:%.2f IV-R:%.2f\" % prf(msr_gold, msr_output, word_dict))"
   ]
  },
  {
   "cell_type": "markdown",
   "metadata": {},
   "source": [
    "# 整理输出的样式"
   ]
  },
  {
   "cell_type": "code",
   "execution_count": 15,
   "metadata": {
    "ExecuteTime": {
     "end_time": "2021-04-02T08:17:23.176008Z",
     "start_time": "2021-04-02T08:17:16.433995Z"
    }
   },
   "outputs": [],
   "source": [
    "with open(msr_gold,encoding=\"utf-8\") as test, open(r'C:\\Users\\apple\\i love python\\自然语言处理\\output.txt','w') as output:\n",
    "    for line in test:\n",
    "        sent = line.strip().replace(\" \", \"\")\n",
    "        prob, pos_list = viterbi(sent, 'BMES', pi, transition_probability, emission_probility)\n",
    "        for i in range(len(sent)):\n",
    "            output.write(sent[i]+' '+pos_list[i])\n",
    "            output.write(\"\\n\")\n",
    "        output.write(\"\\n\")"
   ]
  }
 ],
 "metadata": {
  "kernelspec": {
   "display_name": "Python 3",
   "language": "python",
   "name": "python3"
  },
  "language_info": {
   "codemirror_mode": {
    "name": "ipython",
    "version": 3
   },
   "file_extension": ".py",
   "mimetype": "text/x-python",
   "name": "python",
   "nbconvert_exporter": "python",
   "pygments_lexer": "ipython3",
   "version": "3.7.0"
  },
  "nbTranslate": {
   "displayLangs": [
    "*"
   ],
   "hotkey": "alt-t",
   "langInMainMenu": true,
   "sourceLang": "en",
   "targetLang": "fr",
   "useGoogleTranslate": true
  },
  "toc": {
   "base_numbering": 1,
   "nav_menu": {},
   "number_sections": true,
   "sideBar": true,
   "skip_h1_title": false,
   "title_cell": "Table of Contents",
   "title_sidebar": "Contents",
   "toc_cell": false,
   "toc_position": {},
   "toc_section_display": true,
   "toc_window_display": false
  },
  "varInspector": {
   "cols": {
    "lenName": 16,
    "lenType": 16,
    "lenVar": 40
   },
   "kernels_config": {
    "python": {
     "delete_cmd_postfix": "",
     "delete_cmd_prefix": "del ",
     "library": "var_list.py",
     "varRefreshCmd": "print(var_dic_list())"
    },
    "r": {
     "delete_cmd_postfix": ") ",
     "delete_cmd_prefix": "rm(",
     "library": "var_list.r",
     "varRefreshCmd": "cat(var_dic_list()) "
    }
   },
   "types_to_exclude": [
    "module",
    "function",
    "builtin_function_or_method",
    "instance",
    "_Feature"
   ],
   "window_display": false
  }
 },
 "nbformat": 4,
 "nbformat_minor": 4
}
