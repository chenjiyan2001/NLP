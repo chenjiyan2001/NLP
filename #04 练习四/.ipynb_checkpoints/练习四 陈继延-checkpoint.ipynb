{
 "cells": [
  {
   "cell_type": "markdown",
   "metadata": {},
   "source": [
    "**写在前面：**\n",
    "1. 本篇就是实现的函数部分，还有一些简单分析（本来是打算作业和函数分开的，来不及搞了，算了）\n",
    "2. 快写完的时候发现columns写错了，写成colnums了，懒的改了。。就当没看到吧&#x1F601;\n",
    "3. 测试例请移步“性能评价”部分。\n",
    "4. 只能说我被这次作业折磨的很惨，已经破防了。。（我感觉是数据集的问题）\n",
    "5. viterbi来不及实现了，再补上吧。。（课上发的代码真没心思看，涉及矩阵运算实在是看不懂。。裂开）\n",
    "6. 跑赢jieba就算成功\n",
    "7. 难过。。放弃viterbi了。修改了getProb，我现在认为我对这个概率图的结构的理解是没问题的"
   ]
  },
  {
   "cell_type": "markdown",
   "metadata": {},
   "source": [
    "# 隐马尔可夫模型"
   ]
  },
  {
   "cell_type": "markdown",
   "metadata": {},
   "source": [
    "## 导入库和数据"
   ]
  },
  {
   "cell_type": "code",
   "execution_count": 5,
   "metadata": {
    "ExecuteTime": {
     "end_time": "2021-04-11T05:21:07.328005Z",
     "start_time": "2021-04-11T05:21:07.312889Z"
    },
    "init_cell": true
   },
   "outputs": [],
   "source": [
    "import numpy as np\n",
    "from graphviz import Digraph\n",
    "import os\n",
    "from tqdm.notebook import tqdm_notebook as tqdm\n",
    "import pandas as pd\n",
    "import matplotlib.pyplot as plt\n",
    "import seaborn as sns\n",
    "from time import time\n",
    "import re\n",
    "\n",
    "# 加速模块，或许会用到\n",
    "from numba import njit"
   ]
  },
  {
   "cell_type": "code",
   "execution_count": 6,
   "metadata": {
    "ExecuteTime": {
     "end_time": "2021-04-11T05:21:07.748730Z",
     "start_time": "2021-04-11T05:21:07.731815Z"
    },
    "init_cell": true
   },
   "outputs": [],
   "source": [
    "font = {'family' : 'SimHei',\n",
    "        'size' : 14}\n",
    "plt.rc('font', **font)               \n",
    "plt.rc('axes', unicode_minus=False)  \n",
    "\n",
    "sighan05 = \"../外部数据/第二届国际中文分词评测/icwb2-data/\" # 语料库\n",
    "SogouW = \"../外部数据/SogouW/Freq/SogouLabDic.dic\" # Sogou字典\n",
    "msr_train = os.path.join(sighan05, 'training', 'msr_training.utf8') # 训练集\n",
    "msr_trainLabel = os.path.join(sighan05, 'training', 'msr_trainLabel.utf8') # 自建标注集\n",
    "msr_test = os.path.join(sighan05, 'testing', 'msr_test.utf8') # 测试集\n",
    "msr_output = os.path.join(sighan05, 'testing', 'msr_output.txt') # 保存输出结果的空文件\n",
    "msr_gold = os.path.join(sighan05, 'gold', 'msr_test_gold.utf8') # 测试集的正确结果\n",
    "\n",
    "OUTFRMAE = \"P:\\t%s\\nR:\\t%s\\nF1:\\t%s\\nOOV-R:\\t%s\\nIV-R:\\t%s\" # 准确性结果的输出格式\n",
    "MIN_FLOAT = float('-inf')"
   ]
  },
  {
   "cell_type": "code",
   "execution_count": 7,
   "metadata": {
    "ExecuteTime": {
     "end_time": "2021-04-11T05:21:08.828662Z",
     "start_time": "2021-04-11T05:21:08.810116Z"
    },
    "init_cell": true
   },
   "outputs": [],
   "source": [
    "# 评价函数\n",
    "def to_region(segmentation: str) -> list: # 词转区间\n",
    "    region = []\n",
    "    start = 0\n",
    "    for word in re.compile(\"\\\\s+\").split(segmentation.strip()):\n",
    "        end = start + len(word)\n",
    "        region.append((start, end))\n",
    "        start = end\n",
    "    return region\n",
    "\n",
    "def prf(gold: str, pred: str, dic) -> tuple: # 计算准确率\n",
    "    A_size, B_size, A_cap_B_size, OOV, IV, OOV_R, IV_R = 0, 0, 0, 0, 0, 0, 0\n",
    "    with open(gold, encoding=\"utf-8\") as gd, open(pred, encoding=\"utf-8\") as pd:\n",
    "        for idx, (g, p) in enumerate(zip(gd, pd)):  # 取出答案：g和预测：p\n",
    "            A, B = set(to_region(g)), set(to_region(p))  # 得到区间\n",
    "            A_size += len(A)\n",
    "            B_size += len(B)\n",
    "            A_cap_B_size += len(A & B)\n",
    "            text = re.sub(\"\\\\s+\", \"\", g)  # 得到原始文本\n",
    "            for (start, end) in A:\n",
    "                word = text[start:end]\n",
    "                if word in dic:\n",
    "                    IV += 1\n",
    "                else:\n",
    "                    OOV += 1\n",
    "\n",
    "            for (start, end) in A & B:\n",
    "                word = text[start:end]\n",
    "                if word in dic:\n",
    "                    IV_R += 1\n",
    "                else:\n",
    "                    OOV_R += 1\n",
    "    p, r = A_cap_B_size / B_size * 100, A_cap_B_size / A_size * 100\n",
    "    OOV_P = OOV_R / OOV * 100\n",
    "    IV_P = IV_R / IV * 100\n",
    "    try:\n",
    "        f1 = 2 * p * r / (p + r)\n",
    "    except:\n",
    "        f1 = '太棒了，收获了一个离天下之大谱的0'\n",
    "    if p - 0 < 1e-5:\n",
    "        p = '哇哦，如此卓越的性能，只有0可以表达'\n",
    "    if r - 0< 1e-5:\n",
    "        r = '这个模型已经棒到无可救药了'\n",
    "    if OOV_P - 0< 1e-5:\n",
    "        OOV_P = '没见过的东西猜不出来也不奇怪吧'\n",
    "    if IV_P - 0< 1e-5:\n",
    "        IV_P = '真是一个伟大的发现，你找到了一个任何数乘上它都不会变的数'\n",
    "    return p, r, f1, OOV_P, IV_P"
   ]
  },
  {
   "cell_type": "code",
   "execution_count": 8,
   "metadata": {
    "ExecuteTime": {
     "end_time": "2021-04-11T05:21:09.777463Z",
     "start_time": "2021-04-11T05:21:09.660021Z"
    },
    "init_cell": true
   },
   "outputs": [],
   "source": [
    "# 读取字典\n",
    "def load_dictionary(dict_file):\n",
    "    fr = open(dict_file,encoding=\"utf-8\")\n",
    "    word_list = [item.strip().split(\"\\t\")[0] for item in fr]\n",
    "    return set(word_list)\n",
    "\n",
    "word_dict = load_dictionary(SogouW)"
   ]
  },
  {
   "cell_type": "markdown",
   "metadata": {},
   "source": [
    "## 隐马尔可夫分词"
   ]
  },
  {
   "cell_type": "markdown",
   "metadata": {},
   "source": [
    "### 序列标注"
   ]
  },
  {
   "cell_type": "code",
   "execution_count": 9,
   "metadata": {
    "ExecuteTime": {
     "end_time": "2021-04-11T05:21:11.112728Z",
     "start_time": "2021-04-11T05:21:11.098765Z"
    }
   },
   "outputs": [],
   "source": [
    "# 自动标注函数\n",
    "def sample_autoLabel(cut_lst):\n",
    "    Label_lst = []\n",
    "    for item in cut_lst: # 空格作为分隔符\n",
    "        length = len(item)\n",
    "        if length == 1:\n",
    "            Label_lst.append('S')\n",
    "        elif length == 2:\n",
    "            Label_lst.extend(['B','E'])\n",
    "        else:\n",
    "            times = length-2\n",
    "            Label_lst.extend(['B'] + ['M']*times + ['E'])\n",
    "    return Label_lst"
   ]
  },
  {
   "cell_type": "code",
   "execution_count": 10,
   "metadata": {
    "ExecuteTime": {
     "end_time": "2021-04-11T05:21:12.939645Z",
     "start_time": "2021-04-11T05:21:11.925817Z"
    }
   },
   "outputs": [
    {
     "data": {
      "application/vnd.jupyter.widget-view+json": {
       "model_id": "6f7829c8d035492486dad385737f8e93",
       "version_major": 2,
       "version_minor": 0
      },
      "text/plain": [
       "0it [00:00, ?it/s]"
      ]
     },
     "metadata": {},
     "output_type": "display_data"
    }
   ],
   "source": [
    "# 进行标注\n",
    "with open(msr_train, encoding='utf-8') as original, \\\n",
    "     open(msr_trainLabel, 'w', encoding='utf-8') as Label:\n",
    "    for sentence in tqdm(original):\n",
    "        cut_lst = sentence.replace('\\n','').split('  ')  # 去除结尾的\\n。注意语料库里是以两个空格进行分割\n",
    "        if cut_lst[0] == '“': # 训练集部分开头有奇怪的引号，这里做判断删去\n",
    "            cut_lst = cut_lst[1:]\n",
    "        sentence_label = ' '.join(sample_autoLabel(cut_lst))\n",
    "        Label.write(sentence_label)\n",
    "        Label.write('\\n')"
   ]
  },
  {
   "cell_type": "markdown",
   "metadata": {},
   "source": [
    "### 隐马尔可夫模型"
   ]
  },
  {
   "cell_type": "markdown",
   "metadata": {},
   "source": [
    "#### 计算初始状态向量$\\pi$ getpi"
   ]
  },
  {
   "cell_type": "code",
   "execution_count": 11,
   "metadata": {
    "ExecuteTime": {
     "end_time": "2021-04-11T05:21:14.501672Z",
     "start_time": "2021-04-11T05:21:14.483720Z"
    }
   },
   "outputs": [],
   "source": [
    "# 计算初始状态向量pi\n",
    "def sample_getpi(label_path, colnums, MIN_FLOAT=MIN_FLOAT):\n",
    "    total = 0\n",
    "    pi_dict = {colnum:0 for colnum in colnums}\n",
    "    with open(label_path, encoding='utf-8') as Label:\n",
    "        for line in Label:\n",
    "            total += 1\n",
    "            first_label = line[0]\n",
    "            pi_dict[first_label] = pi_dict.get(first_label, 0) + 1\n",
    "        else:\n",
    "            for key, value in pi_dict.items():\n",
    "                if value == 0:\n",
    "                    pi_dict[key] = MIN_FLOAT\n",
    "                else:\n",
    "                    pi_dict[key] = np.log10(value / total)\n",
    "    return pi_dict"
   ]
  },
  {
   "cell_type": "code",
   "execution_count": 12,
   "metadata": {
    "ExecuteTime": {
     "end_time": "2021-04-11T05:21:15.578497Z",
     "start_time": "2021-04-11T05:21:15.501689Z"
    }
   },
   "outputs": [
    {
     "data": {
      "text/html": [
       "<div>\n",
       "<style scoped>\n",
       "    .dataframe tbody tr th:only-of-type {\n",
       "        vertical-align: middle;\n",
       "    }\n",
       "\n",
       "    .dataframe tbody tr th {\n",
       "        vertical-align: top;\n",
       "    }\n",
       "\n",
       "    .dataframe thead th {\n",
       "        text-align: right;\n",
       "    }\n",
       "</style>\n",
       "<table border=\"1\" class=\"dataframe\">\n",
       "  <thead>\n",
       "    <tr style=\"text-align: right;\">\n",
       "      <th></th>\n",
       "      <th>B</th>\n",
       "      <th>E</th>\n",
       "      <th>M</th>\n",
       "      <th>S</th>\n",
       "    </tr>\n",
       "  </thead>\n",
       "  <tbody>\n",
       "    <tr>\n",
       "      <th>pi</th>\n",
       "      <td>-0.146279</td>\n",
       "      <td>-inf</td>\n",
       "      <td>-inf</td>\n",
       "      <td>-0.543691</td>\n",
       "    </tr>\n",
       "  </tbody>\n",
       "</table>\n",
       "</div>"
      ],
      "text/plain": [
       "           B    E    M         S\n",
       "pi -0.146279 -inf -inf -0.543691"
      ]
     },
     "execution_count": 12,
     "metadata": {},
     "output_type": "execute_result"
    }
   ],
   "source": [
    "# 得到初始状态向量pi\n",
    "colnums = ['B', 'E', 'M', 'S']\n",
    "pi_dict = sample_getpi(msr_trainLabel, colnums)\n",
    "pi_df = pd.DataFrame(pi_dict, index=['pi'])\n",
    "pi_df"
   ]
  },
  {
   "cell_type": "code",
   "execution_count": 13,
   "metadata": {
    "ExecuteTime": {
     "end_time": "2021-04-11T05:21:17.049520Z",
     "start_time": "2021-04-11T05:21:17.034494Z"
    }
   },
   "outputs": [
    {
     "data": {
      "text/plain": [
       "array([[-0.14627895,        -inf,        -inf, -0.54369099]])"
      ]
     },
     "execution_count": 13,
     "metadata": {},
     "output_type": "execute_result"
    }
   ],
   "source": [
    "np.array(pi_df) # 同样可以转换为ndarray的形式"
   ]
  },
  {
   "cell_type": "markdown",
   "metadata": {},
   "source": [
    "#### 计算状态转移矩阵$A$ getA"
   ]
  },
  {
   "cell_type": "code",
   "execution_count": 14,
   "metadata": {
    "ExecuteTime": {
     "end_time": "2021-04-11T05:21:18.949176Z",
     "start_time": "2021-04-11T05:21:18.942223Z"
    }
   },
   "outputs": [],
   "source": [
    "# 计算状态转移矩阵A\n",
    "def sample_getA(label_path, colnums, MIN_FLOAT=MIN_FLOAT):\n",
    "    A_dict = {colnum:{colnum:0 for colnum in colnums} for colnum in colnums} # 嵌套字典推导式\n",
    "    total_dict = {colnum:0 for colnum in colnums}\n",
    "    with open(label_path, encoding='utf-8') as Label:\n",
    "        for line in tqdm(Label):\n",
    "            idx = 0\n",
    "            label_lst = line.replace('\\n','').split(' ') \n",
    "            while idx+1 < len(label_lst):\n",
    "                present_label = label_lst[idx]\n",
    "                next_label = label_lst[idx+1]\n",
    "                A_dict[present_label][next_label] = A_dict[present_label].get(next_label) + 1\n",
    "                total_dict[present_label] = total_dict.get(present_label) + 1\n",
    "                idx += 1\n",
    "        else:\n",
    "            for key in A_dict.keys(): # 进入第一层\n",
    "                for times in A_dict[key].keys(): # 进入第二层，值代表该label出现的次数\n",
    "                    if A_dict[key][times] == 0:\n",
    "                        A_dict[key][times] = MIN_FLOAT\n",
    "                    else:\n",
    "                        A_dict[key][times] = np.log10(A_dict[key][times] / total_dict[key]) # 将次数转为概率\n",
    "    return A_dict, total_dict"
   ]
  },
  {
   "cell_type": "code",
   "execution_count": 15,
   "metadata": {
    "ExecuteTime": {
     "end_time": "2021-04-11T05:21:21.209428Z",
     "start_time": "2021-04-11T05:21:19.451092Z"
    }
   },
   "outputs": [
    {
     "data": {
      "application/vnd.jupyter.widget-view+json": {
       "model_id": "5f290f95e7f34fe09aafbd213554061e",
       "version_major": 2,
       "version_minor": 0
      },
      "text/plain": [
       "0it [00:00, ?it/s]"
      ]
     },
     "metadata": {},
     "output_type": "display_data"
    },
    {
     "data": {
      "text/html": [
       "<div>\n",
       "<style scoped>\n",
       "    .dataframe tbody tr th:only-of-type {\n",
       "        vertical-align: middle;\n",
       "    }\n",
       "\n",
       "    .dataframe tbody tr th {\n",
       "        vertical-align: top;\n",
       "    }\n",
       "\n",
       "    .dataframe thead th {\n",
       "        text-align: right;\n",
       "    }\n",
       "</style>\n",
       "<table border=\"1\" class=\"dataframe\">\n",
       "  <thead>\n",
       "    <tr style=\"text-align: right;\">\n",
       "      <th></th>\n",
       "      <th>B</th>\n",
       "      <th>E</th>\n",
       "      <th>M</th>\n",
       "      <th>S</th>\n",
       "    </tr>\n",
       "  </thead>\n",
       "  <tbody>\n",
       "    <tr>\n",
       "      <th>B</th>\n",
       "      <td>-inf</td>\n",
       "      <td>-0.081497</td>\n",
       "      <td>-0.766756</td>\n",
       "      <td>-inf</td>\n",
       "    </tr>\n",
       "    <tr>\n",
       "      <th>E</th>\n",
       "      <td>-0.323808</td>\n",
       "      <td>-inf</td>\n",
       "      <td>-inf</td>\n",
       "      <td>-0.279388</td>\n",
       "    </tr>\n",
       "    <tr>\n",
       "      <th>M</th>\n",
       "      <td>-inf</td>\n",
       "      <td>-0.297700</td>\n",
       "      <td>-0.304385</td>\n",
       "      <td>-inf</td>\n",
       "    </tr>\n",
       "    <tr>\n",
       "      <th>S</th>\n",
       "      <td>-0.233541</td>\n",
       "      <td>-inf</td>\n",
       "      <td>-inf</td>\n",
       "      <td>-0.380972</td>\n",
       "    </tr>\n",
       "  </tbody>\n",
       "</table>\n",
       "</div>"
      ],
      "text/plain": [
       "          B         E         M         S\n",
       "B      -inf -0.081497 -0.766756      -inf\n",
       "E -0.323808      -inf      -inf -0.279388\n",
       "M      -inf -0.297700 -0.304385      -inf\n",
       "S -0.233541      -inf      -inf -0.380972"
      ]
     },
     "execution_count": 15,
     "metadata": {},
     "output_type": "execute_result"
    }
   ],
   "source": [
    "# 得到状态转移矩阵A\n",
    "colnums = ['B', 'E', 'M', 'S']\n",
    "A_dict, total_dict = sample_getA(msr_trainLabel, colnums)\n",
    "A_df = pd.DataFrame(A_dict).T\n",
    "A_df # 纵轴对应idx，横轴对应idx+1。"
   ]
  },
  {
   "cell_type": "code",
   "execution_count": 16,
   "metadata": {
    "ExecuteTime": {
     "end_time": "2021-04-11T05:21:27.278648Z",
     "start_time": "2021-04-11T05:21:27.098919Z"
    }
   },
   "outputs": [
    {
     "data": {
      "image/png": "[encoded data removed]",
      "text/plain": [
       "<Figure size 432x288 with 2 Axes>"
      ]
     },
     "metadata": {
      "needs_background": "light"
     },
     "output_type": "display_data"
    }
   ],
   "source": [
    "# 状态转移矩阵A的可视化(原来概率值没加log和-inf的时候时，还是可以实现效果的)\n",
    "plt.figure()\n",
    "plt.title('状态转移矩阵A')\n",
    "sns.heatmap(A_df, linecolor='k', linewidths=1, cmap=plt.cm.BuGn)\n",
    "plt.xlabel('idx+1')\n",
    "plt.ylabel('idx')\n",
    "plt.yticks(rotation=0)\n",
    "plt.show()"
   ]
  },
  {
   "cell_type": "code",
   "execution_count": 148,
   "metadata": {
    "ExecuteTime": {
     "end_time": "2021-04-05T14:25:34.592416Z",
     "start_time": "2021-04-05T14:25:34.573578Z"
    }
   },
   "outputs": [
    {
     "data": {
      "text/html": [
       "<div>\n",
       "<style scoped>\n",
       "    .dataframe tbody tr th:only-of-type {\n",
       "        vertical-align: middle;\n",
       "    }\n",
       "\n",
       "    .dataframe tbody tr th {\n",
       "        vertical-align: top;\n",
       "    }\n",
       "\n",
       "    .dataframe thead th {\n",
       "        text-align: right;\n",
       "    }\n",
       "</style>\n",
       "<table border=\"1\" class=\"dataframe\">\n",
       "  <thead>\n",
       "    <tr style=\"text-align: right;\">\n",
       "      <th></th>\n",
       "      <th>B</th>\n",
       "      <th>E</th>\n",
       "      <th>M</th>\n",
       "      <th>S</th>\n",
       "    </tr>\n",
       "  </thead>\n",
       "  <tbody>\n",
       "    <tr>\n",
       "      <th>times</th>\n",
       "      <td>1257680</td>\n",
       "      <td>1256761</td>\n",
       "      <td>427085</td>\n",
       "      <td>1026158</td>\n",
       "    </tr>\n",
       "  </tbody>\n",
       "</table>\n",
       "</div>"
      ],
      "text/plain": [
       "             B        E       M        S\n",
       "times  1257680  1256761  427085  1026158"
      ]
     },
     "execution_count": 148,
     "metadata": {},
     "output_type": "execute_result"
    }
   ],
   "source": [
    "# 频次\n",
    "total_df = pd.DataFrame(total_dict, index=['times'])\n",
    "total_df"
   ]
  },
  {
   "cell_type": "code",
   "execution_count": 149,
   "metadata": {
    "ExecuteTime": {
     "end_time": "2021-04-05T14:25:39.267637Z",
     "start_time": "2021-04-05T14:25:39.119532Z"
    }
   },
   "outputs": [
    {
     "data": {
      "image/png": "[encoded data removed]",
      "text/plain": [
       "<Figure size 432x288 with 1 Axes>"
      ]
     },
     "metadata": {
      "needs_background": "light"
     },
     "output_type": "display_data"
    }
   ],
   "source": [
    "# 频次可视化\n",
    "plt.bar(x=total_df.columns, height=total_df.values.ravel())\n",
    "plt.title('频次柱状图')\n",
    "plt.show()"
   ]
  },
  {
   "cell_type": "markdown",
   "metadata": {},
   "source": [
    "#### 计算发射概率矩阵$B$ getB"
   ]
  },
  {
   "cell_type": "code",
   "execution_count": 17,
   "metadata": {
    "ExecuteTime": {
     "end_time": "2021-04-11T05:21:30.854602Z",
     "start_time": "2021-04-11T05:21:30.841624Z"
    }
   },
   "outputs": [],
   "source": [
    "# 计算发射概率矩阵B\n",
    "def sample_getB(text_path, label_path, colnums, MIN_FLOAT=MIN_FLOAT):\n",
    "    with open(text_path, encoding='utf-8') as text:\n",
    "        # 得到语料库中单字的集合\n",
    "        word_set = set(list(text.read().replace('\\n','').replace(' ',''))) \n",
    "        # 形同A，每个字各词性出现次数的矩阵\n",
    "        B_dict = {word:{colnum:0 for colnum in colnums} for word in word_set} \n",
    "        # 每个字出现次数的矩阵\n",
    "        total_dict = {word:0 for word in word_set}\n",
    "    with open(text_path, encoding='utf-8') as text, \\\n",
    "         open(label_path, encoding='utf-8') as Label:\n",
    "        for sentence, sentence_label in tqdm(zip(text, Label)):\n",
    "            idx = 0\n",
    "            word_lst = list(sentence.replace('\\n','').replace(' ','')) # 划分为单字列表\n",
    "            label_lst = list(sentence_label.replace('\\n','').replace(' ','')) # 同理\n",
    "            for word, label in zip(word_lst, label_lst):\n",
    "                B_dict[word][label] += 1\n",
    "                total_dict[word] += 1\n",
    "        else:\n",
    "            for key in B_dict.keys(): # 进入第一层\n",
    "                for times in B_dict[key].keys(): # 进入第二层，值代表该label出现的次数\n",
    "                    if total_dict[key] == 0:\n",
    "#                         print(key) # 这里发现['g','琨','雉','炔']的times为0，按道理times必大于0呀？\n",
    "                        continue\n",
    "                    if B_dict[key][times] == 0:\n",
    "                        B_dict[key][times] = MIN_FLOAT\n",
    "                    else:\n",
    "                        B_dict[key][times] = np.log10(B_dict[key][times] / total_dict[key]) # 将次数转为概率\n",
    "    return B_dict, total_dict"
   ]
  },
  {
   "cell_type": "code",
   "execution_count": 18,
   "metadata": {
    "ExecuteTime": {
     "end_time": "2021-04-11T05:21:35.031910Z",
     "start_time": "2021-04-11T05:21:32.262952Z"
    }
   },
   "outputs": [
    {
     "data": {
      "application/vnd.jupyter.widget-view+json": {
       "model_id": "9cf53044173c4dcdba68ce4d0741860f",
       "version_major": 2,
       "version_minor": 0
      },
      "text/plain": [
       "0it [00:00, ?it/s]"
      ]
     },
     "metadata": {},
     "output_type": "display_data"
    },
    {
     "data": {
      "text/html": [
       "<div>\n",
       "<style scoped>\n",
       "    .dataframe tbody tr th:only-of-type {\n",
       "        vertical-align: middle;\n",
       "    }\n",
       "\n",
       "    .dataframe tbody tr th {\n",
       "        vertical-align: top;\n",
       "    }\n",
       "\n",
       "    .dataframe thead th {\n",
       "        text-align: right;\n",
       "    }\n",
       "</style>\n",
       "<table border=\"1\" class=\"dataframe\">\n",
       "  <thead>\n",
       "    <tr style=\"text-align: right;\">\n",
       "      <th></th>\n",
       "      <th>潸</th>\n",
       "      <th>章</th>\n",
       "      <th>拦</th>\n",
       "      <th>磁</th>\n",
       "      <th>搁</th>\n",
       "      <th>帐</th>\n",
       "      <th>ｈ</th>\n",
       "      <th>恪</th>\n",
       "      <th>O</th>\n",
       "      <th>骛</th>\n",
       "      <th>...</th>\n",
       "      <th>昱</th>\n",
       "      <th>祈</th>\n",
       "      <th>洛</th>\n",
       "      <th>阴</th>\n",
       "      <th>杳</th>\n",
       "      <th>邰</th>\n",
       "      <th>纶</th>\n",
       "      <th>爱</th>\n",
       "      <th>羸</th>\n",
       "      <th>闳</th>\n",
       "    </tr>\n",
       "  </thead>\n",
       "  <tbody>\n",
       "    <tr>\n",
       "      <th>B</th>\n",
       "      <td>0.0</td>\n",
       "      <td>-1.099309</td>\n",
       "      <td>-0.265032</td>\n",
       "      <td>-0.357511</td>\n",
       "      <td>-0.237361</td>\n",
       "      <td>-0.064117</td>\n",
       "      <td>-0.660052</td>\n",
       "      <td>-0.496007</td>\n",
       "      <td>-inf</td>\n",
       "      <td>-inf</td>\n",
       "      <td>...</td>\n",
       "      <td>-inf</td>\n",
       "      <td>-0.029963</td>\n",
       "      <td>-0.666591</td>\n",
       "      <td>-0.739484</td>\n",
       "      <td>-0.30103</td>\n",
       "      <td>-inf</td>\n",
       "      <td>-inf</td>\n",
       "      <td>-0.411050</td>\n",
       "      <td>0.0</td>\n",
       "      <td>-inf</td>\n",
       "    </tr>\n",
       "    <tr>\n",
       "      <th>E</th>\n",
       "      <td>-inf</td>\n",
       "      <td>-0.112193</td>\n",
       "      <td>-0.867092</td>\n",
       "      <td>-1.186815</td>\n",
       "      <td>-0.977724</td>\n",
       "      <td>-1.406540</td>\n",
       "      <td>-0.903090</td>\n",
       "      <td>-0.393344</td>\n",
       "      <td>-inf</td>\n",
       "      <td>-0.30103</td>\n",
       "      <td>...</td>\n",
       "      <td>-inf</td>\n",
       "      <td>-inf</td>\n",
       "      <td>-0.853353</td>\n",
       "      <td>-0.640649</td>\n",
       "      <td>-inf</td>\n",
       "      <td>-inf</td>\n",
       "      <td>-0.30103</td>\n",
       "      <td>-0.548753</td>\n",
       "      <td>-inf</td>\n",
       "      <td>0.0</td>\n",
       "    </tr>\n",
       "    <tr>\n",
       "      <th>M</th>\n",
       "      <td>-inf</td>\n",
       "      <td>-1.112882</td>\n",
       "      <td>-1.908485</td>\n",
       "      <td>-0.943777</td>\n",
       "      <td>-inf</td>\n",
       "      <td>-1.230449</td>\n",
       "      <td>-0.182931</td>\n",
       "      <td>-inf</td>\n",
       "      <td>0.0</td>\n",
       "      <td>-inf</td>\n",
       "      <td>...</td>\n",
       "      <td>0.0</td>\n",
       "      <td>-inf</td>\n",
       "      <td>-0.193706</td>\n",
       "      <td>-1.003531</td>\n",
       "      <td>-inf</td>\n",
       "      <td>0.0</td>\n",
       "      <td>-0.30103</td>\n",
       "      <td>-1.030610</td>\n",
       "      <td>-inf</td>\n",
       "      <td>-inf</td>\n",
       "    </tr>\n",
       "    <tr>\n",
       "      <th>S</th>\n",
       "      <td>-inf</td>\n",
       "      <td>-1.148794</td>\n",
       "      <td>-0.510545</td>\n",
       "      <td>-0.417807</td>\n",
       "      <td>-0.500602</td>\n",
       "      <td>-1.406540</td>\n",
       "      <td>-inf</td>\n",
       "      <td>-0.558155</td>\n",
       "      <td>-inf</td>\n",
       "      <td>-0.30103</td>\n",
       "      <td>...</td>\n",
       "      <td>-inf</td>\n",
       "      <td>-1.176091</td>\n",
       "      <td>-2.378398</td>\n",
       "      <td>-0.309912</td>\n",
       "      <td>-0.30103</td>\n",
       "      <td>-inf</td>\n",
       "      <td>-inf</td>\n",
       "      <td>-0.626993</td>\n",
       "      <td>-inf</td>\n",
       "      <td>-inf</td>\n",
       "    </tr>\n",
       "  </tbody>\n",
       "</table>\n",
       "<p>4 rows × 5168 columns</p>\n",
       "</div>"
      ],
      "text/plain": [
       "     潸         章         拦         磁         搁         帐         ｈ         恪  \\\n",
       "B  0.0 -1.099309 -0.265032 -0.357511 -0.237361 -0.064117 -0.660052 -0.496007   \n",
       "E -inf -0.112193 -0.867092 -1.186815 -0.977724 -1.406540 -0.903090 -0.393344   \n",
       "M -inf -1.112882 -1.908485 -0.943777      -inf -1.230449 -0.182931      -inf   \n",
       "S -inf -1.148794 -0.510545 -0.417807 -0.500602 -1.406540      -inf -0.558155   \n",
       "\n",
       "     O        骛  ...    昱         祈         洛         阴        杳    邰  \\\n",
       "B -inf     -inf  ... -inf -0.029963 -0.666591 -0.739484 -0.30103 -inf   \n",
       "E -inf -0.30103  ... -inf      -inf -0.853353 -0.640649     -inf -inf   \n",
       "M  0.0     -inf  ...  0.0      -inf -0.193706 -1.003531     -inf  0.0   \n",
       "S -inf -0.30103  ... -inf -1.176091 -2.378398 -0.309912 -0.30103 -inf   \n",
       "\n",
       "         纶         爱    羸    闳  \n",
       "B     -inf -0.411050  0.0 -inf  \n",
       "E -0.30103 -0.548753 -inf  0.0  \n",
       "M -0.30103 -1.030610 -inf -inf  \n",
       "S     -inf -0.626993 -inf -inf  \n",
       "\n",
       "[4 rows x 5168 columns]"
      ]
     },
     "execution_count": 18,
     "metadata": {},
     "output_type": "execute_result"
    }
   ],
   "source": [
    "# 得到发射概率矩阵B\n",
    "colnums = ['B', 'E', 'M', 'S']\n",
    "B_dict, total_dict = sample_getB(msr_train, msr_trainLabel, colnums)\n",
    "B_df = pd.DataFrame(B_dict)\n",
    "B_df"
   ]
  },
  {
   "cell_type": "code",
   "execution_count": 20,
   "metadata": {
    "ExecuteTime": {
     "end_time": "2021-04-11T05:21:51.743922Z",
     "start_time": "2021-04-11T05:21:51.530695Z"
    }
   },
   "outputs": [
    {
     "data": {
      "text/html": [
       "<div>\n",
       "<style scoped>\n",
       "    .dataframe tbody tr th:only-of-type {\n",
       "        vertical-align: middle;\n",
       "    }\n",
       "\n",
       "    .dataframe tbody tr th {\n",
       "        vertical-align: top;\n",
       "    }\n",
       "\n",
       "    .dataframe thead th {\n",
       "        text-align: right;\n",
       "    }\n",
       "</style>\n",
       "<table border=\"1\" class=\"dataframe\">\n",
       "  <thead>\n",
       "    <tr style=\"text-align: right;\">\n",
       "      <th></th>\n",
       "      <th>潸</th>\n",
       "      <th>章</th>\n",
       "      <th>拦</th>\n",
       "      <th>磁</th>\n",
       "      <th>搁</th>\n",
       "      <th>帐</th>\n",
       "      <th>ｈ</th>\n",
       "      <th>恪</th>\n",
       "      <th>O</th>\n",
       "      <th>骛</th>\n",
       "      <th>...</th>\n",
       "      <th>昱</th>\n",
       "      <th>祈</th>\n",
       "      <th>洛</th>\n",
       "      <th>阴</th>\n",
       "      <th>杳</th>\n",
       "      <th>邰</th>\n",
       "      <th>纶</th>\n",
       "      <th>爱</th>\n",
       "      <th>羸</th>\n",
       "      <th>闳</th>\n",
       "    </tr>\n",
       "  </thead>\n",
       "  <tbody>\n",
       "    <tr>\n",
       "      <th>times</th>\n",
       "      <td>5</td>\n",
       "      <td>817</td>\n",
       "      <td>81</td>\n",
       "      <td>123</td>\n",
       "      <td>19</td>\n",
       "      <td>51</td>\n",
       "      <td>32</td>\n",
       "      <td>47</td>\n",
       "      <td>2</td>\n",
       "      <td>2</td>\n",
       "      <td>...</td>\n",
       "      <td>2</td>\n",
       "      <td>15</td>\n",
       "      <td>478</td>\n",
       "      <td>494</td>\n",
       "      <td>2</td>\n",
       "      <td>2</td>\n",
       "      <td>2</td>\n",
       "      <td>1631</td>\n",
       "      <td>1</td>\n",
       "      <td>1</td>\n",
       "    </tr>\n",
       "  </tbody>\n",
       "</table>\n",
       "<p>1 rows × 5168 columns</p>\n",
       "</div>"
      ],
      "text/plain": [
       "       潸    章   拦    磁   搁   帐   ｈ   恪  O  骛  ...  昱   祈    洛    阴  杳  邰  纶  \\\n",
       "times  5  817  81  123  19  51  32  47  2  2  ...  2  15  478  494  2  2  2   \n",
       "\n",
       "          爱  羸  闳  \n",
       "times  1631  1  1  \n",
       "\n",
       "[1 rows x 5168 columns]"
      ]
     },
     "execution_count": 20,
     "metadata": {},
     "output_type": "execute_result"
    }
   ],
   "source": [
    "# 频次\n",
    "total_df = pd.DataFrame(total_dict, index=['times'])\n",
    "total_df"
   ]
  },
  {
   "cell_type": "code",
   "execution_count": 21,
   "metadata": {
    "ExecuteTime": {
     "end_time": "2021-04-11T05:21:52.259797Z",
     "start_time": "2021-04-11T05:21:52.136692Z"
    }
   },
   "outputs": [
    {
     "data": {
      "image/png": "[encoded data removed]",
      "text/plain": [
       "<Figure size 432x288 with 1 Axes>"
      ]
     },
     "metadata": {
      "needs_background": "light"
     },
     "output_type": "display_data"
    }
   ],
   "source": [
    "# 频次可视化\n",
    "total_df.T.sort_values(by='times',ascending=False).apply(lambda x:np.log(x)).plot()\n",
    "plt.show()"
   ]
  },
  {
   "cell_type": "markdown",
   "metadata": {},
   "source": [
    "#### 概率计算 getProb"
   ]
  },
  {
   "cell_type": "code",
   "execution_count": 22,
   "metadata": {
    "ExecuteTime": {
     "end_time": "2021-04-11T05:21:54.433421Z",
     "start_time": "2021-04-11T05:21:54.425442Z"
    }
   },
   "outputs": [],
   "source": [
    "def sample_getProb(sentence, pi, A, B, MIN_FLOAT=MIN_FLOAT): # 因为之前的输出是DataFrame，这里就直接用了。\n",
    "    # 注意这里的sentence格式为未分词的句子\n",
    "    columns = pi.columns # 隐状态\n",
    "    pi = pi.reset_index(drop=True)\n",
    "    prob_DAG = []\n",
    "    # 节点的概率组合↓\n",
    "    node_prob_dict = {column:{column:MIN_FLOAT for column in columns} for column in columns} \n",
    "    # 第1层↓\n",
    "    for before in columns:\n",
    "        for present in columns:\n",
    "            prob_pi = pi.loc[0, before] \n",
    "            prob_b = B.loc[present, sentence[0]]\n",
    "            node_prob_dict[before][present] = prob_pi + prob_b\n",
    "    else:\n",
    "        prob_DAG.append(node_prob_dict)\n",
    "        node_prob_dict = {column:{column:MIN_FLOAT for column in columns} for column in columns} \n",
    "    # 构建概率图↓\n",
    "    for idx, word in enumerate(list(sentence)[1:]): \n",
    "        for before in columns: # 每个节点有N个值，每层共计算N^2次（N为隐状态个数）\n",
    "            for present in columns:\n",
    "                prob_a = A.loc[before, present] \n",
    "                prob_b = B.loc[present, word]\n",
    "                node_prob_dict[before][present] = prob_a + prob_b\n",
    "        else: # 节点生成完毕，添加至概率图\n",
    "            prob_DAG.append(node_prob_dict)\n",
    "            # 千万注意！！这里要重新定义一次来生成一个新的地址，\n",
    "            # 否则会导致存入node_prob_dict的值全部指向同一个地址（即最后一个值），导致DAG里的值全部相同！\n",
    "            node_prob_dict = {column:{column:MIN_FLOAT for column in columns} for column in columns} \n",
    "    else: # 构建完毕，返回概率图\n",
    "        return prob_DAG"
   ]
  },
  {
   "cell_type": "markdown",
   "metadata": {},
   "source": [
    "#### 最大概率路径 route"
   ]
  },
  {
   "cell_type": "markdown",
   "metadata": {},
   "source": [
    "##### 遍历求解\n",
    "- **缺陷：**指数级增长，巨慢。。"
   ]
  },
  {
   "cell_type": "code",
   "execution_count": 61,
   "metadata": {
    "ExecuteTime": {
     "end_time": "2021-04-06T08:15:46.780769Z",
     "start_time": "2021-04-06T08:15:46.775747Z"
    }
   },
   "outputs": [],
   "source": [
    "def traverse_route(DAG, colnums):\n",
    "    next_route_prob = []\n",
    "    '''\n",
    "    present_route初始化\n",
    "    原始：{'B': -0.3493522, 'E': -inf, 'M': -inf, 'S': -1.2212706}\n",
    "    变换：[(['B'], -0.3493522), (['E'], -inf), (['M'], -inf), (['S'], -1.2212706)]\n",
    "    '''\n",
    "    present_route_prob = list(\n",
    "        map(lambda x: (list(x[0]), x[1]), list(DAG[0].items())))\n",
    "    for tier in tqdm(DAG[1:], desc=\"层数\"):  # 按层遍历\n",
    "        for route_combination in tqdm(present_route_prob,\n",
    "                                      desc=\"组合数\",\n",
    "                                      leave=False):  # 遍历当前得到的所有路径组合\n",
    "            begin_node = route_combination[0][-1]  # 起点\n",
    "            for next_node, prob in tier[begin_node].items():  # 得到下一节点的所有可能\n",
    "                new_route = route_combination[0] + [next_node]  # 得到新的组合\n",
    "                new_prob = route_combination[1] + prob\n",
    "                next_route_prob.append((new_route, new_prob))\n",
    "        else:\n",
    "            present_route_prob = next_route_prob\n",
    "            next_route_prob = []\n",
    "    else:  # 遍历完毕，返回最优路径\n",
    "        best_route_prob = max(present_route_prob, key=lambda x: x[1])\n",
    "        best_route = best_route_prob[0]\n",
    "        best_prob = best_route_prob[1]\n",
    "        return best_route, best_prob"
   ]
  },
  {
   "cell_type": "code",
   "execution_count": 30,
   "metadata": {
    "ExecuteTime": {
     "end_time": "2021-04-06T03:24:29.692389Z",
     "start_time": "2021-04-06T03:24:29.679260Z"
    }
   },
   "outputs": [],
   "source": [
    "sentence = open(msr_train, encoding='utf-8').readline(24)\n",
    "sentence = sentence.replace('\\n','').replace(' ','')\n",
    "DAG = sample_getProb(sentence, pi_df, A_df, B_df)\n",
    "# best_route, best_prob = traverse_route(DAG, \"BEMS\")"
   ]
  },
  {
   "cell_type": "markdown",
   "metadata": {},
   "source": [
    "##### 贪心求解\n",
    "- **缺陷：**显然，得到的结果很大概率并不是最优解"
   ]
  },
  {
   "cell_type": "code",
   "execution_count": 87,
   "metadata": {
    "ExecuteTime": {
     "end_time": "2021-04-06T08:21:28.897359Z",
     "start_time": "2021-04-06T08:21:28.889461Z"
    }
   },
   "outputs": [],
   "source": [
    "# 贪心求解\n",
    "def greed_route(DAG, colnums):\n",
    "    cut_lst = []\n",
    "    sum_prob = 0\n",
    "#     # pi层↓\n",
    "#     pi_prob = list(DAG[0].values())\n",
    "#     col_idx = np.argmax(pi_prob)\n",
    "#     sum_prob += max(pi_prob)\n",
    "#     cut_lst.append(colnums[col_idx])\n",
    "    # 按序得到局部最大↓\n",
    "    for tier_idx in range(1, len(DAG)):\n",
    "        node = DAG[tier_idx]\n",
    "        node_prob = list(node[cut_lst[tier_idx]].values()) # 因为上一级节点已经选好，所以当前只有N种选择\n",
    "        col_idx = np.argmax(node_prob)\n",
    "        sum_prob += max(node_prob)\n",
    "        cut_lst.append(colnums[col_idx])\n",
    "    return sum_prob, cut_lst"
   ]
  },
  {
   "cell_type": "code",
   "execution_count": 88,
   "metadata": {
    "ExecuteTime": {
     "end_time": "2021-04-06T08:21:29.314434Z",
     "start_time": "2021-04-06T08:21:29.273530Z"
    },
    "collapsed": true
   },
   "outputs": [
    {
     "ename": "TypeError",
     "evalue": "'>' not supported between instances of 'dict' and 'dict'",
     "output_type": "error",
     "traceback": [
      "\u001b[1;31m---------------------------------------------------------------------------\u001b[0m",
      "\u001b[1;31mTypeError\u001b[0m                                 Traceback (most recent call last)",
      "\u001b[1;32m<ipython-input-88-3e3932e7a53f>\u001b[0m in \u001b[0;36m<module>\u001b[1;34m()\u001b[0m\n\u001b[0;32m      2\u001b[0m \u001b[0msentence\u001b[0m \u001b[1;33m=\u001b[0m \u001b[0msentence\u001b[0m\u001b[1;33m.\u001b[0m\u001b[0mreplace\u001b[0m\u001b[1;33m(\u001b[0m\u001b[1;34m'\\n'\u001b[0m\u001b[1;33m,\u001b[0m\u001b[1;34m''\u001b[0m\u001b[1;33m)\u001b[0m\u001b[1;33m.\u001b[0m\u001b[0mreplace\u001b[0m\u001b[1;33m(\u001b[0m\u001b[1;34m' '\u001b[0m\u001b[1;33m,\u001b[0m\u001b[1;34m''\u001b[0m\u001b[1;33m)\u001b[0m\u001b[1;33m\u001b[0m\u001b[0m\n\u001b[0;32m      3\u001b[0m \u001b[0mDAG\u001b[0m \u001b[1;33m=\u001b[0m \u001b[0msample_getProb\u001b[0m\u001b[1;33m(\u001b[0m\u001b[0msentence\u001b[0m\u001b[1;33m,\u001b[0m \u001b[0mpi_df\u001b[0m\u001b[1;33m,\u001b[0m \u001b[0mA_df\u001b[0m\u001b[1;33m,\u001b[0m \u001b[0mB_df\u001b[0m\u001b[1;33m)\u001b[0m\u001b[1;33m\u001b[0m\u001b[0m\n\u001b[1;32m----> 4\u001b[1;33m \u001b[0msum_prob\u001b[0m\u001b[1;33m,\u001b[0m \u001b[0mcut_lst\u001b[0m \u001b[1;33m=\u001b[0m \u001b[0mgreed_route\u001b[0m\u001b[1;33m(\u001b[0m\u001b[0mDAG\u001b[0m\u001b[1;33m,\u001b[0m \u001b[1;34m\"BEMS\"\u001b[0m\u001b[1;33m)\u001b[0m\u001b[1;33m\u001b[0m\u001b[0m\n\u001b[0m",
      "\u001b[1;32m<ipython-input-87-ca40cd9984d2>\u001b[0m in \u001b[0;36mgreed_route\u001b[1;34m(DAG, colnums)\u001b[0m\n\u001b[0;32m      5\u001b[0m     \u001b[1;31m# 第1层↓\u001b[0m\u001b[1;33m\u001b[0m\u001b[1;33m\u001b[0m\u001b[0m\n\u001b[0;32m      6\u001b[0m     \u001b[0mnode_prob\u001b[0m \u001b[1;33m=\u001b[0m \u001b[0mlist\u001b[0m\u001b[1;33m(\u001b[0m\u001b[0mDAG\u001b[0m\u001b[1;33m[\u001b[0m\u001b[1;36m0\u001b[0m\u001b[1;33m]\u001b[0m\u001b[1;33m.\u001b[0m\u001b[0mvalues\u001b[0m\u001b[1;33m(\u001b[0m\u001b[1;33m)\u001b[0m\u001b[1;33m)\u001b[0m\u001b[1;33m\u001b[0m\u001b[0m\n\u001b[1;32m----> 7\u001b[1;33m     \u001b[0mcol_idx\u001b[0m \u001b[1;33m=\u001b[0m \u001b[0mnp\u001b[0m\u001b[1;33m.\u001b[0m\u001b[0margmax\u001b[0m\u001b[1;33m(\u001b[0m\u001b[0mnode_prob\u001b[0m\u001b[1;33m)\u001b[0m\u001b[1;33m\u001b[0m\u001b[0m\n\u001b[0m\u001b[0;32m      8\u001b[0m     \u001b[0msum_prob\u001b[0m \u001b[1;33m+=\u001b[0m \u001b[0mmax\u001b[0m\u001b[1;33m(\u001b[0m\u001b[0mnode_prob\u001b[0m\u001b[1;33m)\u001b[0m\u001b[1;33m\u001b[0m\u001b[0m\n\u001b[0;32m      9\u001b[0m     \u001b[0mcut_lst\u001b[0m\u001b[1;33m.\u001b[0m\u001b[0mappend\u001b[0m\u001b[1;33m(\u001b[0m\u001b[0mcolnums\u001b[0m\u001b[1;33m[\u001b[0m\u001b[0mcol_idx\u001b[0m\u001b[1;33m]\u001b[0m\u001b[1;33m)\u001b[0m\u001b[1;33m\u001b[0m\u001b[0m\n",
      "\u001b[1;32m<__array_function__ internals>\u001b[0m in \u001b[0;36margmax\u001b[1;34m(*args, **kwargs)\u001b[0m\n",
      "\u001b[1;32m~\\AppData\\Roaming\\Python\\Python37\\site-packages\\numpy\\core\\fromnumeric.py\u001b[0m in \u001b[0;36margmax\u001b[1;34m(a, axis, out)\u001b[0m\n\u001b[0;32m   1186\u001b[0m \u001b[1;33m\u001b[0m\u001b[0m\n\u001b[0;32m   1187\u001b[0m     \"\"\"\n\u001b[1;32m-> 1188\u001b[1;33m     \u001b[1;32mreturn\u001b[0m \u001b[0m_wrapfunc\u001b[0m\u001b[1;33m(\u001b[0m\u001b[0ma\u001b[0m\u001b[1;33m,\u001b[0m \u001b[1;34m'argmax'\u001b[0m\u001b[1;33m,\u001b[0m \u001b[0maxis\u001b[0m\u001b[1;33m=\u001b[0m\u001b[0maxis\u001b[0m\u001b[1;33m,\u001b[0m \u001b[0mout\u001b[0m\u001b[1;33m=\u001b[0m\u001b[0mout\u001b[0m\u001b[1;33m)\u001b[0m\u001b[1;33m\u001b[0m\u001b[0m\n\u001b[0m\u001b[0;32m   1189\u001b[0m \u001b[1;33m\u001b[0m\u001b[0m\n\u001b[0;32m   1190\u001b[0m \u001b[1;33m\u001b[0m\u001b[0m\n",
      "\u001b[1;32m~\\AppData\\Roaming\\Python\\Python37\\site-packages\\numpy\\core\\fromnumeric.py\u001b[0m in \u001b[0;36m_wrapfunc\u001b[1;34m(obj, method, *args, **kwds)\u001b[0m\n\u001b[0;32m     53\u001b[0m     \u001b[0mbound\u001b[0m \u001b[1;33m=\u001b[0m \u001b[0mgetattr\u001b[0m\u001b[1;33m(\u001b[0m\u001b[0mobj\u001b[0m\u001b[1;33m,\u001b[0m \u001b[0mmethod\u001b[0m\u001b[1;33m,\u001b[0m \u001b[1;32mNone\u001b[0m\u001b[1;33m)\u001b[0m\u001b[1;33m\u001b[0m\u001b[0m\n\u001b[0;32m     54\u001b[0m     \u001b[1;32mif\u001b[0m \u001b[0mbound\u001b[0m \u001b[1;32mis\u001b[0m \u001b[1;32mNone\u001b[0m\u001b[1;33m:\u001b[0m\u001b[1;33m\u001b[0m\u001b[0m\n\u001b[1;32m---> 55\u001b[1;33m         \u001b[1;32mreturn\u001b[0m \u001b[0m_wrapit\u001b[0m\u001b[1;33m(\u001b[0m\u001b[0mobj\u001b[0m\u001b[1;33m,\u001b[0m \u001b[0mmethod\u001b[0m\u001b[1;33m,\u001b[0m \u001b[1;33m*\u001b[0m\u001b[0margs\u001b[0m\u001b[1;33m,\u001b[0m \u001b[1;33m**\u001b[0m\u001b[0mkwds\u001b[0m\u001b[1;33m)\u001b[0m\u001b[1;33m\u001b[0m\u001b[0m\n\u001b[0m\u001b[0;32m     56\u001b[0m \u001b[1;33m\u001b[0m\u001b[0m\n\u001b[0;32m     57\u001b[0m     \u001b[1;32mtry\u001b[0m\u001b[1;33m:\u001b[0m\u001b[1;33m\u001b[0m\u001b[0m\n",
      "\u001b[1;32m~\\AppData\\Roaming\\Python\\Python37\\site-packages\\numpy\\core\\fromnumeric.py\u001b[0m in \u001b[0;36m_wrapit\u001b[1;34m(obj, method, *args, **kwds)\u001b[0m\n\u001b[0;32m     42\u001b[0m     \u001b[1;32mexcept\u001b[0m \u001b[0mAttributeError\u001b[0m\u001b[1;33m:\u001b[0m\u001b[1;33m\u001b[0m\u001b[0m\n\u001b[0;32m     43\u001b[0m         \u001b[0mwrap\u001b[0m \u001b[1;33m=\u001b[0m \u001b[1;32mNone\u001b[0m\u001b[1;33m\u001b[0m\u001b[0m\n\u001b[1;32m---> 44\u001b[1;33m     \u001b[0mresult\u001b[0m \u001b[1;33m=\u001b[0m \u001b[0mgetattr\u001b[0m\u001b[1;33m(\u001b[0m\u001b[0masarray\u001b[0m\u001b[1;33m(\u001b[0m\u001b[0mobj\u001b[0m\u001b[1;33m)\u001b[0m\u001b[1;33m,\u001b[0m \u001b[0mmethod\u001b[0m\u001b[1;33m)\u001b[0m\u001b[1;33m(\u001b[0m\u001b[1;33m*\u001b[0m\u001b[0margs\u001b[0m\u001b[1;33m,\u001b[0m \u001b[1;33m**\u001b[0m\u001b[0mkwds\u001b[0m\u001b[1;33m)\u001b[0m\u001b[1;33m\u001b[0m\u001b[0m\n\u001b[0m\u001b[0;32m     45\u001b[0m     \u001b[1;32mif\u001b[0m \u001b[0mwrap\u001b[0m\u001b[1;33m:\u001b[0m\u001b[1;33m\u001b[0m\u001b[0m\n\u001b[0;32m     46\u001b[0m         \u001b[1;32mif\u001b[0m \u001b[1;32mnot\u001b[0m \u001b[0misinstance\u001b[0m\u001b[1;33m(\u001b[0m\u001b[0mresult\u001b[0m\u001b[1;33m,\u001b[0m \u001b[0mmu\u001b[0m\u001b[1;33m.\u001b[0m\u001b[0mndarray\u001b[0m\u001b[1;33m)\u001b[0m\u001b[1;33m:\u001b[0m\u001b[1;33m\u001b[0m\u001b[0m\n",
      "\u001b[1;31mTypeError\u001b[0m: '>' not supported between instances of 'dict' and 'dict'"
     ]
    }
   ],
   "source": [
    "sentence = open(msr_train, encoding='utf-8').readline(24)\n",
    "sentence = sentence.replace('\\n','').replace(' ','')\n",
    "DAG = sample_getProb(sentence, pi_df, A_df, B_df)\n",
    "sum_prob, cut_lst = greed_route(DAG, \"BEMS\")"
   ]
  },
  {
   "cell_type": "markdown",
   "metadata": {},
   "source": [
    "##### viterbi 算法求解\n",
    "因为使用的容器不一样，做了一些修改。不是自己写的"
   ]
  },
  {
   "cell_type": "code",
   "execution_count": 20,
   "metadata": {
    "ExecuteTime": {
     "end_time": "2021-04-05T14:28:44.506873Z",
     "start_time": "2021-04-05T14:28:44.500066Z"
    }
   },
   "outputs": [],
   "source": [
    "def viterbi(sentence, colnums, A, B, pi):\n",
    "    # 隐藏状态个数\n",
    "    N = len(colnums)   \n",
    "    # 观测序列的观测个数，即时刻个数\n",
    "    T = len(sentence)     \n",
    "    # 每个时刻每个状态对应的局部最优状态序列的概率值\n",
    "    delta = np.zeros((N,T))    \n",
    "    # 保存每个时刻每个状态取到最大概率的前置节点\n",
    "    phi = np.zeros((N,T),dtype = int)\n",
    "    prob = np.zeros((N,T),dtype = float) \n",
    "    #初始状态\n",
    "    delta[:,0] = pi*np.transpose(B.loc[:,sentence[0]])\n",
    "    for t in range(1,T):\n",
    "        list_max=[]\n",
    "        for idx,n in enumerate(colnums):\n",
    "            # 计算时刻t,状态为n的所有单个路径的概率值\n",
    "            delta_ti = delta[:,t-1]*np.transpose(A.loc[:,n])\n",
    "            # 保存最大概率\n",
    "            list_max.append(np.max(delta_ti))\n",
    "            # 保存最大概率对应的前置节点\n",
    "            phi[idx, t] = np.argmax(delta_ti)\n",
    "        try: # 遇到没见过的字时报错\n",
    "            delta[:,t] = np.array(list_max)*np.transpose(B.loc[:,sentence[t]]) \n",
    "        except:\n",
    "            delta[:,t] = MIN_FLOAT\n",
    "    result = np.zeros(T)\n",
    "    result[T-1] = np.argmax(delta[:,T-1])\n",
    "    for t in range(T-2,-1,-1):\n",
    "        result[t] = phi[int(result[t+1]),t+1]\n",
    "    return result"
   ]
  },
  {
   "cell_type": "code",
   "execution_count": 24,
   "metadata": {
    "ExecuteTime": {
     "end_time": "2021-04-05T14:28:52.681500Z",
     "start_time": "2021-04-05T14:28:52.654536Z"
    }
   },
   "outputs": [
    {
     "name": "stdout",
     "output_type": "stream",
     "text": [
      "[3. 0. 1. 0. 1. 0. 1. 3. 3. 3.]\n"
     ]
    },
    {
     "data": {
      "text/plain": [
       "['“', '人们', '常说', '生活', '是', '一', '部']"
      ]
     },
     "execution_count": 24,
     "metadata": {},
     "output_type": "execute_result"
    }
   ],
   "source": [
    "sentence = open(msr_train, encoding='utf-8').readline(24)\n",
    "sentence = sentence.replace('\\n','').replace(' ','')\n",
    "cut_lst = viterbi(sentence, \"BEMS\", A_df, B_df, pi_df)\n",
    "print(cut_lst)\n",
    "list(other_cut(sentence, cut_lst))"
   ]
  },
  {
   "cell_type": "markdown",
   "metadata": {},
   "source": [
    "##### viterbi实现\n",
    "我对viterbi的理解是做一个不影响结果正确性的预剪枝（从后面遍历的效率低下可以预见，树模型的后剪枝在很多情况下是几乎不能接受的2^n，所以预剪枝虽然可能得到的解不是最优解，但还是值得使用的）  \n",
    "**参考资料**：\n",
    "- [关于维特比（viterbi）算法](https://blog.csdn.net/sharic_song/article/details/104820924)"
   ]
  },
  {
   "cell_type": "code",
   "execution_count": 38,
   "metadata": {
    "ExecuteTime": {
     "end_time": "2021-04-11T05:44:41.577958Z",
     "start_time": "2021-04-11T05:44:41.559897Z"
    }
   },
   "outputs": [
    {
     "data": {
      "text/plain": [
       "[{'B': -inf, 'E': -0.17196226885792254, 'M': -3.8468051095541416, 'S': -inf},\n",
       " {'B': -2.3139514069032163, 'E': -inf, 'M': -inf, 'S': -1.0314651075108787},\n",
       " {'B': -inf, 'E': -0.38816598403563923, 'M': -3.384434378883122, 'S': -inf},\n",
       " {'B': -2.2236848279106862, 'E': -inf, 'M': -inf, 'S': -1.1330488527987301}]"
      ]
     },
     "execution_count": 38,
     "metadata": {},
     "output_type": "execute_result"
    }
   ],
   "source": [
    "[DAG[1][column] for column in \"BEMS\"]"
   ]
  },
  {
   "cell_type": "code",
   "execution_count": 43,
   "metadata": {
    "ExecuteTime": {
     "end_time": "2021-04-11T05:46:13.609460Z",
     "start_time": "2021-04-11T05:46:13.596803Z"
    }
   },
   "outputs": [
    {
     "data": {
      "text/plain": [
       "['E', 'S', 'E', 'S']"
      ]
     },
     "execution_count": 43,
     "metadata": {},
     "output_type": "execute_result"
    }
   ],
   "source": [
    "[max(DAG[1][column], key=DAG[1][column].get) for column in \"BEMS\"]"
   ]
  },
  {
   "cell_type": "code",
   "execution_count": null,
   "metadata": {},
   "outputs": [],
   "source": [
    "# 从概率图中寻找最优概率路径\n",
    "def sample_viterbi(DAG, stats):\n",
    "    N = len(stats) # 状态种类\n",
    "    T = len(DAG) # 序列长度\n",
    "    best_route = [{}] # \n",
    "    best_path = {}\n",
    "    # 初始化↓\n",
    "    for stat in stats: \n",
    "        prob = DAG[0][stat]\n",
    "        path[stat] = (prob, [stat])\n",
    "    # \n",
    "    for idx_T in range(1, T):\n",
    "        for idx_N in range(N):\n",
    "            max([DAG[idx_T-1][stat] + DAG[] for stat in stats])"
   ]
  },
  {
   "cell_type": "code",
   "execution_count": 52,
   "metadata": {
    "ExecuteTime": {
     "end_time": "2021-04-11T06:28:32.620263Z",
     "start_time": "2021-04-11T06:28:32.616274Z"
    }
   },
   "outputs": [
    {
     "data": {
      "text/plain": [
       "-0.5976663894544161"
      ]
     },
     "execution_count": 52,
     "metadata": {},
     "output_type": "execute_result"
    }
   ],
   "source": [
    "max(routes)[0]"
   ]
  },
  {
   "cell_type": "code",
   "execution_count": 63,
   "metadata": {
    "ExecuteTime": {
     "end_time": "2021-04-11T06:31:57.157655Z",
     "start_time": "2021-04-11T06:31:57.147257Z"
    }
   },
   "outputs": [
    {
     "data": {
      "text/plain": [
       "[[-0.777808932383609, 'B'],\n",
       " [-inf, 'E'],\n",
       " [-inf, 'M'],\n",
       " [-1.1752209743957382, 'S']]"
      ]
     },
     "execution_count": 63,
     "metadata": {},
     "output_type": "execute_result"
    }
   ],
   "source": [
    "[[DAG[0][b][a], b] for b in stats]"
   ]
  },
  {
   "cell_type": "code",
   "execution_count": 60,
   "metadata": {
    "ExecuteTime": {
     "end_time": "2021-04-11T06:31:29.606256Z",
     "start_time": "2021-04-11T06:31:29.601292Z"
    }
   },
   "outputs": [
    {
     "data": {
      "text/plain": [
       "[-0.777808932383609, 'B']"
      ]
     },
     "execution_count": 60,
     "metadata": {},
     "output_type": "execute_result"
    }
   ],
   "source": [
    "max([[DAG[0][b][a], b] for b in stats], key=lambda x:x[0])"
   ]
  },
  {
   "cell_type": "code",
   "execution_count": 66,
   "metadata": {
    "ExecuteTime": {
     "end_time": "2021-04-11T06:33:34.851796Z",
     "start_time": "2021-04-11T06:33:34.841822Z"
    }
   },
   "outputs": [
    {
     "data": {
      "text/plain": [
       "'人们常说生活是一部'"
      ]
     },
     "execution_count": 66,
     "metadata": {},
     "output_type": "execute_result"
    }
   ],
   "source": [
    "sentence"
   ]
  },
  {
   "cell_type": "code",
   "execution_count": 79,
   "metadata": {
    "ExecuteTime": {
     "end_time": "2021-04-11T06:41:16.453180Z",
     "start_time": "2021-04-11T06:41:16.441216Z"
    }
   },
   "outputs": [
    {
     "data": {
      "text/plain": [
       "{'B': [-2.2236848279106862, ['S']],\n",
       " 'E': [-0.17196226885792254, ['B']],\n",
       " 'M': [-3.384434378883122, ['M']],\n",
       " 'S': [-1.0314651075108787, ['E']]}"
      ]
     },
     "execution_count": 79,
     "metadata": {},
     "output_type": "execute_result"
    }
   ],
   "source": [
    "stats = \"BEMS\"\n",
    "path = {stat:[0, []] for stat in stats}\n",
    "for a in stats:\n",
    "    route = max([[DAG[1][b][a], b] for b in stats], key=lambda x:x[0])\n",
    "    path[a][0] += route[0]\n",
    "    path[a][1].append(route[1])\n",
    "path"
   ]
  },
  {
   "cell_type": "code",
   "execution_count": 74,
   "metadata": {
    "ExecuteTime": {
     "end_time": "2021-04-11T06:38:12.153245Z",
     "start_time": "2021-04-11T06:38:12.141305Z"
    }
   },
   "outputs": [
    {
     "data": {
      "text/plain": [
       "(-6.0257974037868305, ['S'], {'B': ['B'], 'E': ['E'], 'M': ['M'], 'S': ['S']})"
      ]
     },
     "execution_count": 74,
     "metadata": {},
     "output_type": "execute_result"
    }
   ],
   "source": [
    "viterbi(sentence[0], emit_p=emit_p, start_p=start_p, states=\"BEMS\", trans_p=trans_p)"
   ]
  },
  {
   "cell_type": "markdown",
   "metadata": {},
   "source": [
    "### 分词"
   ]
  },
  {
   "cell_type": "code",
   "execution_count": 22,
   "metadata": {
    "ExecuteTime": {
     "end_time": "2021-04-05T14:28:49.310964Z",
     "start_time": "2021-04-05T14:28:49.302985Z"
    }
   },
   "outputs": [],
   "source": [
    "# 分词\n",
    "def sample_cut(sentence, cut_lst):\n",
    "    begin, nexti = 0, 0\n",
    "    for i, char in enumerate(sentence):\n",
    "        pos = cut_lst[i]\n",
    "        if pos == 'B':\n",
    "            begin = i\n",
    "        elif pos == 'E':\n",
    "            yield sentence[begin:i + 1]\n",
    "            nexti = i + 1\n",
    "        elif pos == 'S':\n",
    "            yield char\n",
    "            nexti = i + 1\n",
    "    if nexti < len(sentence):\n",
    "        yield sentence[nexti:]"
   ]
  },
  {
   "cell_type": "code",
   "execution_count": 23,
   "metadata": {
    "ExecuteTime": {
     "end_time": "2021-04-05T14:28:50.023700Z",
     "start_time": "2021-04-05T14:28:50.014189Z"
    }
   },
   "outputs": [],
   "source": [
    "# viterbi的分词\n",
    "def other_cut(sentence, cut_lst): # 1和3分割\n",
    "    begin, nexti = 0, 0\n",
    "    for i, char in enumerate(sentence):\n",
    "        pos = cut_lst[i]\n",
    "        if pos == 0:\n",
    "            begin = i\n",
    "        elif pos == 1:\n",
    "            yield sentence[begin:i + 1]\n",
    "            nexti = i + 1\n",
    "        elif pos == 3:\n",
    "            yield char\n",
    "            nexti = i + 1\n",
    "    if nexti < len(sentence):\n",
    "        yield sentence[nexti:]"
   ]
  },
  {
   "cell_type": "markdown",
   "metadata": {},
   "source": [
    "### 性能评价"
   ]
  },
  {
   "cell_type": "code",
   "execution_count": 25,
   "metadata": {
    "ExecuteTime": {
     "end_time": "2021-04-11T05:23:23.043836Z",
     "start_time": "2021-04-11T05:23:23.033258Z"
    }
   },
   "outputs": [],
   "source": [
    "# 使用统一的测试例子（遍历的话所有组合实在是太多了，资源消耗就离谱。。所以这里做了缩减）\n",
    "sentence = open(msr_train, encoding='utf-8').readline(24)\n",
    "# 长度为10，共4^10=1,048,576种组合（麻了）↓\n",
    "sentence = sentence.replace('\\n','').replace(' ','').replace('“','')\n",
    "DAG = sample_getProb(sentence, pi_df, A_df, B_df)"
   ]
  },
  {
   "cell_type": "markdown",
   "metadata": {},
   "source": [
    "#### 遍历\n",
    "我后来改了一下，现在结果有点问题，原本是正常的，因为没有使用的必要，就懒得改回来了"
   ]
  },
  {
   "cell_type": "code",
   "execution_count": 19,
   "metadata": {
    "ExecuteTime": {
     "end_time": "2021-04-02T00:37:24.879733Z",
     "start_time": "2021-04-02T00:37:09.962079Z"
    }
   },
   "outputs": [
    {
     "data": {
      "application/vnd.jupyter.widget-view+json": {
       "model_id": "0c909ade35ac4ae58a6c5e9c56daf3b2",
       "version_major": 2,
       "version_minor": 0
      },
      "text/plain": [
       "层数:   0%|          | 0/10 [00:00<?, ?it/s]"
      ]
     },
     "metadata": {},
     "output_type": "display_data"
    },
    {
     "data": {
      "application/vnd.jupyter.widget-view+json": {
       "model_id": "",
       "version_major": 2,
       "version_minor": 0
      },
      "text/plain": [
       "组合数:   0%|          | 0/4 [00:00<?, ?it/s]"
      ]
     },
     "metadata": {},
     "output_type": "display_data"
    },
    {
     "data": {
      "application/vnd.jupyter.widget-view+json": {
       "model_id": "",
       "version_major": 2,
       "version_minor": 0
      },
      "text/plain": [
       "组合数:   0%|          | 0/16 [00:00<?, ?it/s]"
      ]
     },
     "metadata": {},
     "output_type": "display_data"
    },
    {
     "data": {
      "application/vnd.jupyter.widget-view+json": {
       "model_id": "",
       "version_major": 2,
       "version_minor": 0
      },
      "text/plain": [
       "组合数:   0%|          | 0/64 [00:00<?, ?it/s]"
      ]
     },
     "metadata": {},
     "output_type": "display_data"
    },
    {
     "data": {
      "application/vnd.jupyter.widget-view+json": {
       "model_id": "",
       "version_major": 2,
       "version_minor": 0
      },
      "text/plain": [
       "组合数:   0%|          | 0/256 [00:00<?, ?it/s]"
      ]
     },
     "metadata": {},
     "output_type": "display_data"
    },
    {
     "data": {
      "application/vnd.jupyter.widget-view+json": {
       "model_id": "",
       "version_major": 2,
       "version_minor": 0
      },
      "text/plain": [
       "组合数:   0%|          | 0/1024 [00:00<?, ?it/s]"
      ]
     },
     "metadata": {},
     "output_type": "display_data"
    },
    {
     "data": {
      "application/vnd.jupyter.widget-view+json": {
       "model_id": "",
       "version_major": 2,
       "version_minor": 0
      },
      "text/plain": [
       "组合数:   0%|          | 0/4096 [00:00<?, ?it/s]"
      ]
     },
     "metadata": {},
     "output_type": "display_data"
    },
    {
     "data": {
      "application/vnd.jupyter.widget-view+json": {
       "model_id": "",
       "version_major": 2,
       "version_minor": 0
      },
      "text/plain": [
       "组合数:   0%|          | 0/16384 [00:00<?, ?it/s]"
      ]
     },
     "metadata": {},
     "output_type": "display_data"
    },
    {
     "data": {
      "application/vnd.jupyter.widget-view+json": {
       "model_id": "",
       "version_major": 2,
       "version_minor": 0
      },
      "text/plain": [
       "组合数:   0%|          | 0/65536 [00:00<?, ?it/s]"
      ]
     },
     "metadata": {},
     "output_type": "display_data"
    },
    {
     "data": {
      "application/vnd.jupyter.widget-view+json": {
       "model_id": "",
       "version_major": 2,
       "version_minor": 0
      },
      "text/plain": [
       "组合数:   0%|          | 0/262144 [00:00<?, ?it/s]"
      ]
     },
     "metadata": {},
     "output_type": "display_data"
    },
    {
     "data": {
      "application/vnd.jupyter.widget-view+json": {
       "model_id": "",
       "version_major": 2,
       "version_minor": 0
      },
      "text/plain": [
       "组合数:   0%|          | 0/1048576 [00:00<?, ?it/s]"
      ]
     },
     "metadata": {},
     "output_type": "display_data"
    },
    {
     "name": "stdout",
     "output_type": "stream",
     "text": [
      "best_prob: -14.694335844648302\n",
      "cut: ['人', '们', '“人们常', '生', '说生活', '是一', '部']\n"
     ]
    }
   ],
   "source": [
    "best_route, best_prob = traverse_route(DAG, \"BEMS\")\n",
    "print('best_prob:', best_prob)\n",
    "print('cut:', list(sample_cut(sentence, best_route)))"
   ]
  },
  {
   "cell_type": "markdown",
   "metadata": {},
   "source": [
    "#### 贪心"
   ]
  },
  {
   "cell_type": "code",
   "execution_count": 25,
   "metadata": {
    "ExecuteTime": {
     "end_time": "2021-04-05T14:29:04.418698Z",
     "start_time": "2021-04-05T14:29:04.409687Z"
    }
   },
   "outputs": [
    {
     "name": "stdout",
     "output_type": "stream",
     "text": [
      "sum_prob: -17.31110351555278\n",
      "cut: ['“人', '们常', '说生', '活是', '一', '部']\n"
     ]
    }
   ],
   "source": [
    "sum_prob, cut_lst = greed_route(DAG, \"BEMS\")\n",
    "print('sum_prob:', sum_prob)\n",
    "print('cut:',list(sample_cut(sentence, cut_lst)))"
   ]
  },
  {
   "cell_type": "code",
   "execution_count": 27,
   "metadata": {
    "ExecuteTime": {
     "end_time": "2021-04-05T14:29:35.768930Z",
     "start_time": "2021-04-05T14:29:28.968870Z"
    }
   },
   "outputs": [
    {
     "data": {
      "application/vnd.jupyter.widget-view+json": {
       "model_id": "246330abc91c4a36b73e720f1b345322",
       "version_major": 2,
       "version_minor": 0
      },
      "text/plain": [
       "0it [00:00, ?it/s]"
      ]
     },
     "metadata": {},
     "output_type": "display_data"
    },
    {
     "name": "stdout",
     "output_type": "stream",
     "text": [
      "P:\t哇哦，如此卓越的性能，只有0可以表达\n",
      "R:\t这个模型已经棒到无可救药了\n",
      "F1:\t太棒了，收获了一个离天下之大谱的0\n",
      "OOV-R:\t没见过的东西猜不出来也不奇怪吧\n",
      "IV-R:\t真是一个伟大的发现，你找到了一个任何数乘上它都不会变的数\n"
     ]
    }
   ],
   "source": [
    "# 训练集测试\n",
    "with open(msr_train, encoding=\"utf-8\") as train, open(msr_output, 'w', encoding=\"utf-8\") as output:\n",
    "    start = time()\n",
    "    for idx, line in tqdm(enumerate(train)):\n",
    "        if idx > 1000:\n",
    "            break\n",
    "        sentence = line.replace('\\n','').replace(' ','')\n",
    "        DAG = sample_getProb(sentence, pi_df, A_df, B_df)\n",
    "        sum_prob, cut_lst= greed_route(DAG, \"BEMS\")\n",
    "        output.write(\"  \".join(list(other_cut(sentence, cut_lst))))\n",
    "        output.write(\"\\n\")\n",
    "    runtime = time()-start\n",
    "# print('runtime:',runtime)\n",
    "print(OUTFRMAE % prf(msr_train, msr_output, word_dict))"
   ]
  },
  {
   "cell_type": "markdown",
   "metadata": {},
   "source": [
    "#### viterbi"
   ]
  },
  {
   "cell_type": "code",
   "execution_count": 49,
   "metadata": {
    "ExecuteTime": {
     "end_time": "2021-04-05T13:45:24.866227Z",
     "start_time": "2021-04-05T13:45:24.849313Z"
    }
   },
   "outputs": [
    {
     "name": "stdout",
     "output_type": "stream",
     "text": [
      "cut: ['人们', '常说', '生活', '是', '一', '部']\n"
     ]
    }
   ],
   "source": [
    "# 单个测试例\n",
    "cut_lst = viterbi(sentence, \"BEMS\", A_df.T, B_df.T, pi_df)\n",
    "print('cut:', list(other_cut(sentence, cut_lst)))"
   ]
  },
  {
   "cell_type": "code",
   "execution_count": 29,
   "metadata": {
    "ExecuteTime": {
     "end_time": "2021-04-05T14:30:59.576024Z",
     "start_time": "2021-04-05T14:30:23.209198Z"
    }
   },
   "outputs": [
    {
     "data": {
      "application/vnd.jupyter.widget-view+json": {
       "model_id": "97ce1784426f486bba407d73d774e36e",
       "version_major": 2,
       "version_minor": 0
      },
      "text/plain": [
       "0it [00:00, ?it/s]"
      ]
     },
     "metadata": {},
     "output_type": "display_data"
    },
    {
     "name": "stdout",
     "output_type": "stream",
     "text": [
      "P:\t67.02367531003382\n",
      "R:\t61.18830409356725\n",
      "F1:\t63.97319572501161\n",
      "OOV-R:\t53.03832969772515\n",
      "IV-R:\t73.43951282351563\n"
     ]
    }
   ],
   "source": [
    "# 训练集测试\n",
    "with open(msr_train, encoding=\"utf-8\") as train, open(msr_output, 'w', encoding=\"utf-8\") as output:\n",
    "    start = time()\n",
    "    for idx, line in tqdm(enumerate(train)):\n",
    "        if idx > 1000:\n",
    "            break\n",
    "        sentence = line.replace('\\n','').replace(' ','')\n",
    "        if sentence[0] == '“': # 训练集部分开头有奇怪的引号，这里做判断删去\n",
    "            sentence = sentence[1:]\n",
    "        cut_lst = viterbi(sentence, \"BEMS\", A_df, B_df, pi_df)\n",
    "        output.write(\"  \".join(list(other_cut(sentence, cut_lst))))\n",
    "        output.write(\"\\n\")\n",
    "    runtime = time()-start\n",
    "# print('runtime:',runtime)\n",
    "print(OUTFRMAE % prf(msr_train, msr_output, word_dict))"
   ]
  },
  {
   "cell_type": "code",
   "execution_count": 30,
   "metadata": {
    "ExecuteTime": {
     "end_time": "2021-04-05T14:32:13.178442Z",
     "start_time": "2021-04-05T14:31:19.775042Z"
    }
   },
   "outputs": [
    {
     "data": {
      "application/vnd.jupyter.widget-view+json": {
       "model_id": "8b18274ab51546c49e376267be3677b4",
       "version_major": 2,
       "version_minor": 0
      },
      "text/plain": [
       "0it [00:00, ?it/s]"
      ]
     },
     "metadata": {},
     "output_type": "display_data"
    },
    {
     "name": "stdout",
     "output_type": "stream",
     "text": [
      "P:\t68.10900456070257\n",
      "R:\t69.9682490513436\n",
      "F1:\t69.02610921175774\n",
      "OOV-R:\t61.675286005328324\n",
      "IV-R:\t78.06950398040416\n"
     ]
    }
   ],
   "source": [
    "# 测试集测试\n",
    "with open(msr_test, encoding=\"utf-8\") as test, open(msr_output, 'w', encoding=\"utf-8\") as output:\n",
    "    start = time()\n",
    "    for idx, line in tqdm(enumerate(test)):\n",
    "        if idx > 1000:\n",
    "            break\n",
    "        sentence = line.replace('\\n','').replace(' ','')\n",
    "        cut_lst = viterbi(sentence, \"BEMS\", A_df, B_df, pi_df)\n",
    "        output.write(\"  \".join(list(other_cut(sentence, cut_lst))))\n",
    "        output.write(\"\\n\")\n",
    "    runtime = time()-start\n",
    "# print('runtime:',runtime)\n",
    "print(OUTFRMAE % prf(msr_gold, msr_output, word_dict))"
   ]
  },
  {
   "cell_type": "markdown",
   "metadata": {},
   "source": [
    "## 课上使用的jieba库\n",
    "从结果上看我觉得是数据集的问题。。"
   ]
  },
  {
   "cell_type": "markdown",
   "metadata": {},
   "source": [
    "### 库和函数"
   ]
  },
  {
   "cell_type": "code",
   "execution_count": 69,
   "metadata": {
    "ExecuteTime": {
     "end_time": "2021-04-11T06:35:07.757705Z",
     "start_time": "2021-04-11T06:35:07.728783Z"
    }
   },
   "outputs": [],
   "source": [
    "# 概率值都是取对数之后的结果\n",
    "from prob_start import P as start_p # 状态初始概率\n",
    "from prob_trans import P as trans_p # 状态转移概率\n",
    "from prob_emit import P as emit_p   # 状态发射概率\n",
    "\n",
    "MIN_FLOAT = -3.14e100\n",
    "\n",
    "PrevStatus = {\n",
    "    'B': 'ES',\n",
    "    'M': 'MB',\n",
    "    'S': 'SE',\n",
    "    'E': 'BM'\n",
    "}"
   ]
  },
  {
   "cell_type": "code",
   "execution_count": 43,
   "metadata": {
    "ExecuteTime": {
     "end_time": "2021-04-05T14:48:41.960458Z",
     "start_time": "2021-04-05T14:48:41.921151Z"
    }
   },
   "outputs": [
    {
     "data": {
      "text/html": [
       "<div>\n",
       "<style scoped>\n",
       "    .dataframe tbody tr th:only-of-type {\n",
       "        vertical-align: middle;\n",
       "    }\n",
       "\n",
       "    .dataframe tbody tr th {\n",
       "        vertical-align: top;\n",
       "    }\n",
       "\n",
       "    .dataframe thead th {\n",
       "        text-align: right;\n",
       "    }\n",
       "</style>\n",
       "<table border=\"1\" class=\"dataframe\">\n",
       "  <thead>\n",
       "    <tr style=\"text-align: right;\">\n",
       "      <th></th>\n",
       "      <th>一</th>\n",
       "      <th>丁</th>\n",
       "      <th>七</th>\n",
       "      <th>万</th>\n",
       "      <th>丈</th>\n",
       "      <th>三</th>\n",
       "      <th>上</th>\n",
       "      <th>下</th>\n",
       "      <th>不</th>\n",
       "      <th>与</th>\n",
       "      <th>...</th>\n",
       "      <th>齰</th>\n",
       "      <th>齳</th>\n",
       "      <th>齸</th>\n",
       "      <th>齹</th>\n",
       "      <th>龁</th>\n",
       "      <th>龂</th>\n",
       "      <th>龎</th>\n",
       "      <th>龏</th>\n",
       "      <th>龠</th>\n",
       "      <th>龢</th>\n",
       "    </tr>\n",
       "  </thead>\n",
       "  <tbody>\n",
       "    <tr>\n",
       "      <th>B</th>\n",
       "      <td>-3.654498</td>\n",
       "      <td>-8.125042</td>\n",
       "      <td>-7.817392</td>\n",
       "      <td>-6.309643</td>\n",
       "      <td>-8.866689</td>\n",
       "      <td>-5.932086</td>\n",
       "      <td>-5.739553</td>\n",
       "      <td>-5.997089</td>\n",
       "      <td>-4.274262</td>\n",
       "      <td>-8.355569</td>\n",
       "      <td>...</td>\n",
       "      <td>NaN</td>\n",
       "      <td>NaN</td>\n",
       "      <td>NaN</td>\n",
       "      <td>NaN</td>\n",
       "      <td>NaN</td>\n",
       "      <td>NaN</td>\n",
       "      <td>NaN</td>\n",
       "      <td>NaN</td>\n",
       "      <td>NaN</td>\n",
       "      <td>NaN</td>\n",
       "    </tr>\n",
       "    <tr>\n",
       "      <th>E</th>\n",
       "      <td>-6.044988</td>\n",
       "      <td>-9.075800</td>\n",
       "      <td>-9.198842</td>\n",
       "      <td>-7.655326</td>\n",
       "      <td>-9.023821</td>\n",
       "      <td>-7.978830</td>\n",
       "      <td>-5.323135</td>\n",
       "      <td>-5.739645</td>\n",
       "      <td>-7.496013</td>\n",
       "      <td>-8.355821</td>\n",
       "      <td>...</td>\n",
       "      <td>NaN</td>\n",
       "      <td>NaN</td>\n",
       "      <td>NaN</td>\n",
       "      <td>NaN</td>\n",
       "      <td>NaN</td>\n",
       "      <td>NaN</td>\n",
       "      <td>NaN</td>\n",
       "      <td>NaN</td>\n",
       "      <td>NaN</td>\n",
       "      <td>NaN</td>\n",
       "    </tr>\n",
       "    <tr>\n",
       "      <th>M</th>\n",
       "      <td>-4.428159</td>\n",
       "      <td>-7.932946</td>\n",
       "      <td>-6.559716</td>\n",
       "      <td>-6.139922</td>\n",
       "      <td>-9.412954</td>\n",
       "      <td>-5.476358</td>\n",
       "      <td>-6.827435</td>\n",
       "      <td>-6.293840</td>\n",
       "      <td>-4.439760</td>\n",
       "      <td>-8.445370</td>\n",
       "      <td>...</td>\n",
       "      <td>NaN</td>\n",
       "      <td>NaN</td>\n",
       "      <td>NaN</td>\n",
       "      <td>NaN</td>\n",
       "      <td>NaN</td>\n",
       "      <td>NaN</td>\n",
       "      <td>NaN</td>\n",
       "      <td>NaN</td>\n",
       "      <td>NaN</td>\n",
       "      <td>NaN</td>\n",
       "    </tr>\n",
       "    <tr>\n",
       "      <th>S</th>\n",
       "      <td>-4.923690</td>\n",
       "      <td>-9.024528</td>\n",
       "      <td>-8.269436</td>\n",
       "      <td>-6.926716</td>\n",
       "      <td>-10.269146</td>\n",
       "      <td>-6.556913</td>\n",
       "      <td>-4.754054</td>\n",
       "      <td>-5.622555</td>\n",
       "      <td>-4.420382</td>\n",
       "      <td>-5.226100</td>\n",
       "      <td>...</td>\n",
       "      <td>-17.21516</td>\n",
       "      <td>-17.21516</td>\n",
       "      <td>-16.116548</td>\n",
       "      <td>-11.594759</td>\n",
       "      <td>-15.135719</td>\n",
       "      <td>-17.21516</td>\n",
       "      <td>-16.522013</td>\n",
       "      <td>-17.21516</td>\n",
       "      <td>-15.605722</td>\n",
       "      <td>-10.61938</td>\n",
       "    </tr>\n",
       "  </tbody>\n",
       "</table>\n",
       "<p>4 rows × 14632 columns</p>\n",
       "</div>"
      ],
      "text/plain": [
       "          一         丁         七         万          丈         三         上  \\\n",
       "B -3.654498 -8.125042 -7.817392 -6.309643  -8.866689 -5.932086 -5.739553   \n",
       "E -6.044988 -9.075800 -9.198842 -7.655326  -9.023821 -7.978830 -5.323135   \n",
       "M -4.428159 -7.932946 -6.559716 -6.139922  -9.412954 -5.476358 -6.827435   \n",
       "S -4.923690 -9.024528 -8.269436 -6.926716 -10.269146 -6.556913 -4.754054   \n",
       "\n",
       "          下         不         与  ...         齰         齳          齸  \\\n",
       "B -5.997089 -4.274262 -8.355569  ...       NaN       NaN        NaN   \n",
       "E -5.739645 -7.496013 -8.355821  ...       NaN       NaN        NaN   \n",
       "M -6.293840 -4.439760 -8.445370  ...       NaN       NaN        NaN   \n",
       "S -5.622555 -4.420382 -5.226100  ... -17.21516 -17.21516 -16.116548   \n",
       "\n",
       "           齹          龁         龂          龎         龏          龠         龢  \n",
       "B        NaN        NaN       NaN        NaN       NaN        NaN       NaN  \n",
       "E        NaN        NaN       NaN        NaN       NaN        NaN       NaN  \n",
       "M        NaN        NaN       NaN        NaN       NaN        NaN       NaN  \n",
       "S -11.594759 -15.135719 -17.21516 -16.522013 -17.21516 -15.605722 -10.61938  \n",
       "\n",
       "[4 rows x 14632 columns]"
      ]
     },
     "execution_count": 43,
     "metadata": {},
     "output_type": "execute_result"
    }
   ],
   "source": [
    "pd.DataFrame(emit_p).T"
   ]
  },
  {
   "cell_type": "code",
   "execution_count": 45,
   "metadata": {
    "ExecuteTime": {
     "end_time": "2021-04-11T06:12:24.658281Z",
     "start_time": "2021-04-11T06:12:24.647310Z"
    }
   },
   "outputs": [
    {
     "data": {
      "text/plain": [
       "{'B': -0.5976663894544161,\n",
       " 'E': -0.6681446880514982,\n",
       " 'M': -1.096986226714536,\n",
       " 'S': -0.777808932383609}"
      ]
     },
     "execution_count": 45,
     "metadata": {},
     "output_type": "execute_result"
    }
   ],
   "source": [
    "DAG[0]['B']"
   ]
  },
  {
   "cell_type": "code",
   "execution_count": 73,
   "metadata": {
    "ExecuteTime": {
     "end_time": "2021-04-11T06:38:05.922288Z",
     "start_time": "2021-04-11T06:38:05.913304Z"
    }
   },
   "outputs": [],
   "source": [
    "def viterbi(obs, states, start_p, trans_p, emit_p):\n",
    "    V = [{}]  # tabular\n",
    "    path = {}\n",
    "    for y in states:  # init\n",
    "        V[0][y] = start_p[y] + emit_p[y].get(obs[0], MIN_FLOAT)\n",
    "        path[y] = [y]\n",
    "#     print(path)\n",
    "    for t in range(1, len(obs)):\n",
    "        V.append({})\n",
    "        newpath = {}\n",
    "        for y in states:\n",
    "            em_p = emit_p[y].get(obs[t], MIN_FLOAT)\n",
    "            (prob, state) = max(\n",
    "                [(V[t - 1][y0] + trans_p[y0].get(y, MIN_FLOAT) + em_p, y0) for y0 in PrevStatus[y]])\n",
    "            V[t][y] = prob\n",
    "            newpath[y] = path[state] + [y]\n",
    "        path = newpath\n",
    "        print(path)\n",
    "\n",
    "    (prob, state) = max((V[len(obs) - 1][y], y) for y in 'ES')\n",
    "\n",
    "    return (prob, path[state], path)"
   ]
  },
  {
   "cell_type": "code",
   "execution_count": 34,
   "metadata": {
    "ExecuteTime": {
     "end_time": "2021-04-05T14:32:57.854440Z",
     "start_time": "2021-04-05T14:32:57.836489Z"
    }
   },
   "outputs": [],
   "source": [
    "def __cut(sentence):\n",
    "    global emit_P\n",
    "    prob, pos_list = viterbi(sentence, 'BMES', start_p, trans_p, emit_p)\n",
    "    begin, nexti = 0, 0\n",
    "    # print pos_list, sentence\n",
    "    for i, char in enumerate(sentence):\n",
    "        pos = pos_list[i]\n",
    "        if pos == 'B':\n",
    "            begin = i\n",
    "        elif pos == 'E':\n",
    "            yield sentence[begin:i + 1]\n",
    "            nexti = i + 1\n",
    "        elif pos == 'S':\n",
    "            yield char\n",
    "            nexti = i + 1\n",
    "    if nexti < len(sentence):\n",
    "        yield sentence[nexti:]"
   ]
  },
  {
   "cell_type": "markdown",
   "metadata": {},
   "source": [
    "### 性能测试"
   ]
  },
  {
   "cell_type": "code",
   "execution_count": 35,
   "metadata": {
    "ExecuteTime": {
     "end_time": "2021-04-05T14:32:58.871701Z",
     "start_time": "2021-04-05T14:32:58.599209Z"
    }
   },
   "outputs": [
    {
     "data": {
      "application/vnd.jupyter.widget-view+json": {
       "model_id": "6c102922525244ed82a268b19a4f9ad3",
       "version_major": 2,
       "version_minor": 0
      },
      "text/plain": [
       "0it [00:00, ?it/s]"
      ]
     },
     "metadata": {},
     "output_type": "display_data"
    },
    {
     "name": "stdout",
     "output_type": "stream",
     "text": [
      "训练集结果\n",
      "P:\t46.215001728309716\n",
      "R:\t62.549707602339176\n",
      "F1:\t53.155749925454735\n",
      "OOV-R:\t94.84263010283578\n",
      "IV-R:\t14.00632392551821\n"
     ]
    }
   ],
   "source": [
    "# 训练集测试\n",
    "with open(msr_train, encoding=\"utf-8\") as train, open(msr_output, 'w', encoding=\"utf-8\") as output:\n",
    "    start = time()\n",
    "    for idx, line in tqdm(enumerate(train)):\n",
    "        if idx > 1000:\n",
    "            break\n",
    "        sentence = line.replace('\\n','').replace(' ','')\n",
    "        output.write(\"  \".join(list(__cut(sentence))))\n",
    "        output.write(\"\\n\")\n",
    "    runtime = time()-start\n",
    "print('训练集结果')\n",
    "print(OUTFRMAE % prf(msr_train, msr_output, word_dict))"
   ]
  },
  {
   "cell_type": "code",
   "execution_count": 36,
   "metadata": {
    "ExecuteTime": {
     "end_time": "2021-04-05T14:33:01.113552Z",
     "start_time": "2021-04-05T14:32:59.712187Z"
    }
   },
   "outputs": [
    {
     "data": {
      "application/vnd.jupyter.widget-view+json": {
       "model_id": "d42c7de13294422fae196def48218d26",
       "version_major": 2,
       "version_minor": 0
      },
      "text/plain": [
       "0it [00:00, ?it/s]"
      ]
     },
     "metadata": {},
     "output_type": "display_data"
    },
    {
     "name": "stdout",
     "output_type": "stream",
     "text": [
      "测试集结果\n",
      "P:\t31.153206420481595\n",
      "R:\t49.59624975438137\n",
      "F1:\t38.26854766511682\n",
      "OOV-R:\t88.27957600925347\n",
      "IV-R:\t11.912590512782621\n"
     ]
    }
   ],
   "source": [
    "# 测试集测试\n",
    "with open(msr_test, encoding=\"utf-8\") as test, open(msr_output, 'w', encoding=\"utf-8\") as output:\n",
    "    start = time()\n",
    "    for idx, line in tqdm(enumerate(test)):\n",
    "        sentence = line.replace('\\n','').replace(' ','')\n",
    "        output.write(\"  \".join(list(__cut(sentence))))\n",
    "        output.write(\"\\n\")\n",
    "    runtime = time()-start\n",
    "print('测试集结果')\n",
    "print(OUTFRMAE % prf(msr_gold, msr_output, word_dict))"
   ]
  },
  {
   "cell_type": "code",
   "execution_count": null,
   "metadata": {},
   "outputs": [],
   "source": []
  }
 ],
 "metadata": {
  "kernelspec": {
   "display_name": "Python 3",
   "language": "python",
   "name": "python3"
  },
  "language_info": {
   "codemirror_mode": {
    "name": "ipython",
    "version": 3
   },
   "file_extension": ".py",
   "mimetype": "text/x-python",
   "name": "python",
   "nbconvert_exporter": "python",
   "pygments_lexer": "ipython3",
   "version": "3.7.0"
  },
  "nbTranslate": {
   "displayLangs": [
    "*"
   ],
   "hotkey": "alt-t",
   "langInMainMenu": true,
   "sourceLang": "en",
   "targetLang": "fr",
   "useGoogleTranslate": true
  },
  "toc": {
   "base_numbering": 1,
   "nav_menu": {},
   "number_sections": true,
   "sideBar": true,
   "skip_h1_title": true,
   "title_cell": "Table of Contents",
   "title_sidebar": "Contents",
   "toc_cell": false,
   "toc_position": {
    "height": "calc(100% - 180px)",
    "left": "10px",
    "top": "150px",
    "width": "289.275px"
   },
   "toc_section_display": true,
   "toc_window_display": false
  },
  "varInspector": {
   "cols": {
    "lenName": 16,
    "lenType": 16,
    "lenVar": 40
   },
   "kernels_config": {
    "python": {
     "delete_cmd_postfix": "",
     "delete_cmd_prefix": "del ",
     "library": "var_list.py",
     "varRefreshCmd": "print(var_dic_list())"
    },
    "r": {
     "delete_cmd_postfix": ") ",
     "delete_cmd_prefix": "rm(",
     "library": "var_list.r",
     "varRefreshCmd": "cat(var_dic_list()) "
    }
   },
   "types_to_exclude": [
    "module",
    "function",
    "builtin_function_or_method",
    "instance",
    "_Feature"
   ],
   "window_display": false
  }
 },
 "nbformat": 4,
 "nbformat_minor": 2
}
