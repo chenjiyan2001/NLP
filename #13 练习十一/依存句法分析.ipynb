{
 "cells": [
  {
   "cell_type": "markdown",
   "metadata": {},
   "source": [
    "## 训练模型"
   ]
  },
  {
   "cell_type": "markdown",
   "metadata": {},
   "source": [
    "wiki-cn-cluster.txt 提供额外的语言学特征"
   ]
  },
  {
   "cell_type": "code",
   "execution_count": 1,
   "metadata": {
    "ExecuteTime": {
     "end_time": "2021-05-26T01:44:43.789180Z",
     "start_time": "2021-05-26T01:44:43.321544Z"
    }
   },
   "outputs": [],
   "source": [
    "from pyhanlp import *\n",
    "\n",
    "KBeamArcEagerDependencyParser = JClass('com.hankcs.hanlp.dependency.perceptron.parser.KBeamArcEagerDependencyParser')\n",
    "CTB_ROOT = \"ctb8.0-dep\"\n",
    "CTB_TRAIN = CTB_ROOT + \"/train.conll\"\n",
    "CTB_DEV = CTB_ROOT + \"/dev.conll\" \n",
    "CTB_TEST = CTB_ROOT + \"/test.conll\"\n",
    "CTB_MODEL = CTB_ROOT + \"/ctb.bin\"\n",
    "BROWN_CLUSTER = \"wiki-cn-cluster.txt\""
   ]
  },
  {
   "cell_type": "code",
   "execution_count": null,
   "metadata": {
    "ExecuteTime": {
     "start_time": "2021-05-26T01:43:03.014Z"
    }
   },
   "outputs": [],
   "source": [
    "parser = KBeamArcEagerDependencyParser.train(CTB_TRAIN, CTB_DEV, BROWN_CLUSTER, CTB_MODEL)\n",
    "print(parser.parse(\"人吃鱼\"))\n",
    "score = parser.evaluate(CTB_TEST)\n",
    "print(\"UAS=%.1f LAS=%.1f\\n\" % (score[0], score[1]))"
   ]
  },
  {
   "cell_type": "markdown",
   "metadata": {},
   "source": [
    "## 基于依存句法树的意见抽取"
   ]
  },
  {
   "cell_type": "code",
   "execution_count": 4,
   "metadata": {},
   "outputs": [
    {
     "name": "stdout",
     "output_type": "stream",
     "text": [
      "1\t电池\t电池\tN\tNN\t_\t3\tnsubj\t_\t_\n",
      "2\t非常\t非常\tA\tAD\t_\t3\tadvmod\t_\t_\n",
      "3\t棒\t棒\tV\tVA\t_\t0\tROOT\t_\t_\n",
      "4\t，\t，\tP\tPU\t_\t3\tpunct\t_\t_\n",
      "5\t机身\t机身\tN\tNN\t_\t7\tnsubj\t_\t_\n",
      "6\t不\t不\tA\tAD\t_\t7\tneg\t_\t_\n",
      "7\t长\t长\tV\tVA\t_\t3\tconj\t_\t_\n",
      "8\t，\t，\tP\tPU\t_\t7\tpunct\t_\t_\n",
      "9\t长\t长\tV\tVA\t_\t11\ttop\t_\t_\n",
      "10\t的\t的\tD\tDEC\t_\t9\tcpm\t_\t_\n",
      "11\t是\t是\tV\tVC\t_\t7\tconj\t_\t_\n",
      "12\t待机\t待机\tN\tNN\t_\t11\tattr\t_\t_\n",
      "13\t，\t，\tP\tPU\t_\t3\tpunct\t_\t_\n",
      "14\t但是\t但是\tA\tAD\t_\t18\tadvmod\t_\t_\n",
      "15\t屏幕\t屏幕\tN\tNN\t_\t16\tnn\t_\t_\n",
      "16\t分辨率\t分辨率\tN\tNN\t_\t18\tnsubj\t_\t_\n",
      "17\t不\t不\tA\tAD\t_\t18\tneg\t_\t_\n",
      "18\t高\t高\tV\tVA\t_\t3\tconj\t_\t_\n",
      "19\t。\t。\tP\tPU\t_\t3\tpunct\t_\t_\n",
      "\n"
     ]
    }
   ],
   "source": [
    "from pyhanlp import *\n",
    "\n",
    "CoNLLSentence = JClass('com.hankcs.hanlp.corpus.dependency.CoNll.CoNLLSentence')\n",
    "CoNLLWord = JClass('com.hankcs.hanlp.corpus.dependency.CoNll.CoNLLWord')\n",
    "IDependencyParser = JClass('com.hankcs.hanlp.dependency.IDependencyParser')\n",
    "KBeamArcEagerDependencyParser = JClass('com.hankcs.hanlp.dependency.perceptron.parser.KBeamArcEagerDependencyParser')\n",
    "\n",
    "\n",
    "parser = KBeamArcEagerDependencyParser()\n",
    "tree = parser.parse(\"电池非常棒，机身不长，长的是待机，但是屏幕分辨率不高。\")\n",
    "print(tree)"
   ]
  },
  {
   "cell_type": "markdown",
   "metadata": {},
   "source": [
    "![jufashu](./句法树en.jpg)"
   ]
  },
  {
   "cell_type": "markdown",
   "metadata": {},
   "source": [
    "### 找出词性是NN，且作为某个形容词的名词性主语"
   ]
  },
  {
   "cell_type": "code",
   "execution_count": 5,
   "metadata": {},
   "outputs": [
    {
     "name": "stdout",
     "output_type": "stream",
     "text": [
      "电池 = 棒\n",
      "机身 = 长\n",
      "分辨率 = 高\n"
     ]
    }
   ],
   "source": [
    "for word in tree.iterator():\n",
    "    if word.POSTAG == \"NN\" and word.DEPREL == \"nsubj\":\n",
    "        print(\"%s = %s\" % (word.LEMMA, word.HEAD.LEMMA))"
   ]
  },
  {
   "cell_type": "markdown",
   "metadata": {},
   "source": [
    "### 检查形容词是否存在否定修饰的支配词"
   ]
  },
  {
   "cell_type": "code",
   "execution_count": 6,
   "metadata": {},
   "outputs": [
    {
     "name": "stdout",
     "output_type": "stream",
     "text": [
      "电池 = 棒\n",
      "机身 = 不长\n",
      "分辨率 = 不高\n"
     ]
    }
   ],
   "source": [
    "for word in tree.iterator():\n",
    "    if word.POSTAG == \"NN\" and word.DEPREL == \"nsubj\":\n",
    "        if tree.findChildren(word.HEAD, \"neg\").isEmpty():\n",
    "            print(\"%s = %s\" % (word.LEMMA, word.HEAD.LEMMA))\n",
    "        else:\n",
    "            print(\"%s = 不%s\" % (word.LEMMA, word.HEAD.LEMMA))"
   ]
  },
  {
   "cell_type": "markdown",
   "metadata": {},
   "source": [
    "### 提取出“待机”与“长”\n",
    "“待机”与“长”之间的公共父节点为“是”"
   ]
  },
  {
   "cell_type": "code",
   "execution_count": 7,
   "metadata": {},
   "outputs": [
    {
     "name": "stdout",
     "output_type": "stream",
     "text": [
      "电池 = 棒\n",
      "机身 = 不长\n",
      "待机 = 长\n",
      "分辨率 = 不高\n"
     ]
    }
   ],
   "source": [
    "for word in tree.iterator():\n",
    "    if word.POSTAG == \"NN\":\n",
    "        if word.DEPREL == \"nsubj\":  # ①属性\n",
    "\n",
    "            if tree.findChildren(word.HEAD, \"neg\").isEmpty():\n",
    "                print(\"%s = %s\" % (word.LEMMA, word.HEAD.LEMMA))\n",
    "            else:\n",
    "                print(\"%s = 不%s\" % (word.LEMMA, word.HEAD.LEMMA))\n",
    "        elif word.DEPREL == \"attr\":\n",
    "            top = tree.findChildren(word.HEAD, \"top\")  # ②主题\n",
    "\n",
    "            if not top.isEmpty():\n",
    "                print(\"%s = %s\" % (word.LEMMA, top.get(0).LEMMA))"
   ]
  },
  {
   "cell_type": "markdown",
   "metadata": {},
   "source": [
    "## Python接口"
   ]
  },
  {
   "cell_type": "code",
   "execution_count": 2,
   "metadata": {
    "ExecuteTime": {
     "end_time": "2021-05-26T01:45:14.227477Z",
     "start_time": "2021-05-26T01:45:10.581744Z"
    }
   },
   "outputs": [
    {
     "name": "stdout",
     "output_type": "stream",
     "text": [
      "1\t电池\t电池\tn\tn\t_\t3\t主谓关系\t_\t_\n",
      "2\t非常\t非常\td\td\t_\t3\t状中结构\t_\t_\n",
      "3\t棒\t棒\ta\ta\t_\t0\t核心关系\t_\t_\n",
      "4\t，\t，\twp\tw\t_\t3\t标点符号\t_\t_\n",
      "5\t机身\t机身\tn\tn\t_\t6\t主谓关系\t_\t_\n",
      "6\t不长\t不长\tv\tv\t_\t3\t并列关系\t_\t_\n",
      "7\t，\t，\twp\tw\t_\t6\t标点符号\t_\t_\n",
      "8\t长\t长\ta\ta\t_\t10\t主谓关系\t_\t_\n",
      "9\t的\t的\tu\tu\t_\t8\t右附加关系\t_\t_\n",
      "10\t是\t是\tv\tv\t_\t6\t并列关系\t_\t_\n",
      "11\t待机\t待机\tj\tj\t_\t10\t动宾关系\t_\t_\n",
      "12\t，\t，\twp\tw\t_\t10\t标点符号\t_\t_\n",
      "13\t但是\t但是\tc\tc\t_\t17\t状中结构\t_\t_\n",
      "14\t屏幕\t屏幕\tn\tn\t_\t15\t定中关系\t_\t_\n",
      "15\t分辨率\t分辨率\tn\tn\t_\t17\t主谓关系\t_\t_\n",
      "16\t不\t不\td\td\t_\t17\t状中结构\t_\t_\n",
      "17\t高\t高\ta\ta\t_\t10\t并列关系\t_\t_\n",
      "18\t。\t。\twp\tw\t_\t3\t标点符号\t_\t_\n",
      "\n"
     ]
    }
   ],
   "source": [
    "from pyhanlp import HanLP\n",
    "print(HanLP.parseDependency(\"电池非常棒，机身不长，长的是待机，但是屏幕分辨率不高。\"))"
   ]
  },
  {
   "cell_type": "markdown",
   "metadata": {},
   "source": [
    "![jufashu](./句法树.jpg)"
   ]
  },
  {
   "cell_type": "code",
   "execution_count": null,
   "metadata": {},
   "outputs": [],
   "source": []
  }
 ],
 "metadata": {
  "kernelspec": {
   "display_name": "Python 3",
   "language": "python",
   "name": "python3"
  },
  "language_info": {
   "codemirror_mode": {
    "name": "ipython",
    "version": 3
   },
   "file_extension": ".py",
   "mimetype": "text/x-python",
   "name": "python",
   "nbconvert_exporter": "python",
   "pygments_lexer": "ipython3",
   "version": "3.7.0"
  },
  "nbTranslate": {
   "displayLangs": [
    "*"
   ],
   "hotkey": "alt-t",
   "langInMainMenu": true,
   "sourceLang": "en",
   "targetLang": "fr",
   "useGoogleTranslate": true
  },
  "toc": {
   "base_numbering": 1,
   "nav_menu": {},
   "number_sections": true,
   "sideBar": true,
   "skip_h1_title": false,
   "title_cell": "Table of Contents",
   "title_sidebar": "Contents",
   "toc_cell": false,
   "toc_position": {},
   "toc_section_display": true,
   "toc_window_display": false
  },
  "varInspector": {
   "cols": {
    "lenName": 16,
    "lenType": 16,
    "lenVar": 40
   },
   "kernels_config": {
    "python": {
     "delete_cmd_postfix": "",
     "delete_cmd_prefix": "del ",
     "library": "var_list.py",
     "varRefreshCmd": "print(var_dic_list())"
    },
    "r": {
     "delete_cmd_postfix": ") ",
     "delete_cmd_prefix": "rm(",
     "library": "var_list.r",
     "varRefreshCmd": "cat(var_dic_list()) "
    }
   },
   "types_to_exclude": [
    "module",
    "function",
    "builtin_function_or_method",
    "instance",
    "_Feature"
   ],
   "window_display": false
  }
 },
 "nbformat": 4,
 "nbformat_minor": 4
}
