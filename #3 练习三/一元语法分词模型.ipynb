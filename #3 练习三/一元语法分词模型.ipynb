{
 "cells": [
  {
   "cell_type": "markdown",
   "metadata": {},
   "source": [
    "## 一元语法模型"
   ]
  },
  {
   "cell_type": "markdown",
   "metadata": {},
   "source": [
    "### 前缀词典构建"
   ]
  },
  {
   "cell_type": "code",
   "execution_count": 2,
   "metadata": {
    "ExecuteTime": {
     "end_time": "2021-03-27T16:23:07.433526Z",
     "start_time": "2021-03-27T16:23:07.419564Z"
    }
   },
   "outputs": [],
   "source": [
    "def gen_pfdict(f):\n",
    "    lfreq = {}\n",
    "    ltotal = 0\n",
    "    for lineno, line in enumerate(f, 1):\n",
    "        try:\n",
    "            line = line.strip()\n",
    "            word, freq = line.split(' ')[:2]\n",
    "            freq = int(freq)\n",
    "            lfreq[word] = freq\n",
    "            ltotal += freq\n",
    "            for ch in range(len(word)):\n",
    "                wfrag = word[:ch + 1]\n",
    "                if wfrag not in lfreq:\n",
    "                    lfreq[wfrag] = 0 # 不在词典里的前缀，词频设为零，前提是词典已经进行排序\n",
    "        except ValueError:\n",
    "            raise ValueError(\n",
    "                'invalid dictionary entry in %s at Line %s: %s' % (f.name, lineno, line))\n",
    "    f.close()\n",
    "    return lfreq, ltotal"
   ]
  },
  {
   "cell_type": "markdown",
   "metadata": {},
   "source": [
    "### 有向无环图构建"
   ]
  },
  {
   "cell_type": "code",
   "execution_count": 3,
   "metadata": {
    "ExecuteTime": {
     "end_time": "2021-03-27T16:23:09.994306Z",
     "start_time": "2021-03-27T16:23:09.281105Z"
    }
   },
   "outputs": [],
   "source": [
    "import logging\n",
    "logging.basicConfig(level=logging.DEBUG,format='%(asctime)s - [line:%(lineno)d] - %(levelname)s: %(message)s')\n",
    "\n",
    "f = open(\"jieba_dict.txt\",encoding=\"utf-8\")\n",
    "FREQ, total = gen_pfdict(f)"
   ]
  },
  {
   "cell_type": "code",
   "execution_count": 4,
   "metadata": {
    "ExecuteTime": {
     "end_time": "2021-03-27T16:23:11.200926Z",
     "start_time": "2021-03-27T16:23:11.179982Z"
    }
   },
   "outputs": [
    {
     "name": "stdout",
     "output_type": "stream",
     "text": [
      "4207\n",
      "60101967\n"
     ]
    },
    {
     "data": {
      "text/plain": [
       "-9.567048044164698"
      ]
     },
     "execution_count": 4,
     "metadata": {},
     "output_type": "execute_result"
    }
   ],
   "source": [
    "print(FREQ['玩'])\n",
    "print(total)\n",
    "log(4207)-log(60101967)"
   ]
  },
  {
   "cell_type": "code",
   "execution_count": 5,
   "metadata": {
    "ExecuteTime": {
     "end_time": "2021-03-27T16:23:12.272997Z",
     "start_time": "2021-03-27T16:23:12.262027Z"
    }
   },
   "outputs": [],
   "source": [
    "def get_DAG(sentence):\n",
    "    logging.info(\"生成有向无环图...\")\n",
    "    DAG = {}\n",
    "    N = len(sentence)\n",
    "    for k in range(N):\n",
    "        logging.debug(\"k = %s\"%k)\n",
    "        tmplist = []\n",
    "        i = k\n",
    "        frag = sentence[k]\n",
    "        logging.debug(\"for 循环 frag: %s\"%frag)\n",
    "        while i < N and frag in FREQ:\n",
    "            logging.debug(\"\\t 进入while...\")\n",
    "            logging.debug(\"\\t i = %s\"%i)\n",
    "            logging.debug(\"\\t FREQ[%s]: %s\"%(frag,FREQ[frag]))\n",
    "            if FREQ[frag]:\n",
    "                tmplist.append(i)\n",
    "            i += 1\n",
    "            frag = sentence[k:i + 1]\n",
    "            logging.debug(\"\\t while 循环 frag: %s\"%frag)\n",
    "            logging.debug(\"\\t tmplist: %s\"%tmplist)\n",
    "        if not tmplist:\n",
    "            tmplist.append(k)\n",
    "            logging.debug(\"\\t if 语句 tmplist: %s\"%tmplist)\n",
    "        DAG[k] = tmplist\n",
    "    return DAG"
   ]
  },
  {
   "cell_type": "code",
   "execution_count": 8,
   "metadata": {
    "ExecuteTime": {
     "end_time": "2021-03-27T16:24:29.620423Z",
     "start_time": "2021-03-27T16:24:29.613442Z"
    }
   },
   "outputs": [
    {
     "name": "stderr",
     "output_type": "stream",
     "text": [
      "2021-03-28 00:24:29,613 - [line:2] - INFO: 生成有向无环图...\n"
     ]
    },
    {
     "data": {
      "text/plain": [
       "{0: [0], 1: [1, 2, 4], 2: [2], 3: [3, 4], 4: [4], 5: [5]}"
      ]
     },
     "execution_count": 8,
     "metadata": {},
     "output_type": "execute_result"
    }
   ],
   "source": [
    "logger = logging.getLogger()\n",
    "logger.setLevel(logging.INFO)\n",
    "get_DAG(\"去北京大学玩\")"
   ]
  },
  {
   "cell_type": "markdown",
   "metadata": {},
   "source": [
    "### 最大概率路径计算"
   ]
  },
  {
   "cell_type": "code",
   "execution_count": 12,
   "metadata": {
    "ExecuteTime": {
     "end_time": "2021-03-27T16:25:02.188929Z",
     "start_time": "2021-03-27T16:25:02.172999Z"
    }
   },
   "outputs": [
    {
     "name": "stderr",
     "output_type": "stream",
     "text": [
      "2021-03-28 00:25:02,176 - [line:2] - INFO: 生成有向无环图...\n"
     ]
    },
    {
     "name": "stdout",
     "output_type": "stream",
     "text": [
      "{0: [0], 1: [1, 2, 4], 2: [2], 3: [3, 4], 4: [4], 5: [5]}\n"
     ]
    }
   ],
   "source": [
    "from math import log\n",
    "logger = logging.getLogger()\n",
    "logger.setLevel(logging.INFO) \n",
    "\n",
    "route = {}\n",
    "sentence = \"去北京大学玩\"\n",
    "DAG = get_DAG(sentence)\n",
    "print(DAG)\n",
    "def calc(sentence, DAG, route):\n",
    "    logging.info(\"计算路径概率...\")\n",
    "    N = len(sentence)\n",
    "    route[N] = (0, 0)\n",
    "    logtotal = log(total)\n",
    "    for idx in range(N-1, -1, -1):\n",
    "        logging.debug(\"\\t idx: %s\"%idx)\n",
    "        logging.debug(\"\\t DAG[%s]: %s\"% (idx,DAG[idx]))\n",
    "        tmp = []\n",
    "        for x in DAG[idx]:\n",
    "            logging.debug(\"\\t\\t x: %s\"%x)\n",
    "            logging.debug(\"\\t\\t sentence[idx:x + 1]: %s\"%sentence[idx:x + 1])\n",
    "            # 计算概率值\n",
    "            prob = log(FREQ.get(sentence[idx:x + 1]) or 1) - logtotal\n",
    "            logging.debug(\"\\t\\t porb: %s\"%prob)\n",
    "            logging.debug(\"\\t\\t route[%s][0]: %s\"%(x+1, route[x+1][0]))\n",
    "            value = round(prob + route[x + 1][0],2)\n",
    "            logging.debug(\"\\t\\t value: %s\"%value)\n",
    "            tmp.append( (value, x) )\n",
    "            logging.debug(\"\\t\\t tmp: %s\"%str(tmp))\n",
    "        route[idx] = max(tmp)\n",
    "        logging.debug(\"\\t route[%s]: %s\"%(idx,str(route[idx])))"
   ]
  },
  {
   "cell_type": "code",
   "execution_count": 21,
   "metadata": {
    "ExecuteTime": {
     "end_time": "2021-03-27T16:27:28.557448Z",
     "start_time": "2021-03-27T16:27:28.544483Z"
    }
   },
   "outputs": [
    {
     "data": {
      "text/plain": [
       "{0: [0, 1],\n",
       " 1: [1],\n",
       " 2: [2],\n",
       " 3: [3, 4],\n",
       " 4: [4],\n",
       " 5: [5, 6],\n",
       " 6: [6],\n",
       " 7: [7],\n",
       " 8: [8, 9],\n",
       " 9: [9],\n",
       " 10: [10]}"
      ]
     },
     "execution_count": 21,
     "metadata": {},
     "output_type": "execute_result"
    }
   ],
   "source": [
    "DAG"
   ]
  },
  {
   "cell_type": "code",
   "execution_count": 22,
   "metadata": {
    "ExecuteTime": {
     "end_time": "2021-03-27T16:30:54.284616Z",
     "start_time": "2021-03-27T16:30:54.273645Z"
    }
   },
   "outputs": [
    {
     "name": "stderr",
     "output_type": "stream",
     "text": [
      "2021-03-28 00:30:54,274 - [line:2] - INFO: 生成有向无环图...\n",
      "2021-03-28 00:30:54,275 - [line:10] - INFO: 计算路径概率...\n"
     ]
    },
    {
     "data": {
      "text/plain": [
       "[(11, (0, 0)),\n",
       " (10, (0, 0)),\n",
       " (9, (-11.57, 9)),\n",
       " (8, (-9.06, 9)),\n",
       " (7, (-16.65, 7)),\n",
       " (6, (-27.92, 6)),\n",
       " (5, (-25.0, 6)),\n",
       " (4, (-35.29, 4)),\n",
       " (3, (-32.12, 4)),\n",
       " (2, (-37.36, 2)),\n",
       " (1, (-48.82, 1)),\n",
       " (0, (-47.42, 1))]"
      ]
     },
     "execution_count": 22,
     "metadata": {},
     "output_type": "execute_result"
    }
   ],
   "source": [
    "sentence = '希腊的经济结构较特殊'\n",
    "DAG = get_DAG(sentence)\n",
    "calc(sentence,DAG,route)\n",
    "sorted(route.items() ,key=lambda x:x[0], reverse=True)"
   ]
  },
  {
   "cell_type": "markdown",
   "metadata": {},
   "source": [
    "### 获取分词结果"
   ]
  },
  {
   "cell_type": "markdown",
   "metadata": {},
   "source": [
    "#### 精确模式"
   ]
  },
  {
   "cell_type": "markdown",
   "metadata": {},
   "source": [
    "试图将句子最精确地切开，适合文本分析"
   ]
  },
  {
   "cell_type": "code",
   "execution_count": 6,
   "metadata": {},
   "outputs": [
    {
     "name": "stderr",
     "output_type": "stream",
     "text": [
      "2021-03-23 16:52:53,235 - [line:2] - INFO: 生成有向无环图...\n",
      "2021-03-23 16:52:53,236 - [line:6] - DEBUG: k = 0\n",
      "2021-03-23 16:52:53,237 - [line:10] - DEBUG: for 循环 frag: 去\n",
      "2021-03-23 16:52:53,237 - [line:12] - DEBUG: \t 进入while...\n",
      "2021-03-23 16:52:53,238 - [line:13] - DEBUG: \t i = 0\n",
      "2021-03-23 16:52:53,238 - [line:14] - DEBUG: \t FREQ[去]: 123402\n",
      "2021-03-23 16:52:53,238 - [line:19] - DEBUG: \t while 循环 frag: 去北\n",
      "2021-03-23 16:52:53,239 - [line:20] - DEBUG: \t tmplist: [0]\n",
      "2021-03-23 16:52:53,239 - [line:6] - DEBUG: k = 1\n",
      "2021-03-23 16:52:53,239 - [line:10] - DEBUG: for 循环 frag: 北\n",
      "2021-03-23 16:52:53,240 - [line:12] - DEBUG: \t 进入while...\n",
      "2021-03-23 16:52:53,240 - [line:13] - DEBUG: \t i = 1\n",
      "2021-03-23 16:52:53,241 - [line:14] - DEBUG: \t FREQ[北]: 17860\n",
      "2021-03-23 16:52:53,241 - [line:19] - DEBUG: \t while 循环 frag: 北京\n",
      "2021-03-23 16:52:53,242 - [line:20] - DEBUG: \t tmplist: [1]\n",
      "2021-03-23 16:52:53,242 - [line:12] - DEBUG: \t 进入while...\n",
      "2021-03-23 16:52:53,242 - [line:13] - DEBUG: \t i = 2\n",
      "2021-03-23 16:52:53,243 - [line:14] - DEBUG: \t FREQ[北京]: 34488\n",
      "2021-03-23 16:52:53,243 - [line:19] - DEBUG: \t while 循环 frag: 北京大\n",
      "2021-03-23 16:52:53,243 - [line:20] - DEBUG: \t tmplist: [1, 2]\n",
      "2021-03-23 16:52:53,244 - [line:12] - DEBUG: \t 进入while...\n",
      "2021-03-23 16:52:53,244 - [line:13] - DEBUG: \t i = 3\n",
      "2021-03-23 16:52:53,245 - [line:14] - DEBUG: \t FREQ[北京大]: 0\n",
      "2021-03-23 16:52:53,245 - [line:19] - DEBUG: \t while 循环 frag: 北京大学\n",
      "2021-03-23 16:52:53,246 - [line:20] - DEBUG: \t tmplist: [1, 2]\n",
      "2021-03-23 16:52:53,246 - [line:12] - DEBUG: \t 进入while...\n",
      "2021-03-23 16:52:53,246 - [line:13] - DEBUG: \t i = 4\n",
      "2021-03-23 16:52:53,247 - [line:14] - DEBUG: \t FREQ[北京大学]: 2053\n",
      "2021-03-23 16:52:53,247 - [line:19] - DEBUG: \t while 循环 frag: 北京大学玩\n",
      "2021-03-23 16:52:53,247 - [line:20] - DEBUG: \t tmplist: [1, 2, 4]\n",
      "2021-03-23 16:52:53,248 - [line:6] - DEBUG: k = 2\n",
      "2021-03-23 16:52:53,248 - [line:10] - DEBUG: for 循环 frag: 京\n",
      "2021-03-23 16:52:53,248 - [line:12] - DEBUG: \t 进入while...\n",
      "2021-03-23 16:52:53,249 - [line:13] - DEBUG: \t i = 2\n",
      "2021-03-23 16:52:53,249 - [line:14] - DEBUG: \t FREQ[京]: 6583\n",
      "2021-03-23 16:52:53,249 - [line:19] - DEBUG: \t while 循环 frag: 京大\n",
      "2021-03-23 16:52:53,249 - [line:20] - DEBUG: \t tmplist: [2]\n",
      "2021-03-23 16:52:53,250 - [line:12] - DEBUG: \t 进入while...\n",
      "2021-03-23 16:52:53,250 - [line:13] - DEBUG: \t i = 3\n",
      "2021-03-23 16:52:53,250 - [line:14] - DEBUG: \t FREQ[京大]: 0\n",
      "2021-03-23 16:52:53,251 - [line:19] - DEBUG: \t while 循环 frag: 京大学\n",
      "2021-03-23 16:52:53,251 - [line:20] - DEBUG: \t tmplist: [2]\n",
      "2021-03-23 16:52:53,251 - [line:6] - DEBUG: k = 3\n",
      "2021-03-23 16:52:53,252 - [line:10] - DEBUG: for 循环 frag: 大\n",
      "2021-03-23 16:52:53,252 - [line:12] - DEBUG: \t 进入while...\n",
      "2021-03-23 16:52:53,252 - [line:13] - DEBUG: \t i = 3\n",
      "2021-03-23 16:52:53,253 - [line:14] - DEBUG: \t FREQ[大]: 144099\n",
      "2021-03-23 16:52:53,253 - [line:19] - DEBUG: \t while 循环 frag: 大学\n",
      "2021-03-23 16:52:53,253 - [line:20] - DEBUG: \t tmplist: [3]\n",
      "2021-03-23 16:52:53,254 - [line:12] - DEBUG: \t 进入while...\n",
      "2021-03-23 16:52:53,254 - [line:13] - DEBUG: \t i = 4\n",
      "2021-03-23 16:52:53,254 - [line:14] - DEBUG: \t FREQ[大学]: 20025\n",
      "2021-03-23 16:52:53,255 - [line:19] - DEBUG: \t while 循环 frag: 大学玩\n",
      "2021-03-23 16:52:53,255 - [line:20] - DEBUG: \t tmplist: [3, 4]\n",
      "2021-03-23 16:52:53,255 - [line:6] - DEBUG: k = 4\n",
      "2021-03-23 16:52:53,256 - [line:10] - DEBUG: for 循环 frag: 学\n",
      "2021-03-23 16:52:53,256 - [line:12] - DEBUG: \t 进入while...\n",
      "2021-03-23 16:52:53,256 - [line:13] - DEBUG: \t i = 4\n",
      "2021-03-23 16:52:53,257 - [line:14] - DEBUG: \t FREQ[学]: 17482\n",
      "2021-03-23 16:52:53,257 - [line:19] - DEBUG: \t while 循环 frag: 学玩\n",
      "2021-03-23 16:52:53,258 - [line:20] - DEBUG: \t tmplist: [4]\n",
      "2021-03-23 16:52:53,258 - [line:6] - DEBUG: k = 5\n",
      "2021-03-23 16:52:53,258 - [line:10] - DEBUG: for 循环 frag: 玩\n",
      "2021-03-23 16:52:53,259 - [line:12] - DEBUG: \t 进入while...\n",
      "2021-03-23 16:52:53,259 - [line:13] - DEBUG: \t i = 5\n",
      "2021-03-23 16:52:53,260 - [line:14] - DEBUG: \t FREQ[玩]: 4207\n",
      "2021-03-23 16:52:53,260 - [line:19] - DEBUG: \t while 循环 frag: 玩\n",
      "2021-03-23 16:52:53,260 - [line:20] - DEBUG: \t tmplist: [5]\n",
      "2021-03-23 16:52:53,261 - [line:10] - INFO: 计算路径概率...\n",
      "2021-03-23 16:52:53,261 - [line:15] - DEBUG: \t idx: 5\n",
      "2021-03-23 16:52:53,262 - [line:16] - DEBUG: \t DAG[5]: [5]\n",
      "2021-03-23 16:52:53,267 - [line:19] - DEBUG: \t\t x: 5\n",
      "2021-03-23 16:52:53,268 - [line:20] - DEBUG: \t\t sentence[idx:x + 1]: 玩\n",
      "2021-03-23 16:52:53,268 - [line:23] - DEBUG: \t\t porb: -9.567048044164698\n",
      "2021-03-23 16:52:53,269 - [line:24] - DEBUG: \t\t route[6][0]: 0\n",
      "2021-03-23 16:52:53,269 - [line:26] - DEBUG: \t\t value: -9.57\n",
      "2021-03-23 16:52:53,269 - [line:28] - DEBUG: \t\t tmp: [(-9.57, 5)]\n",
      "2021-03-23 16:52:53,270 - [line:30] - DEBUG: \t route[5]: (-9.57, 5)\n",
      "2021-03-23 16:52:53,270 - [line:15] - DEBUG: \t idx: 4\n",
      "2021-03-23 16:52:53,270 - [line:16] - DEBUG: \t DAG[4]: [4]\n",
      "2021-03-23 16:52:53,271 - [line:19] - DEBUG: \t\t x: 4\n",
      "2021-03-23 16:52:53,271 - [line:20] - DEBUG: \t\t sentence[idx:x + 1]: 学\n",
      "2021-03-23 16:52:53,271 - [line:23] - DEBUG: \t\t porb: -8.142626068614787\n",
      "2021-03-23 16:52:53,272 - [line:24] - DEBUG: \t\t route[5][0]: -9.57\n",
      "2021-03-23 16:52:53,273 - [line:26] - DEBUG: \t\t value: -17.71\n",
      "2021-03-23 16:52:53,273 - [line:28] - DEBUG: \t\t tmp: [(-17.71, 4)]\n",
      "2021-03-23 16:52:53,274 - [line:30] - DEBUG: \t route[4]: (-17.71, 4)\n",
      "2021-03-23 16:52:53,274 - [line:15] - DEBUG: \t idx: 3\n",
      "2021-03-23 16:52:53,274 - [line:16] - DEBUG: \t DAG[3]: [3, 4]\n",
      "2021-03-23 16:52:53,275 - [line:19] - DEBUG: \t\t x: 3\n",
      "2021-03-23 16:52:53,275 - [line:20] - DEBUG: \t\t sentence[idx:x + 1]: 大\n",
      "2021-03-23 16:52:53,276 - [line:23] - DEBUG: \t\t porb: -6.033297285416946\n",
      "2021-03-23 16:52:53,276 - [line:24] - DEBUG: \t\t route[4][0]: -17.71\n",
      "2021-03-23 16:52:53,277 - [line:26] - DEBUG: \t\t value: -23.74\n",
      "2021-03-23 16:52:53,277 - [line:28] - DEBUG: \t\t tmp: [(-23.74, 3)]\n",
      "2021-03-23 16:52:53,278 - [line:19] - DEBUG: \t\t x: 4\n",
      "2021-03-23 16:52:53,278 - [line:20] - DEBUG: \t\t sentence[idx:x + 1]: 大学\n",
      "2021-03-23 16:52:53,279 - [line:23] - DEBUG: \t\t porb: -8.006816355818659\n",
      "2021-03-23 16:52:53,279 - [line:24] - DEBUG: \t\t route[5][0]: -9.57\n",
      "2021-03-23 16:52:53,280 - [line:26] - DEBUG: \t\t value: -17.58\n",
      "2021-03-23 16:52:53,280 - [line:28] - DEBUG: \t\t tmp: [(-23.74, 3), (-17.58, 4)]\n",
      "2021-03-23 16:52:53,280 - [line:30] - DEBUG: \t route[3]: (-17.58, 4)\n",
      "2021-03-23 16:52:53,281 - [line:15] - DEBUG: \t idx: 2\n",
      "2021-03-23 16:52:53,281 - [line:16] - DEBUG: \t DAG[2]: [2]\n",
      "2021-03-23 16:52:53,282 - [line:19] - DEBUG: \t\t x: 2\n",
      "2021-03-23 16:52:53,282 - [line:20] - DEBUG: \t\t sentence[idx:x + 1]: 京\n",
      "2021-03-23 16:52:53,282 - [line:23] - DEBUG: \t\t porb: -9.119307280287343\n",
      "2021-03-23 16:52:53,283 - [line:24] - DEBUG: \t\t route[3][0]: -17.58\n",
      "2021-03-23 16:52:53,283 - [line:26] - DEBUG: \t\t value: -26.7\n",
      "2021-03-23 16:52:53,283 - [line:28] - DEBUG: \t\t tmp: [(-26.7, 2)]\n",
      "2021-03-23 16:52:53,284 - [line:30] - DEBUG: \t route[2]: (-26.7, 2)\n",
      "2021-03-23 16:52:53,284 - [line:15] - DEBUG: \t idx: 1\n",
      "2021-03-23 16:52:53,284 - [line:16] - DEBUG: \t DAG[1]: [1, 2, 4]\n",
      "2021-03-23 16:52:53,285 - [line:19] - DEBUG: \t\t x: 1\n",
      "2021-03-23 16:52:53,285 - [line:20] - DEBUG: \t\t sentence[idx:x + 1]: 北\n",
      "2021-03-23 16:52:53,285 - [line:23] - DEBUG: \t\t porb: -8.12123427332473\n",
      "2021-03-23 16:52:53,285 - [line:24] - DEBUG: \t\t route[2][0]: -26.7\n",
      "2021-03-23 16:52:53,285 - [line:26] - DEBUG: \t\t value: -34.82\n",
      "2021-03-23 16:52:53,285 - [line:28] - DEBUG: \t\t tmp: [(-34.82, 1)]\n",
      "2021-03-23 16:52:53,286 - [line:19] - DEBUG: \t\t x: 2\n",
      "2021-03-23 16:52:53,286 - [line:20] - DEBUG: \t\t sentence[idx:x + 1]: 北京\n",
      "2021-03-23 16:52:53,286 - [line:23] - DEBUG: \t\t porb: -7.463186411328248\n",
      "2021-03-23 16:52:53,287 - [line:24] - DEBUG: \t\t route[3][0]: -17.58\n",
      "2021-03-23 16:52:53,287 - [line:26] - DEBUG: \t\t value: -25.04\n",
      "2021-03-23 16:52:53,287 - [line:28] - DEBUG: \t\t tmp: [(-34.82, 1), (-25.04, 2)]\n",
      "2021-03-23 16:52:53,288 - [line:19] - DEBUG: \t\t x: 4\n",
      "2021-03-23 16:52:53,288 - [line:20] - DEBUG: \t\t sentence[idx:x + 1]: 北京大学\n",
      "2021-03-23 16:52:53,288 - [line:23] - DEBUG: \t\t porb: -10.284495710736286\n",
      "2021-03-23 16:52:53,289 - [line:24] - DEBUG: \t\t route[5][0]: -9.57\n",
      "2021-03-23 16:52:53,289 - [line:26] - DEBUG: \t\t value: -19.85\n",
      "2021-03-23 16:52:53,289 - [line:28] - DEBUG: \t\t tmp: [(-34.82, 1), (-25.04, 2), (-19.85, 4)]\n",
      "2021-03-23 16:52:53,290 - [line:30] - DEBUG: \t route[1]: (-19.85, 4)\n",
      "2021-03-23 16:52:53,290 - [line:15] - DEBUG: \t idx: 0\n"
     ]
    },
    {
     "name": "stderr",
     "output_type": "stream",
     "text": [
      "2021-03-23 16:52:53,291 - [line:16] - DEBUG: \t DAG[0]: [0]\n",
      "2021-03-23 16:52:53,291 - [line:19] - DEBUG: \t\t x: 0\n",
      "2021-03-23 16:52:53,291 - [line:20] - DEBUG: \t\t sentence[idx:x + 1]: 去\n",
      "2021-03-23 16:52:53,292 - [line:23] - DEBUG: \t\t porb: -6.188350529977704\n",
      "2021-03-23 16:52:53,292 - [line:24] - DEBUG: \t\t route[1][0]: -19.85\n",
      "2021-03-23 16:52:53,292 - [line:26] - DEBUG: \t\t value: -26.04\n",
      "2021-03-23 16:52:53,293 - [line:28] - DEBUG: \t\t tmp: [(-26.04, 0)]\n",
      "2021-03-23 16:52:53,293 - [line:30] - DEBUG: \t route[0]: (-26.04, 0)\n",
      "2021-03-23 16:52:53,294 - [line:14] - DEBUG: \tx: 0\n",
      "2021-03-23 16:52:53,294 - [line:15] - DEBUG: \troute[0][1]: 0\n",
      "2021-03-23 16:52:53,294 - [line:16] - DEBUG: \ty: 1\n",
      "2021-03-23 16:52:53,294 - [line:17] - DEBUG: \tl_word: 去\n",
      "2021-03-23 16:52:53,295 - [line:14] - DEBUG: \tx: 1\n",
      "2021-03-23 16:52:53,295 - [line:15] - DEBUG: \troute[1][1]: 4\n",
      "2021-03-23 16:52:53,295 - [line:16] - DEBUG: \ty: 5\n",
      "2021-03-23 16:52:53,296 - [line:17] - DEBUG: \tl_word: 北京大学\n",
      "2021-03-23 16:52:53,296 - [line:14] - DEBUG: \tx: 5\n",
      "2021-03-23 16:52:53,296 - [line:15] - DEBUG: \troute[5][1]: 5\n",
      "2021-03-23 16:52:53,297 - [line:16] - DEBUG: \ty: 6\n",
      "2021-03-23 16:52:53,297 - [line:17] - DEBUG: \tl_word: 玩\n"
     ]
    },
    {
     "data": {
      "text/plain": [
       "['去', '北京大学', '玩']"
      ]
     },
     "execution_count": 6,
     "metadata": {},
     "output_type": "execute_result"
    }
   ],
   "source": [
    "import re\n",
    "re_eng = re.compile('[a-zA-Z0-9]', re.U)\n",
    "\n",
    "def __cut_DAG_NO_HMM(sentence, f):\n",
    "    DAG = get_DAG(sentence, f)\n",
    "    route = {}\n",
    "    calc(sentence, DAG, route)\n",
    "    x = 0\n",
    "    N = len(sentence)\n",
    "    buf = ''\n",
    "    while x < N:\n",
    "        y = route[x][1] + 1\n",
    "        l_word = sentence[x:y]\n",
    "        logging.debug(\"\\tx: %s\"%x)\n",
    "        logging.debug(\"\\troute[%s][1]: %s\"%(x,route[x][1]))\n",
    "        logging.debug(\"\\ty: %s\"%y)\n",
    "        logging.debug(\"\\tl_word: %s\"%l_word)\n",
    "        # 如果是连续的英文字母或数字进行合并\n",
    "        if re_eng.match(l_word) and len(l_word) == 1:\n",
    "            buf += l_word\n",
    "            x = y\n",
    "        else:\n",
    "            if buf:\n",
    "                yield buf\n",
    "                buf = ''\n",
    "            yield l_word\n",
    "            x = y\n",
    "    # 如果句子以连续英文或数字结尾\n",
    "    if buf:\n",
    "        yield buf\n",
    "        buf = ''\n",
    "            \n",
    "list(__cut_DAG_NO_HMM(sentence,f))"
   ]
  },
  {
   "cell_type": "code",
   "execution_count": null,
   "metadata": {},
   "outputs": [],
   "source": [
    "wordcut = wordCut()\n",
    "sentence = '希腊的经济结构较特殊。'\n",
    "\"  \".join(wordcut.cut(sentence))"
   ]
  }
 ],
 "metadata": {
  "kernelspec": {
   "display_name": "Python 3",
   "language": "python",
   "name": "python3"
  },
  "language_info": {
   "codemirror_mode": {
    "name": "ipython",
    "version": 3
   },
   "file_extension": ".py",
   "mimetype": "text/x-python",
   "name": "python",
   "nbconvert_exporter": "python",
   "pygments_lexer": "ipython3",
   "version": "3.7.0"
  },
  "nbTranslate": {
   "displayLangs": [
    "*"
   ],
   "hotkey": "alt-t",
   "langInMainMenu": true,
   "sourceLang": "en",
   "targetLang": "fr",
   "useGoogleTranslate": true
  },
  "toc": {
   "base_numbering": 1,
   "nav_menu": {},
   "number_sections": true,
   "sideBar": true,
   "skip_h1_title": false,
   "title_cell": "Table of Contents",
   "title_sidebar": "Contents",
   "toc_cell": false,
   "toc_position": {},
   "toc_section_display": true,
   "toc_window_display": true
  },
  "varInspector": {
   "cols": {
    "lenName": 16,
    "lenType": 16,
    "lenVar": 40
   },
   "kernels_config": {
    "python": {
     "delete_cmd_postfix": "",
     "delete_cmd_prefix": "del ",
     "library": "var_list.py",
     "varRefreshCmd": "print(var_dic_list())"
    },
    "r": {
     "delete_cmd_postfix": ") ",
     "delete_cmd_prefix": "rm(",
     "library": "var_list.r",
     "varRefreshCmd": "cat(var_dic_list()) "
    }
   },
   "types_to_exclude": [
    "module",
    "function",
    "builtin_function_or_method",
    "instance",
    "_Feature"
   ],
   "window_display": false
  }
 },
 "nbformat": 4,
 "nbformat_minor": 2
}
