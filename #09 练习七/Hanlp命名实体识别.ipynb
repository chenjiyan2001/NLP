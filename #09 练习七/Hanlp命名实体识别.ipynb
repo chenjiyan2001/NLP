{
 "cells": [
  {
   "cell_type": "markdown",
   "metadata": {},
   "source": [
    "# Hanlp命名实体识别API"
   ]
  },
  {
   "cell_type": "markdown",
   "metadata": {},
   "source": [
    "## 基于隐马尔可夫模型序列标注的命名实体识别"
   ]
  },
  {
   "cell_type": "code",
   "execution_count": 1,
   "metadata": {},
   "outputs": [],
   "source": [
    "import os\n",
    "PKU98 = \"../练习六/pku98\"\n",
    "PKU199801 = os.path.join(PKU98, '199801.txt')\n",
    "PKU199801_TRAIN = os.path.join(PKU98, '199801-train.txt')\n",
    "PKU199801_TEST = os.path.join(PKU98, '199801-test.txt')"
   ]
  },
  {
   "cell_type": "code",
   "execution_count": 4,
   "metadata": {},
   "outputs": [
    {
     "name": "stdout",
     "output_type": "stream",
     "text": [
      "华北\tns\tB-nt\t\n",
      "电力\tn\tM-nt\t\n",
      "公司\tn\tE-nt\t\n",
      "华北电力公司/nt 董事长/n 谭旭光/nr 和/c 秘书/n 胡花蕊/nr 来到/v 美国纽约/ns 现代/ntc 艺术/n 博物馆/n 参观/v\n"
     ]
    }
   ],
   "source": [
    "from pyhanlp import *\n",
    "\n",
    "HMMNERecognizer = JClass('com.hankcs.hanlp.model.hmm.HMMNERecognizer')\n",
    "AbstractLexicalAnalyzer = JClass('com.hankcs.hanlp.tokenizer.lexical.AbstractLexicalAnalyzer')\n",
    "PerceptronSegmenter = JClass('com.hankcs.hanlp.model.perceptron.PerceptronSegmenter')\n",
    "PerceptronPOSTagger = JClass('com.hankcs.hanlp.model.perceptron.PerceptronPOSTagger')\n",
    "Utility = JClass('com.hankcs.hanlp.model.perceptron.utility.Utility')\n",
    "\n",
    "\n",
    "def train(corpus):\n",
    "    recognizer = HMMNERecognizer()\n",
    "    recognizer.train(corpus)  \n",
    "    return recognizer\n",
    "\n",
    "\n",
    "def test(recognizer):\n",
    "    word_array = [\"华北\", \"电力\", \"公司\"]  # 构造单词序列\n",
    "    pos_array = [\"ns\", \"n\", \"n\"]  # 构造词性序列\n",
    "    ner_array = recognizer.recognize(word_array, pos_array)  # 序列标注\n",
    "    for word, tag, ner in zip(word_array, pos_array, ner_array):\n",
    "        print(\"%s\\t%s\\t%s\\t\" % (word, tag, ner))\n",
    "    analyzer = AbstractLexicalAnalyzer(PerceptronSegmenter(), PerceptronPOSTagger(), recognizer)\n",
    "    print(analyzer.analyze(\"华北电力公司董事长谭旭光和秘书胡花蕊来到美国纽约现代艺术博物馆参观\"))\n",
    "    scores = Utility.evaluateNER(recognizer, PKU199801_TEST)\n",
    "    Utility.printNERScore(scores)\n",
    "\n",
    "recognizer = train(PKU199801_TRAIN)\n",
    "test(recognizer)"
   ]
  },
  {
   "cell_type": "markdown",
   "metadata": {},
   "source": [
    "## 基于条件随机场序列标注的命名实体识别"
   ]
  },
  {
   "cell_type": "code",
   "execution_count": null,
   "metadata": {},
   "outputs": [],
   "source": [
    "from pyhanlp import *\n",
    "NER_MODEL = os.path.join(PKU98, 'ner.bin')\n",
    "\n",
    "NERTrainer = JClass('com.hankcs.hanlp.model.perceptron.NERTrainer')\n",
    "CRFNERecognizer = JClass('com.hankcs.hanlp.model.crf.CRFNERecognizer')\n",
    "\n",
    "def train(corpus, model):\n",
    "    recognizer = CRFNERecognizer(None)  # 空白\n",
    "    recognizer.train(corpus, model)\n",
    "    recognizer = CRFNERecognizer(model)\n",
    "    return recognizer\n",
    "\n",
    "\n",
    "recognizer = train(PKU199801_TRAIN, NER_MODEL)\n",
    "test(recognizer)"
   ]
  },
  {
   "cell_type": "code",
   "execution_count": null,
   "metadata": {},
   "outputs": [],
   "source": []
  }
 ],
 "metadata": {
  "kernelspec": {
   "display_name": "Python 3",
   "language": "python",
   "name": "python3"
  },
  "language_info": {
   "codemirror_mode": {
    "name": "ipython",
    "version": 3
   },
   "file_extension": ".py",
   "mimetype": "text/x-python",
   "name": "python",
   "nbconvert_exporter": "python",
   "pygments_lexer": "ipython3",
   "version": "3.7.0"
  },
  "nbTranslate": {
   "displayLangs": [
    "*"
   ],
   "hotkey": "alt-t",
   "langInMainMenu": true,
   "sourceLang": "en",
   "targetLang": "fr",
   "useGoogleTranslate": true
  },
  "toc": {
   "base_numbering": 1,
   "nav_menu": {},
   "number_sections": true,
   "sideBar": true,
   "skip_h1_title": false,
   "title_cell": "Table of Contents",
   "title_sidebar": "Contents",
   "toc_cell": false,
   "toc_position": {},
   "toc_section_display": true,
   "toc_window_display": false
  },
  "varInspector": {
   "cols": {
    "lenName": 16,
    "lenType": 16,
    "lenVar": 40
   },
   "kernels_config": {
    "python": {
     "delete_cmd_postfix": "",
     "delete_cmd_prefix": "del ",
     "library": "var_list.py",
     "varRefreshCmd": "print(var_dic_list())"
    },
    "r": {
     "delete_cmd_postfix": ") ",
     "delete_cmd_prefix": "rm(",
     "library": "var_list.r",
     "varRefreshCmd": "cat(var_dic_list()) "
    }
   },
   "types_to_exclude": [
    "module",
    "function",
    "builtin_function_or_method",
    "instance",
    "_Feature"
   ],
   "window_display": false
  }
 },
 "nbformat": 4,
 "nbformat_minor": 2
}
