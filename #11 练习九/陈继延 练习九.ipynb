{
 "cells": [
  {
   "cell_type": "markdown",
   "metadata": {},
   "source": [
    "## 库和数据"
   ]
  },
  {
   "cell_type": "code",
   "execution_count": 97,
   "metadata": {
    "ExecuteTime": {
     "end_time": "2021-05-15T08:37:57.405486Z",
     "start_time": "2021-05-15T08:37:57.391524Z"
    }
   },
   "outputs": [],
   "source": [
    "from sklearn.model_selection import  train_test_split, cross_val_score\n",
    "from sklearn.feature_extraction.text import TfidfVectorizer \n",
    "from sklearn.feature_selection import SelectKBest, chi2\n",
    "from sklearn.naive_bayes import MultinomialNB     # 从sklean.naive_bayes里导入朴素贝叶斯模型\n",
    "from sklearn.metrics import classification_report, accuracy_score\n",
    "from sklearn.linear_model import LogisticRegression, LinearRegression\n",
    "from sklearn.svm import SVC\n",
    "from sklearn.neighbors import KNeighborsClassifier\n",
    "from sklearn.ensemble import RandomForestClassifier, GradientBoostingClassifier, AdaBoostClassifier, StackingClassifier, VotingClassifier, BaggingClassifier\n",
    "import os\n",
    "from tqdm.notebook import tqdm\n",
    "import pandas as pd"
   ]
  },
  {
   "cell_type": "code",
   "execution_count": 98,
   "metadata": {
    "ExecuteTime": {
     "end_time": "2021-05-15T08:37:58.990868Z",
     "start_time": "2021-05-15T08:37:58.196528Z"
    }
   },
   "outputs": [
    {
     "data": {
      "application/vnd.jupyter.widget-view+json": {
       "model_id": "43a4bf0580bd46579b4a29d73ac729e1",
       "version_major": 2,
       "version_minor": 0
      },
      "text/plain": [
       "0it [00:00, ?it/s]"
      ]
     },
     "metadata": {},
     "output_type": "display_data"
    }
   ],
   "source": [
    "PATH = '../外部数据/ChnSentiCorp情感分析酒店评论/'\n",
    "RANDOM_SEED = 42\n",
    "posTxt = os.listdir(PATH+'正面')\n",
    "negTxt = os.listdir(PATH+'负面')\n",
    "\n",
    "posList = []\n",
    "negList = []\n",
    "for i,j in tqdm(zip(posTxt, negTxt)): # 刚好都是2000个就zip了\n",
    "    posList.append(open(PATH+'正面/'+i, encoding='utf-8').read().replace('\\n',''))\n",
    "    negList.append(open(PATH+'负面/'+j, encoding='utf-8').read().replace('\\n',''))\n",
    "\n",
    "pos = pd.DataFrame(posList, columns=['text'])\n",
    "pos['flag'] = 1\n",
    "neg = pd.DataFrame(negList, columns=['text'])\n",
    "neg['flag'] = 0\n",
    "all_data = pd.concat([pos, neg]).reset_index(drop=True)"
   ]
  },
  {
   "cell_type": "markdown",
   "metadata": {},
   "source": [
    "## 作业"
   ]
  },
  {
   "cell_type": "markdown",
   "metadata": {},
   "source": [
    "### 数据"
   ]
  },
  {
   "cell_type": "code",
   "execution_count": 99,
   "metadata": {
    "ExecuteTime": {
     "end_time": "2021-05-15T08:38:01.268607Z",
     "start_time": "2021-05-15T08:38:01.110900Z"
    }
   },
   "outputs": [],
   "source": [
    "# 数据预处理：训练集和测试集分割，文本特征向量化\n",
    "X_train,X_test,y_train,y_test = train_test_split(all_data.text,all_data.flag,test_size=0.25,random_state=RANDOM_SEED) # 随机采样25%的数据样本作为测试集\n",
    "\n",
    "# tfidf文本特征向量化\n",
    "tfidf = TfidfVectorizer()\n",
    "X_train = tfidf.fit_transform(X_train)\n",
    "X_test = tfidf.transform(X_test)"
   ]
  },
  {
   "cell_type": "markdown",
   "metadata": {},
   "source": [
    "### 原始数据|原始参数|分类\n",
    "**注意**：使用交叉验证后分数与原始分数有较大的变化0.8->0.6，不知道原因"
   ]
  },
  {
   "cell_type": "code",
   "execution_count": 100,
   "metadata": {
    "ExecuteTime": {
     "end_time": "2021-05-15T08:38:17.504761Z",
     "start_time": "2021-05-15T08:38:03.183260Z"
    }
   },
   "outputs": [
    {
     "name": "stdout",
     "output_type": "stream",
     "text": [
      "3-fold CV Accuarcy:\n",
      "   LR:\t0.630 (+/- 0.019)\n",
      "   SVC:\t0.630 (+/- 0.030)\n",
      "   NB:\t0.639 (+/- 0.010)\n",
      "   KNN:\t0.552 (+/- 0.020)\n",
      "   RF:\t0.651 (+/- 0.018)\n",
      "   GB:\t0.587 (+/- 0.009)\n",
      "   Ada:\t0.560 (+/- 0.013)\n"
     ]
    }
   ],
   "source": [
    "print('3-fold CV Accuarcy:')\n",
    "# 逻辑回归\n",
    "lr = LogisticRegression(random_state=RANDOM_SEED)\n",
    "lr.fit(X_train,y_train)\n",
    "scores = cross_val_score(lr, X_test, y_test, cv=3, scoring='accuracy')\n",
    "print(\"   LR:\\t%0.3f (+/- %0.3f)\" % (scores.mean(), scores.std()))\n",
    "\n",
    "# SVC\n",
    "svc = SVC(random_state=RANDOM_SEED)\n",
    "svc.fit(X_train,y_train)\n",
    "scores = cross_val_score(svc, X_test, y_test, cv=3, scoring='accuracy')\n",
    "print(\"   SVC:\\t%0.3f (+/- %0.3f)\" % (scores.mean(), scores.std()))\n",
    "\n",
    "# 朴素贝叶斯\n",
    "mnb = MultinomialNB()\n",
    "mnb.fit(X_train,y_train)\n",
    "scores = cross_val_score(mnb, X_test, y_test, cv=3, scoring='accuracy')\n",
    "print(\"   NB:\\t%0.3f (+/- %0.3f)\" % (scores.mean(), scores.std()))\n",
    "\n",
    "# KNN\n",
    "knn = KNeighborsClassifier(n_neighbors=1) # 在本任务里越小越好\n",
    "knn.fit(X_train,y_train)\n",
    "scores = cross_val_score(knn, X_test, y_test, cv=3, scoring='accuracy')\n",
    "print(\"   KNN:\\t%0.3f (+/- %0.3f)\" % (scores.mean(), scores.std()))\n",
    "\n",
    "# 随机森林\n",
    "rf = RandomForestClassifier(random_state=RANDOM_SEED)\n",
    "rf.fit(X_train,y_train)\n",
    "scores = cross_val_score(rf, X_test, y_test, cv=3, scoring='accuracy')\n",
    "print(\"   RF:\\t%0.3f (+/- %0.3f)\" % (scores.mean(), scores.std()))\n",
    "\n",
    "# 梯度提升树\n",
    "GB = GradientBoostingClassifier(random_state=RANDOM_SEED)\n",
    "GB.fit(X_train,y_train)\n",
    "scores = cross_val_score(GB, X_test, y_test, cv=3, scoring='accuracy')\n",
    "print(\"   GB:\\t%0.3f (+/- %0.3f)\" % (scores.mean(), scores.std()))\n",
    "\n",
    "# AdaBoost\n",
    "Ada = AdaBoostClassifier(random_state=RANDOM_SEED)\n",
    "Ada.fit(X_train,y_train)\n",
    "scores = cross_val_score(Ada, X_test, y_test, cv=3, scoring='accuracy')\n",
    "print(\"   Ada:\\t%0.3f (+/- %0.3f)\" % (scores.mean(), scores.std()))"
   ]
  },
  {
   "cell_type": "markdown",
   "metadata": {},
   "source": [
    "### 特征选择数据|原始参数|分类"
   ]
  },
  {
   "cell_type": "code",
   "execution_count": 34,
   "metadata": {
    "ExecuteTime": {
     "end_time": "2021-05-15T05:42:56.260086Z",
     "start_time": "2021-05-15T05:42:56.229787Z"
    }
   },
   "outputs": [],
   "source": [
    "select_model = SelectKBest(chi2, k=1000) # 选择k个最佳特征\n",
    "X_train_k = select_model.fit_transform(X_train, y_train)\n",
    "X_test_k = select_model.transform(X_test)"
   ]
  },
  {
   "cell_type": "code",
   "execution_count": 35,
   "metadata": {
    "ExecuteTime": {
     "end_time": "2021-05-15T05:43:05.982340Z",
     "start_time": "2021-05-15T05:43:03.756123Z"
    }
   },
   "outputs": [
    {
     "name": "stdout",
     "output_type": "stream",
     "text": [
      "3-fold Accuracy:\n",
      "   LR:\t0.568 (+/- 0.013)\n",
      "   SVC:\t0.619 (+/- 0.010)\n",
      "   NB:\t0.569 (+/- 0.015)\n",
      "   RF:\t0.636 (+/- 0.021)\n",
      "   GB:\t0.572 (+/- 0.012)\n",
      "   Ada:\t0.575 (+/- 0.008)\n"
     ]
    }
   ],
   "source": [
    "print('3-fold CV Accuracy:')\n",
    "# 逻辑回归\n",
    "lr = LogisticRegression(random_state=RANDOM_SEED)\n",
    "lr.fit(X_train_k,y_train)\n",
    "y_pred = lr.predict(X_test)\n",
    "scores = cross_val_score(lr, X_test_k, y_test, cv=3, scoring='accuracy')\n",
    "print(\"   LR:\\t%0.3f (+/- %0.3f)\" % (scores.mean(), scores.std()))\n",
    "\n",
    "# SVC\n",
    "svc = SVC(random_state=RANDOM_SEED)\n",
    "svc.fit(X_train_k,y_train)\n",
    "scores = cross_val_score(svc, X_test_k, y_test, cv=3, scoring='accuracy')\n",
    "print(\"   SVC:\\t%0.3f (+/- %0.3f)\" % (scores.mean(), scores.std()))\n",
    "\n",
    "# 朴素贝叶斯\n",
    "mnb = MultinomialNB()\n",
    "mnb.fit(X_train_k,y_train)\n",
    "scores = cross_val_score(mnb, X_test_k, y_test, cv=3, scoring='accuracy')\n",
    "print(\"   NB:\\t%0.3f (+/- %0.3f)\" % (scores.mean(), scores.std()))\n",
    "\n",
    "# 随机森林\n",
    "rf = RandomForestClassifier(random_state=RANDOM_SEED)\n",
    "rf.fit(X_train_k,y_train)\n",
    "scores = cross_val_score(rf, X_test_k, y_test, cv=3, scoring='accuracy')\n",
    "print(\"   RF:\\t%0.3f (+/- %0.3f)\" % (scores.mean(), scores.std()))\n",
    "\n",
    "# 梯度提升树\n",
    "GB = GradientBoostingClassifier(random_state=RANDOM_SEED)\n",
    "GB.fit(X_train_k,y_train)\n",
    "scores = cross_val_score(GB, X_test_k, y_test, cv=3, scoring='accuracy')\n",
    "print(\"   GB:\\t%0.3f (+/- %0.3f)\" % (scores.mean(), scores.std()))\n",
    "\n",
    "# AdaBoost\n",
    "Ada = AdaBoostClassifier(random_state=RANDOM_SEED)\n",
    "Ada.fit(X_train_k,y_train)\n",
    "scores = cross_val_score(Ada, X_test_k, y_test, cv=3, scoring='accuracy')\n",
    "print(\"   Ada:\\t%0.3f (+/- %0.3f)\" % (scores.mean(), scores.std()))"
   ]
  },
  {
   "cell_type": "markdown",
   "metadata": {},
   "source": [
    "### 简单集成"
   ]
  },
  {
   "cell_type": "markdown",
   "metadata": {},
   "source": [
    "#### 原始数据"
   ]
  },
  {
   "cell_type": "code",
   "execution_count": 75,
   "metadata": {
    "ExecuteTime": {
     "end_time": "2021-05-15T06:19:04.038017Z",
     "start_time": "2021-05-15T06:18:01.213823Z"
    }
   },
   "outputs": [
    {
     "name": "stdout",
     "output_type": "stream",
     "text": [
      "   Voting:\t0.644 (+/- 0.028)\n",
      "   Stacking:\t0.672 (+/- 0.011)\n",
      "   Bagging_lr:\t0.643 (+/- 0.029)\n",
      "   Bagging_svc:\t0.640 (+/- 0.027)\n",
      "   Bagging_nb:\t0.646 (+/- 0.031)\n"
     ]
    }
   ],
   "source": [
    "# 投票\n",
    "voting = VotingClassifier(\n",
    "    estimators=list(zip(['LR','SVC','NB','RF','GB','Ada'],[lr, svc, mnb, rf, GB, Ada])), \n",
    "    voting='hard',\n",
    "    verbose=False,\n",
    ")\n",
    "voting.fit(X_train, y_train)\n",
    "scores = cross_val_score(voting, X_test, y_test, scoring='accuracy')\n",
    "print(\"   Voting:\\t%0.3f (+/- %0.3f)\" % (scores.mean(), scores.std()))\n",
    "\n",
    "# Boosting看GB和Ada效果不好就不做了\n",
    "\n",
    "# stacking\n",
    "stacking = StackingClassifier(\n",
    "    estimators=list(zip(['LR','SVC','NB','RF','GB','Ada'],[lr, svc, mnb, rf, GB, Ada])),\n",
    "    final_estimator=lr,\n",
    "    cv=3,\n",
    "    verbose=False,\n",
    "    n_jobs=4,\n",
    ")\n",
    "stacking.fit(X_train, y_train)\n",
    "scores = cross_val_score(stacking, X_test, y_test, scoring='accuracy')\n",
    "print(\"   Stacking:\\t%0.3f (+/- %0.3f)\" % (scores.mean(), scores.std()))\n",
    "\n",
    "# bagging 看rf效果不错，应该是bagging对本任务比较有效\n",
    "## lr\n",
    "bagging_lr = BaggingClassifier(\n",
    "    base_estimator=lr,\n",
    "    random_state=RANDOM_SEED,\n",
    "    verbose=False,\n",
    "    n_jobs=4,\n",
    ")\n",
    "bagging_lr.fit(X_train, y_train)\n",
    "scores = cross_val_score(bagging_lr, X_test, y_test, scoring='accuracy')\n",
    "print(\"   Bagging_lr:\\t%0.3f (+/- %0.3f)\" % (scores.mean(), scores.std()))\n",
    "\n",
    "## SVC\n",
    "bagging_svc = BaggingClassifier(\n",
    "    base_estimator=svc,\n",
    "    random_state=RANDOM_SEED,\n",
    "    verbose=False,\n",
    "    n_jobs=4,\n",
    ")\n",
    "bagging_svc.fit(X_train, y_train)\n",
    "scores = cross_val_score(bagging_svc, X_test, y_test, scoring='accuracy')\n",
    "print(\"   Bagging_svc:\\t%0.3f (+/- %0.3f)\" % (scores.mean(), scores.std()))\n",
    "\n",
    "## NB\n",
    "bagging_mnb = BaggingClassifier(\n",
    "    base_estimator=mnb,\n",
    "    random_state=RANDOM_SEED,\n",
    "    verbose=False,\n",
    "    n_jobs=4,\n",
    ")\n",
    "bagging_mnb.fit(X_train, y_train)\n",
    "scores = cross_val_score(bagging_mnb, X_test, y_test, scoring='accuracy')\n",
    "print(\"   Bagging_nb:\\t%0.3f (+/- %0.3f)\" % (scores.mean(), scores.std()))"
   ]
  },
  {
   "cell_type": "markdown",
   "metadata": {},
   "source": [
    "#### 特征选择后数据"
   ]
  },
  {
   "cell_type": "code",
   "execution_count": 74,
   "metadata": {
    "ExecuteTime": {
     "end_time": "2021-05-15T06:17:47.551406Z",
     "start_time": "2021-05-15T06:17:35.909394Z"
    }
   },
   "outputs": [
    {
     "name": "stdout",
     "output_type": "stream",
     "text": [
      "   Voting:\t0.641 (+/- 0.027)\n",
      "   Stacking:\t0.668 (+/- 0.030)\n",
      "   Bagging_lr:\t0.614 (+/- 0.032)\n",
      "   Bagging_svc:\t0.613 (+/- 0.019)\n",
      "   Bagging_nb:\t0.585 (+/- 0.020)\n"
     ]
    }
   ],
   "source": [
    "# 投票\n",
    "voting = VotingClassifier(\n",
    "    estimators=list(zip(['LR','SVC','NB','RF','GB','Ada'],[lr, svc, mnb, rf, GB, Ada])), \n",
    "    voting='hard',\n",
    "    verbose=False,\n",
    ")\n",
    "voting.fit(X_train_k, y_train)\n",
    "scores = cross_val_score(voting, X_test_k, y_test, scoring='accuracy')\n",
    "print(\"   Voting:\\t%0.3f (+/- %0.3f)\" % (scores.mean(), scores.std()))\n",
    "\n",
    "# stacking\n",
    "stacking = StackingClassifier(\n",
    "    estimators=list(zip(['LR','SVC','NB','RF','GB','Ada'],[lr, svc, mnb, rf, GB, Ada])),\n",
    "    final_estimator=lr,\n",
    "    cv=3,\n",
    "    verbose=False,\n",
    "    n_jobs=4,\n",
    ")\n",
    "stacking.fit(X_train_k, y_train)\n",
    "scores = cross_val_score(stacking, X_test_k, y_test, scoring='accuracy')\n",
    "print(\"   Stacking:\\t%0.3f (+/- %0.3f)\" % (scores.mean(), scores.std()))\n",
    "\n",
    "# bagging 看rf效果不错，应该是bagging对本任务比较有效\n",
    "## lr\n",
    "bagging_lr = BaggingClassifier(\n",
    "    base_estimator=lr,\n",
    "    random_state=RANDOM_SEED,\n",
    "    verbose=False,\n",
    "    n_jobs=4,\n",
    ")\n",
    "bagging_lr.fit(X_train_k, y_train)\n",
    "scores = cross_val_score(bagging_lr, X_test_k, y_test, scoring='accuracy')\n",
    "print(\"   Bagging_lr:\\t%0.3f (+/- %0.3f)\" % (scores.mean(), scores.std()))\n",
    "\n",
    "## SVC\n",
    "bagging_svc = BaggingClassifier(\n",
    "    base_estimator=svc,\n",
    "    random_state=RANDOM_SEED,\n",
    "    verbose=False,\n",
    "    n_jobs=4,\n",
    ")\n",
    "bagging_svc.fit(X_train_k, y_train)\n",
    "scores = cross_val_score(bagging_svc, X_test_k, y_test, scoring='accuracy')\n",
    "print(\"   Bagging_svc:\\t%0.3f (+/- %0.3f)\" % (scores.mean(), scores.std()))\n",
    "\n",
    "## NB\n",
    "bagging_mnb = BaggingClassifier(\n",
    "    base_estimator=mnb,\n",
    "    random_state=RANDOM_SEED,\n",
    "    verbose=False,\n",
    "    n_jobs=4,\n",
    ")\n",
    "bagging_mnb.fit(X_train_k, y_train)\n",
    "scores = cross_val_score(bagging_mnb, X_test_k, y_test, scoring='accuracy')\n",
    "print(\"   Bagging_nb:\\t%0.3f (+/- %0.3f)\" % (scores.mean(), scores.std()))"
   ]
  },
  {
   "cell_type": "markdown",
   "metadata": {},
   "source": [
    "其实挺不理解特征维度远大于数据时模型如何妥善处理的。。"
   ]
  },
  {
   "cell_type": "markdown",
   "metadata": {},
   "source": [
    "### 结果报告\n",
    "只看效果较好的"
   ]
  },
  {
   "cell_type": "code",
   "execution_count": 96,
   "metadata": {
    "ExecuteTime": {
     "end_time": "2021-05-15T06:34:36.866147Z",
     "start_time": "2021-05-15T06:34:33.812058Z"
    },
    "scrolled": false
   },
   "outputs": [
    {
     "name": "stdout",
     "output_type": "stream",
     "text": [
      "LR\n",
      "              precision    recall  f1-score   support\n",
      "\n",
      "           0       0.74      0.92      0.82       476\n",
      "           1       0.91      0.71      0.80       524\n",
      "\n",
      "    accuracy                           0.81      1000\n",
      "   macro avg       0.83      0.82      0.81      1000\n",
      "weighted avg       0.83      0.81      0.81      1000\n",
      "\n",
      "------------------------------------------------------\n",
      "NB\n",
      "              precision    recall  f1-score   support\n",
      "\n",
      "           0       0.76      0.88      0.82       476\n",
      "           1       0.88      0.75      0.81       524\n",
      "\n",
      "    accuracy                           0.81      1000\n",
      "   macro avg       0.82      0.82      0.81      1000\n",
      "weighted avg       0.82      0.81      0.81      1000\n",
      "\n",
      "------------------------------------------------------\n",
      "SVC\n",
      "              precision    recall  f1-score   support\n",
      "\n",
      "           0       0.73      0.94      0.82       476\n",
      "           1       0.93      0.69      0.79       524\n",
      "\n",
      "    accuracy                           0.81      1000\n",
      "   macro avg       0.83      0.81      0.81      1000\n",
      "weighted avg       0.83      0.81      0.81      1000\n",
      "\n",
      "------------------------------------------------------\n",
      "RF\n",
      "              precision    recall  f1-score   support\n",
      "\n",
      "           0       0.67      0.93      0.78       476\n",
      "           1       0.90      0.58      0.71       524\n",
      "\n",
      "    accuracy                           0.75      1000\n",
      "   macro avg       0.79      0.76      0.74      1000\n",
      "weighted avg       0.79      0.75      0.74      1000\n",
      "\n",
      "------------------------------------------------------\n",
      "Voting\n",
      "              precision    recall  f1-score   support\n",
      "\n",
      "           0       0.67      0.96      0.79       476\n",
      "           1       0.95      0.57      0.71       524\n",
      "\n",
      "    accuracy                           0.76      1000\n",
      "   macro avg       0.81      0.77      0.75      1000\n",
      "weighted avg       0.81      0.76      0.75      1000\n",
      "\n",
      "------------------------------------------------------\n",
      "Stacking\n",
      "              precision    recall  f1-score   support\n",
      "\n",
      "           0       0.75      0.88      0.81       476\n",
      "           1       0.87      0.73      0.79       524\n",
      "\n",
      "    accuracy                           0.80      1000\n",
      "   macro avg       0.81      0.80      0.80      1000\n",
      "weighted avg       0.81      0.80      0.80      1000\n",
      "\n",
      "------------------------------------------------------\n",
      "mnb\n",
      "              precision    recall  f1-score   support\n",
      "\n",
      "           0       0.76      0.88      0.82       476\n",
      "           1       0.88      0.75      0.81       524\n",
      "\n",
      "    accuracy                           0.81      1000\n",
      "   macro avg       0.82      0.82      0.81      1000\n",
      "weighted avg       0.82      0.81      0.81      1000\n",
      "\n",
      "------------------------------------------------------\n",
      "Bagging_LR\n",
      "              precision    recall  f1-score   support\n",
      "\n",
      "           0       0.74      0.92      0.82       476\n",
      "           1       0.91      0.70      0.79       524\n",
      "\n",
      "    accuracy                           0.81      1000\n",
      "   macro avg       0.82      0.81      0.80      1000\n",
      "weighted avg       0.83      0.81      0.80      1000\n",
      "\n",
      "------------------------------------------------------\n",
      "Bagging_SVC\n",
      "              precision    recall  f1-score   support\n",
      "\n",
      "           0       0.69      0.93      0.80       476\n",
      "           1       0.91      0.63      0.74       524\n",
      "\n",
      "    accuracy                           0.77      1000\n",
      "   macro avg       0.80      0.78      0.77      1000\n",
      "weighted avg       0.81      0.77      0.77      1000\n",
      "\n",
      "------------------------------------------------------\n",
      "Bagging_NB\n",
      "              precision    recall  f1-score   support\n",
      "\n",
      "           0       0.77      0.89      0.82       476\n",
      "           1       0.88      0.76      0.81       524\n",
      "\n",
      "    accuracy                           0.82      1000\n",
      "   macro avg       0.82      0.82      0.82      1000\n",
      "weighted avg       0.83      0.82      0.82      1000\n",
      "\n",
      "------------------------------------------------------\n"
     ]
    }
   ],
   "source": [
    "print('LR')\n",
    "y_pred = lr.predict(X_test)\n",
    "print(classification_report(y_test, y_pred, target_names = ['0','1']))\n",
    "print('------------------------------------------------------')\n",
    "\n",
    "print('NB')\n",
    "y_pred = mnb.predict(X_test)\n",
    "print(classification_report(y_test, y_pred, target_names = ['0','1']))\n",
    "print('------------------------------------------------------')\n",
    "\n",
    "print('SVC')\n",
    "y_pred = svc.predict(X_test)\n",
    "print(classification_report(y_test, y_pred, target_names = ['0','1']))\n",
    "print('------------------------------------------------------')\n",
    "\n",
    "print('RF')\n",
    "y_pred = rf.predict(X_test)\n",
    "print(classification_report(y_test, y_pred, target_names = ['0','1']))\n",
    "print('------------------------------------------------------')\n",
    "\n",
    "print('Voting')\n",
    "y_pred = voting.predict(X_test)\n",
    "print(classification_report(y_test, y_pred, target_names = ['0','1']))\n",
    "print('------------------------------------------------------')\n",
    "\n",
    "print('Stacking')\n",
    "y_pred = stacking.predict(X_test)\n",
    "print(classification_report(y_test, y_pred, target_names = ['0','1']))\n",
    "print('------------------------------------------------------')\n",
    "\n",
    "print('mnb')\n",
    "y_pred = mnb.predict(X_test)\n",
    "print(classification_report(y_test, y_pred, target_names = ['0','1']))\n",
    "print('------------------------------------------------------')\n",
    "\n",
    "print('Bagging_LR')\n",
    "y_pred = bagging_lr.predict(X_test)\n",
    "print(classification_report(y_test, y_pred, target_names = ['0','1']))\n",
    "print('------------------------------------------------------')\n",
    "\n",
    "print('Bagging_SVC')\n",
    "y_pred = bagging_svc.predict(X_test)\n",
    "print(classification_report(y_test, y_pred, target_names = ['0','1']))\n",
    "print('------------------------------------------------------')\n",
    "\n",
    "print('Bagging_NB')\n",
    "y_pred = bagging_mnb.predict(X_test)\n",
    "print(classification_report(y_test, y_pred, target_names = ['0','1']))\n",
    "print('------------------------------------------------------')"
   ]
  }
 ],
 "metadata": {
  "kernelspec": {
   "display_name": "Python 3",
   "language": "python",
   "name": "python3"
  },
  "language_info": {
   "codemirror_mode": {
    "name": "ipython",
    "version": 3
   },
   "file_extension": ".py",
   "mimetype": "text/x-python",
   "name": "python",
   "nbconvert_exporter": "python",
   "pygments_lexer": "ipython3",
   "version": "3.7.0"
  },
  "nbTranslate": {
   "displayLangs": [
    "*"
   ],
   "hotkey": "alt-t",
   "langInMainMenu": true,
   "sourceLang": "en",
   "targetLang": "fr",
   "useGoogleTranslate": true
  },
  "toc": {
   "base_numbering": 1,
   "nav_menu": {},
   "number_sections": true,
   "sideBar": true,
   "skip_h1_title": true,
   "title_cell": "Table of Contents",
   "title_sidebar": "Contents",
   "toc_cell": false,
   "toc_position": {
    "height": "calc(100% - 180px)",
    "left": "10px",
    "top": "150px",
    "width": "289.275px"
   },
   "toc_section_display": true,
   "toc_window_display": true
  },
  "varInspector": {
   "cols": {
    "lenName": 16,
    "lenType": 16,
    "lenVar": 40
   },
   "kernels_config": {
    "python": {
     "delete_cmd_postfix": "",
     "delete_cmd_prefix": "del ",
     "library": "var_list.py",
     "varRefreshCmd": "print(var_dic_list())"
    },
    "r": {
     "delete_cmd_postfix": ") ",
     "delete_cmd_prefix": "rm(",
     "library": "var_list.r",
     "varRefreshCmd": "cat(var_dic_list()) "
    }
   },
   "types_to_exclude": [
    "module",
    "function",
    "builtin_function_or_method",
    "instance",
    "_Feature"
   ],
   "window_display": false
  }
 },
 "nbformat": 4,
 "nbformat_minor": 2
}
