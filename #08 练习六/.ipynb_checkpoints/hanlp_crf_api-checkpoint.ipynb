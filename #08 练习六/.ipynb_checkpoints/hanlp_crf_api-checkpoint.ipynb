{
 "cells": [
  {
   "cell_type": "markdown",
   "metadata": {},
   "source": [
    "##  Hanlp CRF API"
   ]
  },
  {
   "cell_type": "code",
   "execution_count": 5,
   "metadata": {},
   "outputs": [],
   "source": [
    "from pyhanlp import *\n",
    "\n",
    "CRFSegmenter = JClass('com.hankcs.hanlp.model.crf.CRFSegmenter')\n",
    "CRFLexicalAnalyzer = JClass('com.hankcs.hanlp.model.crf.CRFLexicalAnalyzer')\n",
    "CWSEvaluator = SafeJClass('com.hankcs.hanlp.seg.common.CWSEvaluator')\n",
    "\n",
    "TXT_CORPUS_PATH = \"my_cws_corpus.txt\"\n",
    "TSV_CORPUS_PATH = TXT_CORPUS_PATH + \".tsv\"\n",
    "TEMPLATE_PATH = \"cws_template\"\n",
    "CRF_MODEL_PATH = \"crf-cws-model\"\n",
    "CRF_MODEL_TXT_PATH = \"crf-cws-model.txt\"\n",
    "\n",
    "segmenter = CRFSegmenter(None)\n",
    "\n",
    "# 转换语料和导出特征模板,对训练模型不是必须的\n",
    "#segmenter.convertCorpus(TXT_CORPUS_PATH,TSV_CORPUS_PATH) # 语料转换\n",
    "#segmenter.dumpTemplate(TEMPLATE_PATH)  # 导出特征模板\n",
    "\n",
    "segmenter.train(TXT_CORPUS_PATH,CRF_MODEL_PATH)\n",
    "model = CRFLexicalAnalyzer(CRF_MODEL_TXT_PATH).enableCustomDictionary(False)"
   ]
  },
  {
   "cell_type": "code",
   "execution_count": 13,
   "metadata": {},
   "outputs": [
    {
     "data": {
      "text/plain": [
       "['商品', '和', '服务']"
      ]
     },
     "execution_count": 13,
     "metadata": {},
     "output_type": "execute_result"
    }
   ],
   "source": [
    "list(model.segment(\"商品和服务\"))"
   ]
  },
  {
   "cell_type": "markdown",
   "metadata": {},
   "source": [
    "## 在MSR语料库上进行评测"
   ]
  },
  {
   "cell_type": "code",
   "execution_count": 7,
   "metadata": {},
   "outputs": [],
   "source": [
    "import os\n",
    "sighan05 = \"第二届国际中文分词评测/icwb2-data/\"\n",
    "msr_dict = os.path.join(sighan05, 'gold', 'msr_training_words.utf8')\n",
    "msr_train = os.path.join(sighan05, 'training','msr_training.utf8')\n",
    "msr_test = os.path.join(sighan05, 'testing', 'msr_test.utf8')\n",
    "msr_gold = os.path.join(sighan05, 'gold', 'msr_test_gold.utf8')\n",
    "msr_output = \"crf_data/msr_test_seg_result.txt\" \n",
    "\n",
    "CRF_MODEL_PATH = \"crf_data/crfpp-msr-model\"\n",
    "CRF_MODEL_TXT_PATH = \"crf_data/crfpp-msr-model.txt\""
   ]
  },
  {
   "cell_type": "markdown",
   "metadata": {},
   "source": [
    "### 训练"
   ]
  },
  {
   "cell_type": "code",
   "execution_count": 17,
   "metadata": {},
   "outputs": [
    {
     "name": "stdout",
     "output_type": "stream",
     "text": [
      "P:28.02 R:24.60 F1:26.20 OOV-R:12.20 IV-R:24.93\n"
     ]
    }
   ],
   "source": [
    "segmenter = CRFSegmenter(None)\n",
    "segmenter.train(msr_train,CRF_MODEL_PATH)"
   ]
  },
  {
   "cell_type": "markdown",
   "metadata": {},
   "source": [
    "### 测试"
   ]
  },
  {
   "cell_type": "code",
   "execution_count": 25,
   "metadata": {},
   "outputs": [
    {
     "name": "stdout",
     "output_type": "stream",
     "text": [
      "P:96.73 R:96.34 F1:96.53 OOV-R:72.85 IV-R:96.98\n"
     ]
    }
   ],
   "source": [
    "model = CRFLexicalAnalyzer(CRF_MODEL_TXT_PATH).enableCustomDictionary(False)\n",
    "result = CWSEvaluator.evaluate(model, msr_test, msr_output, msr_gold, msr_dict)  # 预测打分\n",
    "print(result)"
   ]
  },
  {
   "cell_type": "markdown",
   "metadata": {},
   "source": [
    "### 查看分词结果"
   ]
  },
  {
   "cell_type": "code",
   "execution_count": 27,
   "metadata": {},
   "outputs": [
    {
     "name": "stdout",
     "output_type": "stream",
     "text": [
      "扬帆  远东  做  与  中国  合作  的  先行  \n",
      "\n",
      "扬帆  远东  做  与  中国  合作  的  先行\n",
      "\n",
      "\n",
      "\n",
      "希腊  的  经济  结构  较  特殊  。\n",
      "\n",
      "希腊  的  经济  结构  较  特殊  。\n",
      "\n",
      "\n",
      "\n",
      "海运  业  雄踞  全球  之  首  ，  按  吨位  计  占  世界  总数  的  １７％  。\n",
      "\n",
      "海运  业  雄踞  全球  之  首  ，  按  吨位  计  占  世界  总数  的  １７％  。\n",
      "\n",
      "\n",
      "\n",
      "另外  旅游  、  侨汇  也是  经济  收入  的  重要  组成部分  ，  制造业  规模  相对  较小  。\n",
      "\n",
      "另外  旅游  、  侨汇  也是  经济  收入  的  重要  组成部分  ，  制造业  规模  相对  较小  。\n",
      "\n",
      "\n",
      "\n",
      "多年来  ，  中  希  贸易  始终  处于  较低  的  水平  ，  希腊  几乎  没有  在  中国  投资  。\n",
      "\n",
      "多年来  ，  中希贸易  始终  处于  较低  的  水平  ，  希腊  几乎  没有  在  中国  投资  。\n",
      "\n",
      "\n",
      "\n",
      "十几年  来  ，  改革开放  的  中国  经济  高速  发展  ，  远东  在  崛起  。\n",
      "\n",
      "十几年  来  ，  改革开放  的  中国  经济  高速  发展  ，  远东  在  崛起  。\n",
      "\n",
      "\n",
      "\n",
      "瓦西里斯  的  船只  中  有  ４０％  驶  向  远东  ，  每个  月  几乎  都  有  两三条  船  停靠  中国  港口  。\n",
      "\n",
      "瓦西里斯  的  船只  中  有  ４０％  驶  向  远东  ，  每个月  几乎  都  有  两三条  船  停靠  中国  港口  。\n",
      "\n",
      "\n",
      "\n",
      "他  感受  到  了  中国  经济  发展  的  大潮  。\n",
      "\n",
      "他  感受  到  了  中国  经济  发展  的  大潮  。\n",
      "\n",
      "\n",
      "\n",
      "他  要  与  中国人  合作  。\n",
      "\n",
      "他  要  与  中国人  合作  。\n",
      "\n",
      "\n",
      "\n",
      "他  来到  中国  ，  成为  第一个  访  华  的  大  船主  。\n",
      "\n",
      "他  来到  中国  ，  成为  第一个  访  华  的  大  船主  。\n",
      "\n",
      "\n",
      "\n",
      "访问  归来  ，  他  对  中国  发展  充满  信心  ，  他  向  希腊海运部  长  介绍  了  情况  ，  提出  了  两国  在  海运  、  造船  业  方面  合作  的  建议  。\n",
      "\n",
      "访问  归来  ，  他  对  中国  发展  充满  信心  ，  他  向  希腊  海运  部长  介绍  了  情况  ，  提出  了  两国  在  海运  、  造船  业  方面  合作  的  建议  。\n",
      "\n",
      "\n",
      "\n"
     ]
    }
   ],
   "source": [
    "with open(msr_gold,encoding=\"utf-8\") as gold, open(msr_output,encoding=\"utf-8\") as output:\n",
    "    cnt = 0\n",
    "    gold_lines = gold.readlines()\n",
    "    output_lines = output.readlines()\n",
    "    for i in range(len(gold_lines)):\n",
    "        print(gold_lines[i])\n",
    "        print(output_lines[i])\n",
    "        print(\"\\n\")\n",
    "        cnt += 1\n",
    "        if cnt > 10:\n",
    "            break"
   ]
  },
  {
   "cell_type": "markdown",
   "metadata": {},
   "source": [
    "### 用我们自己的代码测试"
   ]
  },
  {
   "cell_type": "code",
   "execution_count": 9,
   "metadata": {},
   "outputs": [
    {
     "name": "stdout",
     "output_type": "stream",
     "text": [
      "P:96.73 R:96.34 F1:96.53 OOV-R:72.85 IV-R:96.98\n"
     ]
    }
   ],
   "source": [
    "from common import *\n",
    "word_dict = load_dictionary(msr_dict)\n",
    "\n",
    "model = CRFLexicalAnalyzer(CRF_MODEL_TXT_PATH).enableCustomDictionary(False)\n",
    "\n",
    "with open(msr_gold,encoding=\"utf-8\") as test, open(msr_output, 'w', encoding=\"utf-8\") as output:\n",
    "    for line in test:\n",
    "        output.write(\"  \".join(model.segment(re.sub(\"\\\\s+\", \"\", line))))\n",
    "        output.write(\"\\n\")\n",
    "\n",
    "print(\"P:%.2f R:%.2f F1:%.2f OOV-R:%.2f IV-R:%.2f\" % prf(msr_gold, msr_output, word_dict))"
   ]
  },
  {
   "cell_type": "code",
   "execution_count": null,
   "metadata": {},
   "outputs": [],
   "source": []
  }
 ],
 "metadata": {
  "kernelspec": {
   "display_name": "Python 3",
   "language": "python",
   "name": "python3"
  },
  "language_info": {
   "codemirror_mode": {
    "name": "ipython",
    "version": 3
   },
   "file_extension": ".py",
   "mimetype": "text/x-python",
   "name": "python",
   "nbconvert_exporter": "python",
   "pygments_lexer": "ipython3",
   "version": "3.7.0"
  },
  "nbTranslate": {
   "displayLangs": [
    "*"
   ],
   "hotkey": "alt-t",
   "langInMainMenu": true,
   "sourceLang": "en",
   "targetLang": "fr",
   "useGoogleTranslate": true
  },
  "toc": {
   "base_numbering": 1,
   "nav_menu": {},
   "number_sections": true,
   "sideBar": true,
   "skip_h1_title": false,
   "title_cell": "Table of Contents",
   "title_sidebar": "Contents",
   "toc_cell": false,
   "toc_position": {},
   "toc_section_display": true,
   "toc_window_display": false
  },
  "varInspector": {
   "cols": {
    "lenName": 16,
    "lenType": 16,
    "lenVar": 40
   },
   "kernels_config": {
    "python": {
     "delete_cmd_postfix": "",
     "delete_cmd_prefix": "del ",
     "library": "var_list.py",
     "varRefreshCmd": "print(var_dic_list())"
    },
    "r": {
     "delete_cmd_postfix": ") ",
     "delete_cmd_prefix": "rm(",
     "library": "var_list.r",
     "varRefreshCmd": "cat(var_dic_list()) "
    }
   },
   "types_to_exclude": [
    "module",
    "function",
    "builtin_function_or_method",
    "instance",
    "_Feature"
   ],
   "window_display": false
  }
 },
 "nbformat": 4,
 "nbformat_minor": 2
}
