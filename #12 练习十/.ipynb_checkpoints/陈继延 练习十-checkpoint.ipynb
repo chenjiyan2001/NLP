{
 "cells": [
  {
   "cell_type": "code",
   "execution_count": 1,
   "metadata": {
    "ExecuteTime": {
     "end_time": "2021-05-19T01:29:28.032197Z",
     "start_time": "2021-05-19T01:29:26.835572Z"
    }
   },
   "outputs": [],
   "source": [
    "import pandas as pd\n",
    "from sklearn.cluster import KMeans\n",
    "import os\n",
    "import jieba\n",
    "from tqdm.notebook import tqdm\n",
    "\n",
    "PATH = '../外部数据/'"
   ]
  },
  {
   "cell_type": "code",
   "execution_count": 2,
   "metadata": {
    "ExecuteTime": {
     "end_time": "2021-05-19T01:30:30.163517Z",
     "start_time": "2021-05-19T01:29:38.097212Z"
    }
   },
   "outputs": [
    {
     "data": {
      "application/vnd.jupyter.widget-view+json": {
       "model_id": "17094f841a864cd18916e77ff7a6001f",
       "version_major": 2,
       "version_minor": 0
      },
      "text/plain": [
       "  0%|          | 0/5 [00:00<?, ?it/s]"
      ]
     },
     "metadata": {},
     "output_type": "display_data"
    },
    {
     "name": "stderr",
     "output_type": "stream",
     "text": [
      "Building prefix dict from the default dictionary ...\n",
      "Loading model from cache C:\\Users\\陈继延\\AppData\\Local\\Temp\\jieba.cache\n",
      "Loading model cost 0.599 seconds.\n",
      "Prefix dict has been built successfully.\n"
     ]
    }
   ],
   "source": [
    "f_stopwords = open(PATH+\"stopwords.txt\",encoding=\"utf-8\")\n",
    "stop_words = [line.strip() for line in f_stopwords] + ['','\\ufeff','©','_','—','【','】',')','(','、','，','“','”','。','\\n','《','》',' ','-','！','？','.','\\'','[',']','：','/','.','\"','\\u3000','’','．',',','…','?']\n",
    "\n",
    "corpus_path = PATH+\"搜狗文本分类语料库迷你版\"\n",
    "classes = os.listdir(corpus_path)\n",
    "data_list = []\n",
    "for cla in tqdm(classes):\n",
    "    for file in os.listdir(os.path.join(corpus_path,cla)):\n",
    "        news = os.path.join(corpus_path,cla,file)\n",
    "        content = open(news,encoding=\"utf-8\").read()\n",
    "        data_list.append(\" \".join([word for word in jieba.lcut(content) if word not in stop_words]))"
   ]
  },
  {
   "cell_type": "code",
   "execution_count": 4,
   "metadata": {
    "ExecuteTime": {
     "end_time": "2021-05-19T01:31:46.969770Z",
     "start_time": "2021-05-19T01:31:45.403644Z"
    }
   },
   "outputs": [],
   "source": [
    "from sklearn.feature_extraction.text import TfidfVectorizer \n",
    "tfidf = TfidfVectorizer(max_df=0.5, max_features=200000)\n",
    "X = tfidf.fit_transform(data_list)"
   ]
  },
  {
   "cell_type": "code",
   "execution_count": 6,
   "metadata": {
    "ExecuteTime": {
     "end_time": "2021-05-19T01:34:36.400069Z",
     "start_time": "2021-05-19T01:34:29.699537Z"
    }
   },
   "outputs": [
    {
     "name": "stderr",
     "output_type": "stream",
     "text": [
      "C:\\Users\\陈继延\\AppData\\Roaming\\Python\\Python37\\site-packages\\sklearn\\cluster\\_kmeans.py:793: FutureWarning: 'n_jobs' was deprecated in version 0.23 and will be removed in 1.0 (renaming of 0.25).\n",
      "  \" removed in 1.0 (renaming of 0.25).\", FutureWarning)\n"
     ]
    },
    {
     "name": "stdout",
     "output_type": "stream",
     "text": [
      "Initialization complete\n",
      "Iteration 0, inertia 9463.424274500887\n",
      "Iteration 1, inertia 4831.686488172691\n",
      "Iteration 2, inertia 4817.9485469109\n",
      "Iteration 3, inertia 4816.14312899301\n",
      "Iteration 4, inertia 4815.705244321202\n",
      "Iteration 5, inertia 4815.4934704724255\n",
      "Iteration 6, inertia 4815.379449659081\n",
      "Iteration 7, inertia 4815.282954293136\n",
      "Iteration 8, inertia 4815.2159189318\n",
      "Iteration 9, inertia 4815.174663092726\n",
      "Iteration 10, inertia 4815.120685983298\n",
      "Iteration 11, inertia 4815.047380574067\n",
      "Iteration 12, inertia 4814.990020103526\n",
      "Iteration 13, inertia 4814.95857751185\n",
      "Iteration 14, inertia 4814.940514315685\n",
      "Iteration 15, inertia 4814.911483801571\n",
      "Iteration 16, inertia 4814.8650284706855\n",
      "Iteration 17, inertia 4814.797395308665\n",
      "Iteration 18, inertia 4814.7207907181655\n",
      "Iteration 19, inertia 4814.642796867513\n",
      "Iteration 20, inertia 4814.585506429379\n",
      "Iteration 21, inertia 4814.547074115697\n",
      "Iteration 22, inertia 4814.510737666163\n",
      "Iteration 23, inertia 4814.492064796414\n",
      "Iteration 24, inertia 4814.478892674918\n",
      "Iteration 25, inertia 4814.470314587165\n",
      "Iteration 26, inertia 4814.449271118044\n",
      "Iteration 27, inertia 4814.446325039641\n",
      "Iteration 28, inertia 4814.437582813577\n",
      "Iteration 29, inertia 4814.431772639383\n",
      "Converged at iteration 29: strict convergence.\n",
      "Initialization complete\n",
      "Iteration 0, inertia 9463.224037459713\n",
      "Iteration 1, inertia 4841.667131486865\n",
      "Iteration 2, inertia 4828.186531948059\n",
      "Iteration 3, inertia 4825.047473344797\n",
      "Iteration 4, inertia 4823.384330591921\n",
      "Iteration 5, inertia 4821.577939226939\n",
      "Iteration 6, inertia 4819.96794283317\n",
      "Iteration 7, inertia 4818.805933852573\n",
      "Iteration 8, inertia 4818.316032897233\n",
      "Iteration 9, inertia 4818.042033306589\n",
      "Iteration 10, inertia 4817.840066004404\n",
      "Iteration 11, inertia 4817.707660158158\n",
      "Iteration 12, inertia 4817.610471585341\n",
      "Iteration 13, inertia 4817.562451659413\n",
      "Iteration 14, inertia 4817.519205235143\n",
      "Iteration 15, inertia 4817.463875819838\n",
      "Iteration 16, inertia 4817.368798868457\n",
      "Iteration 17, inertia 4817.322731000934\n",
      "Iteration 18, inertia 4817.301270465103\n",
      "Iteration 19, inertia 4817.285142315875\n",
      "Iteration 20, inertia 4817.277418932837\n",
      "Iteration 21, inertia 4817.271830968303\n",
      "Converged at iteration 21: strict convergence.\n",
      "Initialization complete\n",
      "Iteration 0, inertia 9533.658935304204\n",
      "Iteration 1, inertia 4867.092672822314\n",
      "Iteration 2, inertia 4855.251700058121\n",
      "Iteration 3, inertia 4851.274634345655\n",
      "Iteration 4, inertia 4849.649395602287\n",
      "Iteration 5, inertia 4848.149756401881\n",
      "Iteration 6, inertia 4846.600227511938\n",
      "Iteration 7, inertia 4843.636658869786\n",
      "Iteration 8, inertia 4839.482582672216\n",
      "Iteration 9, inertia 4836.254911833932\n",
      "Iteration 10, inertia 4831.259221782647\n",
      "Iteration 11, inertia 4826.966844265892\n",
      "Iteration 12, inertia 4825.671124839061\n",
      "Iteration 13, inertia 4824.1063357347\n",
      "Iteration 14, inertia 4822.024654444429\n",
      "Iteration 15, inertia 4819.243626330058\n",
      "Iteration 16, inertia 4819.05079743049\n",
      "Iteration 17, inertia 4818.959450133228\n",
      "Iteration 18, inertia 4818.903805965394\n",
      "Iteration 19, inertia 4818.879984204583\n",
      "Iteration 20, inertia 4818.862584379558\n",
      "Iteration 21, inertia 4818.850954301271\n",
      "Iteration 22, inertia 4818.816611096171\n",
      "Iteration 23, inertia 4818.739699529723\n",
      "Iteration 24, inertia 4818.469175572082\n",
      "Iteration 25, inertia 4817.236628787658\n",
      "Iteration 26, inertia 4817.153052358044\n",
      "Iteration 27, inertia 4817.148269911777\n",
      "Iteration 28, inertia 4817.146316333631\n",
      "Converged at iteration 28: strict convergence.\n",
      "Initialization complete\n",
      "Iteration 0, inertia 9452.406921379234\n",
      "Iteration 1, inertia 4850.017193806615\n",
      "Iteration 2, inertia 4831.899979093857\n",
      "Iteration 3, inertia 4826.039729389375\n",
      "Iteration 4, inertia 4824.353288795814\n",
      "Iteration 5, inertia 4823.695951180086\n",
      "Iteration 6, inertia 4823.291376416201\n",
      "Iteration 7, inertia 4823.081295872478\n",
      "Iteration 8, inertia 4822.93001347454\n",
      "Iteration 9, inertia 4822.732189187277\n",
      "Iteration 10, inertia 4822.455949667617\n",
      "Iteration 11, inertia 4822.175254272134\n",
      "Iteration 12, inertia 4821.787736129905\n",
      "Iteration 13, inertia 4821.253821747086\n",
      "Iteration 14, inertia 4820.515522876611\n",
      "Iteration 15, inertia 4819.504050010881\n",
      "Iteration 16, inertia 4817.304595468567\n",
      "Iteration 17, inertia 4813.7449026992435\n",
      "Iteration 18, inertia 4809.930497368872\n",
      "Iteration 19, inertia 4808.1391478884525\n",
      "Iteration 20, inertia 4807.72452080916\n",
      "Iteration 21, inertia 4807.418885408159\n",
      "Iteration 22, inertia 4807.414795057302\n",
      "Converged at iteration 22: strict convergence.\n",
      "Initialization complete\n",
      "Iteration 0, inertia 9640.778212160147\n",
      "Iteration 1, inertia 4868.331550752363\n",
      "Iteration 2, inertia 4846.5836254563155\n",
      "Iteration 3, inertia 4831.434117223493\n",
      "Iteration 4, inertia 4820.405276081851\n",
      "Iteration 5, inertia 4819.36968533204\n",
      "Iteration 6, inertia 4819.024382078206\n",
      "Iteration 7, inertia 4818.894878454455\n",
      "Iteration 8, inertia 4818.755856044479\n",
      "Iteration 9, inertia 4818.5796899714\n",
      "Iteration 10, inertia 4818.441445509217\n",
      "Iteration 11, inertia 4818.390837362627\n",
      "Iteration 12, inertia 4818.342798840224\n",
      "Iteration 13, inertia 4818.290570834324\n",
      "Iteration 14, inertia 4818.241387328289\n",
      "Iteration 15, inertia 4818.2074840472715\n",
      "Iteration 16, inertia 4818.191425108562\n",
      "Iteration 17, inertia 4818.182892413927\n",
      "Converged at iteration 17: strict convergence.\n",
      "Initialization complete\n",
      "Iteration 0, inertia 9571.89068610759\n",
      "Iteration 1, inertia 4877.134793312027\n",
      "Iteration 2, inertia 4855.514419369794\n",
      "Iteration 3, inertia 4846.379705108049\n",
      "Iteration 4, inertia 4839.723552331436\n",
      "Iteration 5, inertia 4836.101883909015\n",
      "Iteration 6, inertia 4835.474582059872\n",
      "Iteration 7, inertia 4835.271113887863\n",
      "Iteration 8, inertia 4834.991091470126\n",
      "Iteration 9, inertia 4834.3745748102365\n",
      "Iteration 10, inertia 4833.366929543647\n",
      "Iteration 11, inertia 4831.409865722601\n",
      "Iteration 12, inertia 4827.731139582588\n",
      "Iteration 13, inertia 4824.475366193523\n",
      "Iteration 14, inertia 4822.073744664899\n",
      "Iteration 15, inertia 4820.169689740717\n",
      "Iteration 16, inertia 4819.1833232498\n",
      "Iteration 17, inertia 4818.88160538778\n",
      "Iteration 18, inertia 4818.78664180321\n",
      "Iteration 19, inertia 4818.735389830664\n",
      "Iteration 20, inertia 4818.712627670028\n",
      "Iteration 21, inertia 4818.676970976898\n",
      "Iteration 22, inertia 4818.658617218968\n",
      "Iteration 23, inertia 4818.647785452213\n",
      "Iteration 24, inertia 4818.642672373869\n",
      "Iteration 25, inertia 4818.636253606385\n",
      "Iteration 26, inertia 4818.632230715964\n",
      "Iteration 27, inertia 4818.630201351038\n",
      "Converged at iteration 27: strict convergence.\n",
      "Initialization complete\n",
      "Iteration 0, inertia 9635.642852562401\n",
      "Iteration 1, inertia 4860.954782528145\n",
      "Iteration 2, inertia 4837.148220480447\n",
      "Iteration 3, inertia 4824.118144590723\n",
      "Iteration 4, inertia 4819.368490234878\n",
      "Iteration 5, inertia 4818.000669164625\n",
      "Iteration 6, inertia 4817.6777312579425\n",
      "Iteration 7, inertia 4817.47073992226\n",
      "Iteration 8, inertia 4817.366728446367\n",
      "Iteration 9, inertia 4817.260011508139\n",
      "Iteration 10, inertia 4817.1224556221905\n",
      "Iteration 11, inertia 4816.989912086304\n",
      "Iteration 12, inertia 4816.8927565144895\n",
      "Iteration 13, inertia 4816.801108456324\n",
      "Iteration 14, inertia 4816.636029293131\n",
      "Iteration 15, inertia 4816.497197051933\n",
      "Iteration 16, inertia 4816.435249467802\n",
      "Iteration 17, inertia 4816.424850666223\n",
      "Iteration 18, inertia 4816.41412503978\n",
      "Iteration 19, inertia 4816.408141063595\n",
      "Converged at iteration 19: strict convergence.\n",
      "Initialization complete\n",
      "Iteration 0, inertia 9466.607255380452\n",
      "Iteration 1, inertia 4858.833981116882\n",
      "Iteration 2, inertia 4838.286571658502\n",
      "Iteration 3, inertia 4829.449702677309\n",
      "Iteration 4, inertia 4823.858324492286\n",
      "Iteration 5, inertia 4820.596081979478\n",
      "Iteration 6, inertia 4816.9707534557765\n",
      "Iteration 7, inertia 4813.044192385444\n",
      "Iteration 8, inertia 4811.537249138414\n",
      "Iteration 9, inertia 4811.3187958919625\n",
      "Iteration 10, inertia 4811.263265980068\n",
      "Iteration 11, inertia 4811.214877890574\n",
      "Iteration 12, inertia 4811.194775301992\n",
      "Iteration 13, inertia 4811.183454685941\n",
      "Iteration 14, inertia 4811.176300952028\n",
      "Iteration 15, inertia 4811.166990884588\n",
      "Iteration 16, inertia 4811.13934474369\n",
      "Iteration 17, inertia 4811.115713860859\n",
      "Iteration 18, inertia 4811.071139082205\n",
      "Iteration 19, inertia 4811.044745714482\n",
      "Iteration 20, inertia 4811.03220850455\n",
      "Iteration 21, inertia 4811.027193072255\n",
      "Iteration 22, inertia 4811.026050994604\n",
      "Converged at iteration 22: strict convergence.\n",
      "Initialization complete\n",
      "Iteration 0, inertia 9562.485208315573\n"
     ]
    },
    {
     "name": "stdout",
     "output_type": "stream",
     "text": [
      "Iteration 1, inertia 4859.06260224952\n",
      "Iteration 2, inertia 4846.646603146953\n",
      "Iteration 3, inertia 4838.289273057725\n",
      "Iteration 4, inertia 4828.472624862437\n",
      "Iteration 5, inertia 4821.461612415767\n",
      "Iteration 6, inertia 4819.633048096045\n",
      "Iteration 7, inertia 4819.272032822342\n",
      "Iteration 8, inertia 4819.000738812463\n",
      "Iteration 9, inertia 4818.813640210515\n",
      "Iteration 10, inertia 4818.65762145901\n",
      "Iteration 11, inertia 4818.545364054299\n",
      "Iteration 12, inertia 4818.435167790737\n",
      "Iteration 13, inertia 4818.231668558819\n",
      "Iteration 14, inertia 4817.972942895256\n",
      "Iteration 15, inertia 4817.56242373082\n",
      "Iteration 16, inertia 4817.159053158694\n",
      "Iteration 17, inertia 4816.251712263575\n",
      "Iteration 18, inertia 4814.358112929607\n",
      "Iteration 19, inertia 4811.068706186648\n",
      "Iteration 20, inertia 4807.824509372971\n",
      "Iteration 21, inertia 4807.062975150672\n",
      "Iteration 22, inertia 4806.908677327494\n",
      "Iteration 23, inertia 4806.885373097147\n",
      "Iteration 24, inertia 4806.860472396238\n",
      "Iteration 25, inertia 4806.837947685926\n",
      "Converged at iteration 25: strict convergence.\n",
      "Initialization complete\n",
      "Iteration 0, inertia 9569.805865407121\n",
      "Iteration 1, inertia 4858.048255871023\n",
      "Iteration 2, inertia 4822.33182659139\n",
      "Iteration 3, inertia 4818.292613868103\n",
      "Iteration 4, inertia 4816.693434347605\n",
      "Iteration 5, inertia 4816.187164372244\n",
      "Iteration 6, inertia 4815.987768440123\n",
      "Iteration 7, inertia 4815.829550502121\n",
      "Iteration 8, inertia 4815.779088456561\n",
      "Iteration 9, inertia 4815.727156010597\n",
      "Iteration 10, inertia 4815.677720347132\n",
      "Iteration 11, inertia 4815.5981668979175\n",
      "Iteration 12, inertia 4815.534689552329\n",
      "Iteration 13, inertia 4815.518416947889\n",
      "Iteration 14, inertia 4815.507534551767\n",
      "Iteration 15, inertia 4815.497412100567\n",
      "Converged at iteration 15: strict convergence.\n"
     ]
    }
   ],
   "source": [
    "kmeans = KMeans(\n",
    "    n_clusters=5, \n",
    "    init='k-means++',\n",
    "    n_jobs=4,\n",
    "    verbose=True,\n",
    "    random_state=42\n",
    ")\n",
    "y_pred = kmeans.fit_predict(X)"
   ]
  },
  {
   "cell_type": "code",
   "execution_count": 7,
   "metadata": {
    "ExecuteTime": {
     "end_time": "2021-05-19T01:35:16.080885Z",
     "start_time": "2021-05-19T01:35:16.068918Z"
    }
   },
   "outputs": [
    {
     "name": "stdout",
     "output_type": "stream",
     "text": [
      "Cluster 0:99\n",
      "Cluster 1:373\n",
      "Cluster 2:724\n",
      "Cluster 3:3059\n",
      "Cluster 4:745\n"
     ]
    }
   ],
   "source": [
    "for i in range(5):\n",
    "    print(\"Cluster %d:\" % i, end='')\n",
    "    print(len(kmeans.labels_[kmeans.labels_==i]))"
   ]
  }
 ],
 "metadata": {
  "kernelspec": {
   "display_name": "Python 3",
   "language": "python",
   "name": "python3"
  },
  "language_info": {
   "codemirror_mode": {
    "name": "ipython",
    "version": 3
   },
   "file_extension": ".py",
   "mimetype": "text/x-python",
   "name": "python",
   "nbconvert_exporter": "python",
   "pygments_lexer": "ipython3",
   "version": "3.7.0"
  },
  "nbTranslate": {
   "displayLangs": [
    "*"
   ],
   "hotkey": "alt-t",
   "langInMainMenu": true,
   "sourceLang": "en",
   "targetLang": "fr",
   "useGoogleTranslate": true
  },
  "toc": {
   "base_numbering": 1,
   "nav_menu": {},
   "number_sections": true,
   "sideBar": true,
   "skip_h1_title": true,
   "title_cell": "Table of Contents",
   "title_sidebar": "Contents",
   "toc_cell": false,
   "toc_position": {},
   "toc_section_display": true,
   "toc_window_display": false
  },
  "varInspector": {
   "cols": {
    "lenName": 16,
    "lenType": 16,
    "lenVar": 40
   },
   "kernels_config": {
    "python": {
     "delete_cmd_postfix": "",
     "delete_cmd_prefix": "del ",
     "library": "var_list.py",
     "varRefreshCmd": "print(var_dic_list())"
    },
    "r": {
     "delete_cmd_postfix": ") ",
     "delete_cmd_prefix": "rm(",
     "library": "var_list.r",
     "varRefreshCmd": "cat(var_dic_list()) "
    }
   },
   "types_to_exclude": [
    "module",
    "function",
    "builtin_function_or_method",
    "instance",
    "_Feature"
   ],
   "window_display": false
  }
 },
 "nbformat": 4,
 "nbformat_minor": 2
}
