{
 "cells": [
  {
   "cell_type": "code",
   "execution_count": 1,
   "metadata": {
    "ExecuteTime": {
     "end_time": "2021-06-21T05:32:17.979068Z",
     "start_time": "2021-06-21T05:32:16.786011Z"
    }
   },
   "outputs": [],
   "source": [
    "import numpy as np\n",
    "import pandas as pd\n",
    "from sklearn.model_selection import train_test_split\n",
    "from sklearn.metrics import f1_score\n",
    "import pickle"
   ]
  },
  {
   "cell_type": "code",
   "execution_count": 2,
   "metadata": {
    "ExecuteTime": {
     "end_time": "2021-06-21T05:32:25.342782Z",
     "start_time": "2021-06-21T05:32:18.027518Z"
    }
   },
   "outputs": [],
   "source": [
    "train_set = pd.read_csv('./train_set.csv', sep='\\t')\n",
    "X_train, X_test, y_train, y_test = train_test_split(\n",
    "    train_set['text'], \n",
    "    train_set['label'], \n",
    "    random_state=42\n",
    ")"
   ]
  },
  {
   "cell_type": "markdown",
   "metadata": {},
   "source": [
    "## Vector"
   ]
  },
  {
   "cell_type": "markdown",
   "metadata": {},
   "source": [
    "### TF-IDF"
   ]
  },
  {
   "cell_type": "code",
   "execution_count": null,
   "metadata": {
    "ExecuteTime": {
     "end_time": "2021-06-20T08:53:23.688650Z",
     "start_time": "2021-06-20T08:53:23.675685Z"
    }
   },
   "outputs": [],
   "source": [
    "from sklearn.feature_extraction.text import TfidfVectorizer"
   ]
  },
  {
   "cell_type": "code",
   "execution_count": null,
   "metadata": {
    "ExecuteTime": {
     "end_time": "2021-06-18T11:26:01.305993Z",
     "start_time": "2021-06-18T11:20:45.710674Z"
    }
   },
   "outputs": [],
   "source": [
    "TfidfVec = TfidfVectorizer(\n",
    "    analyzer='word',\n",
    "    ngram_range=(1,2),#(1,3)\n",
    "    min_df=3,  # 4  5\n",
    "    max_df=0.9, # 0.95 1.0 \n",
    "    use_idf=True,\n",
    "    max_features=3000,\n",
    "    smooth_idf=True, \n",
    "    sublinear_tf=True\n",
    ").fit(train_set['text'])\n",
    "\n",
    "# 保存\n",
    "with open('saved/TfidfVec_00.pickle','wb') as f:\n",
    "    pickle.dump(TfidfVec, f)"
   ]
  },
  {
   "cell_type": "code",
   "execution_count": null,
   "metadata": {
    "ExecuteTime": {
     "end_time": "2021-06-20T08:53:40.759959Z",
     "start_time": "2021-06-20T08:53:40.027590Z"
    }
   },
   "outputs": [],
   "source": [
    "# 读取\n",
    "with open('saved/TfidfVec_00.pickle','rb') as f:\n",
    "    TfidfVec = pickle.load(f)"
   ]
  },
  {
   "cell_type": "code",
   "execution_count": null,
   "metadata": {
    "ExecuteTime": {
     "end_time": "2021-06-20T08:56:57.866442Z",
     "start_time": "2021-06-20T08:53:41.164988Z"
    }
   },
   "outputs": [],
   "source": [
    "X_train_tfidf = TfidfVec.transform(X_train)\n",
    "X_test_tfidf = TfidfVec.transform(X_test)"
   ]
  },
  {
   "cell_type": "code",
   "execution_count": null,
   "metadata": {
    "ExecuteTime": {
     "end_time": "2021-06-18T15:42:15.612316Z",
     "start_time": "2021-06-18T15:42:14.095953Z"
    }
   },
   "outputs": [],
   "source": [
    "# 特征选择\n",
    "from sklearn.feature_selection import SelectKBest,chi2\n",
    "select_model = SelectKBest(chi2, k=1000).fit(X_train_tfidf, y_train)\n",
    "X_train_tfidf_s1000 = select_model.transform(X_train_tfidf)\n",
    "X_test_tfidf_s1000 = select_model.transform(X_test_tfidf)"
   ]
  },
  {
   "cell_type": "markdown",
   "metadata": {},
   "source": [
    "### word2vec"
   ]
  },
  {
   "cell_type": "markdown",
   "metadata": {},
   "source": [
    "word2vec 1000 1w"
   ]
  },
  {
   "cell_type": "code",
   "execution_count": null,
   "metadata": {
    "ExecuteTime": {
     "end_time": "2021-06-21T01:37:50.803822Z",
     "start_time": "2021-06-21T01:37:11.244902Z"
    }
   },
   "outputs": [],
   "source": [
    "train = pd.read_csv('train_emb1000.csv', sep='\\t', header=None)\n",
    "X_train_emb1000 = train.iloc[:,:-1]\n",
    "y_train_emb1000 = train.iloc[:,-1]\n",
    "test = pd.read_csv('test_emb1000.csv', sep='\\t', header=None)\n",
    "X_test_emb1000 = test.iloc[:,:-1]\n",
    "y_test_emb1000 = test.iloc[:,-1]"
   ]
  },
  {
   "cell_type": "markdown",
   "metadata": {},
   "source": [
    "word2vec 256 20w"
   ]
  },
  {
   "cell_type": "code",
   "execution_count": 4,
   "metadata": {
    "ExecuteTime": {
     "end_time": "2021-06-21T05:34:14.958053Z",
     "start_time": "2021-06-21T05:34:07.943441Z"
    }
   },
   "outputs": [],
   "source": [
    "train = pd.read_csv('train_emb256.csv', sep='\\t', header=None)\n",
    "X_train_emb256 = train.iloc[:,:-1]\n",
    "y_train_emb256 = train.iloc[:,-1]\n",
    "test = pd.read_csv('test_emb256.csv', sep='\\t', header=None)\n",
    "X_test_emb256 = test.iloc[:,:-1]\n",
    "y_test_emb256 = test.iloc[:,-1]"
   ]
  },
  {
   "cell_type": "markdown",
   "metadata": {},
   "source": [
    "别人的训练的文件"
   ]
  },
  {
   "cell_type": "code",
   "execution_count": null,
   "metadata": {
    "ExecuteTime": {
     "end_time": "2021-06-20T08:49:13.495855Z",
     "start_time": "2021-06-20T08:49:13.337129Z"
    }
   },
   "outputs": [],
   "source": [
    "# word2vec emb\n",
    "embfile = './emb/word2vec.txt'\n",
    "with open(embfile, encoding='utf-8') as f:\n",
    "            lines = f.readlines()\n",
    "            items = lines[0].split()\n",
    "            word_count, embedding_dim = int(items[0]), int(items[1])\n",
    "word2vec_emb = pd.DataFrame([line.strip().split(' ') for line in lines[1:]])\n",
    "word2vec_emb = word2vec_emb.loc[:,1:].set_index(word2vec_emb[0].values)"
   ]
  },
  {
   "cell_type": "code",
   "execution_count": null,
   "metadata": {
    "ExecuteTime": {
     "end_time": "2021-06-20T12:34:47.263575Z",
     "start_time": "2021-06-20T09:41:04.889763Z"
    }
   },
   "outputs": [],
   "source": [
    "def sentence_emb(emb, sentence):\n",
    "    vec_emb = set(emb.index) & set(sentence.split(' '))\n",
    "    mean_vec = pd.Series([0.]*emb.shape[1]).astype(float)\n",
    "    for vec in vec_emb:\n",
    "        mean_vec += emb.loc[vec].astype(float)\n",
    "    return mean_vec/len(vec_emb)\n",
    "X_train_emb = X_train.map(lambda x:sentence_emb(word2vec_emb, x))"
   ]
  },
  {
   "cell_type": "markdown",
   "metadata": {},
   "source": [
    "## LogisticRegression"
   ]
  },
  {
   "cell_type": "code",
   "execution_count": 6,
   "metadata": {
    "ExecuteTime": {
     "end_time": "2021-06-21T05:34:52.812019Z",
     "start_time": "2021-06-21T05:34:52.706426Z"
    }
   },
   "outputs": [],
   "source": [
    "from sklearn.linear_model import LogisticRegression\n",
    "lr = LogisticRegression()"
   ]
  },
  {
   "cell_type": "markdown",
   "metadata": {},
   "source": [
    "3000->3000"
   ]
  },
  {
   "cell_type": "code",
   "execution_count": null,
   "metadata": {
    "ExecuteTime": {
     "end_time": "2021-06-18T13:28:02.301166Z",
     "start_time": "2021-06-18T13:28:02.197564Z"
    }
   },
   "outputs": [],
   "source": [
    "lr.fit(X_train_tfidf, y_train)\n",
    "\n",
    "# 保存\n",
    "with open('saved/lr_00.pickle','wb') as f:\n",
    "    pickle.dump(lr, f)"
   ]
  },
  {
   "cell_type": "code",
   "execution_count": null,
   "metadata": {
    "ExecuteTime": {
     "end_time": "2021-06-18T16:15:25.415195Z",
     "start_time": "2021-06-18T16:15:25.197589Z"
    }
   },
   "outputs": [],
   "source": [
    "# 读取\n",
    "with open('saved/lr_00.pickle','rb') as f:\n",
    "    lr = pickle.load(f)\n",
    "\n",
    "y_pred = lr.predict(X_test_tfidf)\n",
    "f1_score(y_test, y_pred, average='macro')"
   ]
  },
  {
   "cell_type": "markdown",
   "metadata": {},
   "source": [
    "3000->1000"
   ]
  },
  {
   "cell_type": "code",
   "execution_count": null,
   "metadata": {
    "ExecuteTime": {
     "end_time": "2021-06-18T15:45:30.116082Z",
     "start_time": "2021-06-18T15:44:48.795069Z"
    }
   },
   "outputs": [],
   "source": [
    "lr.fit(X_train_tfidf_s1000, y_train)\n",
    "# 保存\n",
    "with open('saved/lr_01.pickle','wb') as f:\n",
    "    pickle.dump(lr, f)"
   ]
  },
  {
   "cell_type": "code",
   "execution_count": null,
   "metadata": {
    "ExecuteTime": {
     "end_time": "2021-06-18T15:45:34.410483Z",
     "start_time": "2021-06-18T15:45:34.308395Z"
    }
   },
   "outputs": [],
   "source": [
    "# 读取\n",
    "with open('saved/lr_01.pickle','rb') as f:\n",
    "    lr = pickle.load(f)\n",
    "\n",
    "y_pred = lr.predict(X_test_tfidf_s1000)\n",
    "f1_score(y_test, y_pred, average='macro')"
   ]
  },
  {
   "cell_type": "markdown",
   "metadata": {},
   "source": [
    "word2vec 1000"
   ]
  },
  {
   "cell_type": "code",
   "execution_count": null,
   "metadata": {
    "ExecuteTime": {
     "end_time": "2021-06-21T01:39:46.109135Z",
     "start_time": "2021-06-21T01:39:27.037343Z"
    }
   },
   "outputs": [],
   "source": [
    "lr.fit(X_train_emb1000, y_train_emb1000)\n",
    "# 保存\n",
    "with open('saved/lr_02.pickle','wb') as f:\n",
    "    pickle.dump(lr, f)"
   ]
  },
  {
   "cell_type": "code",
   "execution_count": null,
   "metadata": {
    "ExecuteTime": {
     "end_time": "2021-06-21T01:39:18.731693Z",
     "start_time": "2021-06-21T01:39:18.554842Z"
    }
   },
   "outputs": [],
   "source": [
    "# 读取\n",
    "with open('saved/lr_02.pickle','rb') as f:\n",
    "    lr = pickle.load(f)\n",
    "\n",
    "y_pred = lr.predict(X_test_emb1000)\n",
    "f1_score(y_test_emb1000, y_pred, average='macro')"
   ]
  },
  {
   "cell_type": "code",
   "execution_count": null,
   "metadata": {
    "ExecuteTime": {
     "end_time": "2021-06-21T01:40:22.028127Z",
     "start_time": "2021-06-21T01:40:21.525837Z"
    }
   },
   "outputs": [],
   "source": [
    "# 训练集\n",
    "y_pred = lr.predict(X_train_emb1000)\n",
    "f1_score(y_train_emb1000, y_pred, average='macro')"
   ]
  },
  {
   "cell_type": "markdown",
   "metadata": {},
   "source": [
    "word2vec 256 20w"
   ]
  },
  {
   "cell_type": "code",
   "execution_count": 7,
   "metadata": {
    "ExecuteTime": {
     "end_time": "2021-06-21T05:35:12.958918Z",
     "start_time": "2021-06-21T05:34:54.394811Z"
    }
   },
   "outputs": [
    {
     "name": "stderr",
     "output_type": "stream",
     "text": [
      "C:\\Users\\陈继延\\AppData\\Roaming\\Python\\Python37\\site-packages\\sklearn\\linear_model\\_logistic.py:765: ConvergenceWarning: lbfgs failed to converge (status=1):\n",
      "STOP: TOTAL NO. of ITERATIONS REACHED LIMIT.\n",
      "\n",
      "Increase the number of iterations (max_iter) or scale the data as shown in:\n",
      "    https://scikit-learn.org/stable/modules/preprocessing.html\n",
      "Please also refer to the documentation for alternative solver options:\n",
      "    https://scikit-learn.org/stable/modules/linear_model.html#logistic-regression\n",
      "  extra_warning_msg=_LOGISTIC_SOLVER_CONVERGENCE_MSG)\n"
     ]
    }
   ],
   "source": [
    "lr.fit(X_train_emb256, y_train_emb256)\n",
    "# 保存\n",
    "with open('saved/lr_03.pickle','wb') as f:\n",
    "    pickle.dump(lr, f)"
   ]
  },
  {
   "cell_type": "code",
   "execution_count": 8,
   "metadata": {
    "ExecuteTime": {
     "end_time": "2021-06-21T05:35:15.784511Z",
     "start_time": "2021-06-21T05:35:15.691603Z"
    }
   },
   "outputs": [
    {
     "data": {
      "text/plain": [
       "0.8724104080617358"
      ]
     },
     "execution_count": 8,
     "metadata": {},
     "output_type": "execute_result"
    }
   ],
   "source": [
    "# 读取\n",
    "with open('saved/lr_03.pickle','rb') as f:\n",
    "    lr = pickle.load(f)\n",
    "\n",
    "y_pred = lr.predict(X_test_emb256)\n",
    "f1_score(y_test_emb256, y_pred, average='macro')"
   ]
  },
  {
   "cell_type": "markdown",
   "metadata": {},
   "source": [
    "## NB"
   ]
  },
  {
   "cell_type": "code",
   "execution_count": 9,
   "metadata": {
    "ExecuteTime": {
     "end_time": "2021-06-21T05:35:38.665969Z",
     "start_time": "2021-06-21T05:35:38.643465Z"
    }
   },
   "outputs": [],
   "source": [
    "from sklearn.naive_bayes import MultinomialNB\n",
    "mnb = MultinomialNB()"
   ]
  },
  {
   "cell_type": "markdown",
   "metadata": {},
   "source": [
    "3000->3000"
   ]
  },
  {
   "cell_type": "code",
   "execution_count": null,
   "metadata": {
    "ExecuteTime": {
     "end_time": "2021-06-18T15:51:16.842979Z",
     "start_time": "2021-06-18T15:51:16.072395Z"
    }
   },
   "outputs": [],
   "source": [
    "mnb.fit(X_train_tfidf, y_train)\n",
    "\n",
    "# 保存\n",
    "with open('saved/mnb_00.pickle','wb') as f:\n",
    "    pickle.dump(mnb, f)"
   ]
  },
  {
   "cell_type": "code",
   "execution_count": null,
   "metadata": {
    "ExecuteTime": {
     "end_time": "2021-06-18T16:15:31.102331Z",
     "start_time": "2021-06-18T16:15:30.898796Z"
    }
   },
   "outputs": [],
   "source": [
    "# 读取\n",
    "with open('saved/mnb_00.pickle','rb') as f:\n",
    "    mnb = pickle.load(f)\n",
    "\n",
    "y_pred = mnb.predict(X_test_tfidf)\n",
    "f1_score(y_test, y_pred, average='macro')"
   ]
  },
  {
   "cell_type": "markdown",
   "metadata": {},
   "source": [
    "3000->1000"
   ]
  },
  {
   "cell_type": "code",
   "execution_count": null,
   "metadata": {
    "ExecuteTime": {
     "end_time": "2021-06-18T15:51:13.441726Z",
     "start_time": "2021-06-18T15:51:13.181752Z"
    }
   },
   "outputs": [],
   "source": [
    "mnb.fit(X_train_tfidf_s1000, y_train)\n",
    "\n",
    "# 保存\n",
    "with open('saved/mnb_01.pickle','wb') as f:\n",
    "    pickle.dump(mnb, f)"
   ]
  },
  {
   "cell_type": "code",
   "execution_count": null,
   "metadata": {
    "ExecuteTime": {
     "end_time": "2021-06-18T15:51:14.489839Z",
     "start_time": "2021-06-18T15:51:14.398666Z"
    }
   },
   "outputs": [],
   "source": [
    "# 读取\n",
    "with open('saved/mnb_01.pickle','rb') as f:\n",
    "    mnb = pickle.load(f)\n",
    "\n",
    "y_pred = mnb.predict(X_test_tfidf_s1000)\n",
    "f1_score(y_test, y_pred, average='macro')"
   ]
  },
  {
   "cell_type": "markdown",
   "metadata": {},
   "source": [
    "word2vec 1000"
   ]
  },
  {
   "cell_type": "code",
   "execution_count": null,
   "metadata": {
    "ExecuteTime": {
     "end_time": "2021-06-21T01:45:02.810726Z",
     "start_time": "2021-06-21T01:45:01.910762Z"
    }
   },
   "outputs": [],
   "source": [
    "mnb.fit(X_train_emb1000 - X_train_emb1000.min(axis=0), y_train_emb1000)\n",
    "# 保存\n",
    "with open('saved/mnb_02.pickle','wb') as f:\n",
    "    pickle.dump(mnb, f)"
   ]
  },
  {
   "cell_type": "code",
   "execution_count": null,
   "metadata": {
    "ExecuteTime": {
     "end_time": "2021-06-21T01:45:30.169535Z",
     "start_time": "2021-06-21T01:45:29.662166Z"
    }
   },
   "outputs": [],
   "source": [
    "# 读取\n",
    "with open('saved/mnb_02.pickle','rb') as f:\n",
    "    mnb = pickle.load(f)\n",
    "\n",
    "y_pred = mnb.predict(X_test_emb1000 - X_train_emb1000.min(axis=0))\n",
    "f1_score(y_test_emb1000, y_pred, average='macro')"
   ]
  },
  {
   "cell_type": "code",
   "execution_count": null,
   "metadata": {
    "ExecuteTime": {
     "end_time": "2021-06-21T01:46:17.572166Z",
     "start_time": "2021-06-21T01:46:16.590957Z"
    }
   },
   "outputs": [],
   "source": [
    "# 训练集\n",
    "y_pred = mnb.predict(X_train_emb1000 - X_train_emb1000.min(axis=0))\n",
    "f1_score(y_train_emb1000, y_pred, average='macro')"
   ]
  },
  {
   "cell_type": "markdown",
   "metadata": {},
   "source": [
    "word2vec 256 20w"
   ]
  },
  {
   "cell_type": "code",
   "execution_count": 11,
   "metadata": {
    "ExecuteTime": {
     "end_time": "2021-06-21T05:36:16.785587Z",
     "start_time": "2021-06-21T05:36:16.465682Z"
    }
   },
   "outputs": [],
   "source": [
    "mnb.fit(X_train_emb256 - X_train_emb256.min(axis=0), y_train_emb256)\n",
    "# 保存\n",
    "with open('saved/mnb_03.pickle','wb') as f:\n",
    "    pickle.dump(mnb, f)"
   ]
  },
  {
   "cell_type": "code",
   "execution_count": 12,
   "metadata": {
    "ExecuteTime": {
     "end_time": "2021-06-21T05:36:35.327932Z",
     "start_time": "2021-06-21T05:36:35.188471Z"
    }
   },
   "outputs": [
    {
     "data": {
      "text/plain": [
       "0.5408563187763433"
      ]
     },
     "execution_count": 12,
     "metadata": {},
     "output_type": "execute_result"
    }
   ],
   "source": [
    "# 读取\n",
    "with open('saved/mnb_03.pickle','rb') as f:\n",
    "    mnb = pickle.load(f)\n",
    "\n",
    "y_pred = mnb.predict(X_test_emb256 - X_train_emb256.min(axis=0))\n",
    "f1_score(y_test_emb256, y_pred, average='macro')"
   ]
  },
  {
   "cell_type": "markdown",
   "metadata": {},
   "source": [
    "## GBDT"
   ]
  },
  {
   "cell_type": "code",
   "execution_count": 13,
   "metadata": {
    "ExecuteTime": {
     "end_time": "2021-06-21T05:36:44.137027Z",
     "start_time": "2021-06-21T05:36:44.130050Z"
    }
   },
   "outputs": [],
   "source": [
    "import lightgbm as lgb\n",
    "lgbc =lgb.LGBMClassifier(\n",
    "    boosting_type='gbdt',\n",
    "    num_leaves=2**6,\n",
    "    max_depth=100, \n",
    "    learning_rate=0.088,\n",
    "    n_estimators=500,\n",
    "    objective='multiclass',\n",
    "    subsample=0.72,#\n",
    "    colsample_bytree=0.599,#\n",
    "    reg_alpha=0.001,\n",
    "    reg_lambda=0.599,#l2\n",
    "    n_jobs=-1, #\n",
    "    num_class=14,#\n",
    "    silent=False, \n",
    "    random_state=42,\n",
    "#     class_weight=20,\n",
    "    min_child_samples=21,\n",
    "    metric='multi_logloss',\n",
    "    device='cpu',\n",
    ")"
   ]
  },
  {
   "cell_type": "markdown",
   "metadata": {},
   "source": [
    "3000->3000"
   ]
  },
  {
   "cell_type": "code",
   "execution_count": null,
   "metadata": {
    "ExecuteTime": {
     "end_time": "2021-06-18T14:28:54.631747Z",
     "start_time": "2021-06-18T13:33:06.122841Z"
    }
   },
   "outputs": [],
   "source": [
    "lgbc.fit(X_train_tfidf,\n",
    "         y_train,\n",
    "         eval_set=(X_test_tfidf, y_test),\n",
    "         early_stopping_rounds=100)\n",
    "# 保存\n",
    "with open('saved/lgbc_00.pickle', 'wb') as f:\n",
    "    pickle.dump(lgbc, f)"
   ]
  },
  {
   "cell_type": "code",
   "execution_count": null,
   "metadata": {
    "ExecuteTime": {
     "end_time": "2021-06-18T16:15:37.989487Z",
     "start_time": "2021-06-18T16:15:35.610265Z"
    }
   },
   "outputs": [],
   "source": [
    "# 读取\n",
    "with open('saved/lgbc_00.pickle','rb') as f:\n",
    "    lgbc = pickle.load(f)\n",
    "y_pred = lgbc.predict(X_test_tfidf)\n",
    "f1_score(y_test, y_pred, average='macro')"
   ]
  },
  {
   "cell_type": "markdown",
   "metadata": {},
   "source": [
    "3000->1000"
   ]
  },
  {
   "cell_type": "code",
   "execution_count": null,
   "metadata": {
    "ExecuteTime": {
     "end_time": "2021-06-18T16:09:47.487848Z",
     "start_time": "2021-06-18T15:53:56.325247Z"
    }
   },
   "outputs": [],
   "source": [
    "lgbc.fit(X_train_tfidf_s1000,\n",
    "         y_train,\n",
    "         eval_set=(X_test_tfidf_s1000, y_test),\n",
    "         early_stopping_rounds=100)\n",
    "# 保存\n",
    "with open('saved/lgbc_01.pickle', 'wb') as f:\n",
    "    pickle.dump(lgbc, f)"
   ]
  },
  {
   "cell_type": "code",
   "execution_count": null,
   "metadata": {
    "ExecuteTime": {
     "end_time": "2021-06-18T16:09:55.736903Z",
     "start_time": "2021-06-18T16:09:53.376769Z"
    }
   },
   "outputs": [],
   "source": [
    "# 读取\n",
    "with open('saved/lgbc_01.pickle','rb') as f:\n",
    "    lgbc = pickle.load(f)\n",
    "y_pred = lgbc.predict(X_test_tfidf_s1000)\n",
    "f1_score(y_test, y_pred, average='macro')"
   ]
  },
  {
   "cell_type": "markdown",
   "metadata": {},
   "source": [
    "word2vec 1000 1w"
   ]
  },
  {
   "cell_type": "code",
   "execution_count": null,
   "metadata": {
    "ExecuteTime": {
     "end_time": "2021-06-21T02:04:56.462878Z",
     "start_time": "2021-06-21T01:47:22.688597Z"
    }
   },
   "outputs": [],
   "source": [
    "lgbc.fit(X_train_emb1000,\n",
    "         y_train_emb1000,\n",
    "         eval_set=(X_test_emb1000, y_test_emb1000),\n",
    "         early_stopping_rounds=100)\n",
    "# 保存\n",
    "with open('saved/lgbc_02.pickle', 'wb') as f:\n",
    "    pickle.dump(lgbc, f)"
   ]
  },
  {
   "cell_type": "code",
   "execution_count": null,
   "metadata": {
    "ExecuteTime": {
     "end_time": "2021-06-21T02:05:35.941874Z",
     "start_time": "2021-06-21T02:05:31.977119Z"
    }
   },
   "outputs": [],
   "source": [
    "# 读取\n",
    "with open('saved/lgbc_02.pickle','rb') as f:\n",
    "    lgbc = pickle.load(f)\n",
    "y_pred = lgbc.predict(X_test_emb1000)\n",
    "f1_score(y_test_emb1000, y_pred, average='macro')"
   ]
  },
  {
   "cell_type": "markdown",
   "metadata": {},
   "source": [
    "word2vec 256 20w"
   ]
  },
  {
   "cell_type": "code",
   "execution_count": 14,
   "metadata": {
    "ExecuteTime": {
     "end_time": "2021-06-21T05:41:50.379967Z",
     "start_time": "2021-06-21T05:38:02.619978Z"
    }
   },
   "outputs": [
    {
     "name": "stdout",
     "output_type": "stream",
     "text": [
      "[LightGBM] [Warning] Auto-choosing col-wise multi-threading, the overhead of testing was 0.145293 seconds.\n",
      "You can set `force_col_wise=true` to remove the overhead.\n",
      "[LightGBM] [Info] Total Bins 65280\n",
      "[LightGBM] [Info] Number of data points in the train set: 150000, number of used features: 256\n",
      "[LightGBM] [Info] Start training from score -1.639176\n",
      "[LightGBM] [Info] Start training from score -1.688265\n",
      "[LightGBM] [Info] Start training from score -1.854657\n",
      "[LightGBM] [Info] Start training from score -2.205277\n",
      "[LightGBM] [Info] Start training from score -2.583976\n",
      "[LightGBM] [Info] Start training from score -2.790671\n",
      "[LightGBM] [Info] Start training from score -2.989088\n",
      "[LightGBM] [Info] Start training from score -3.117373\n",
      "[LightGBM] [Info] Start training from score -3.241803\n",
      "[LightGBM] [Info] Start training from score -3.518855\n",
      "[LightGBM] [Info] Start training from score -3.700412\n",
      "[LightGBM] [Info] Start training from score -4.157071\n",
      "[LightGBM] [Info] Start training from score -4.698749\n",
      "[LightGBM] [Info] Start training from score -5.374479\n",
      "[1]\tvalid_0's multi_logloss: 1.75487\n",
      "Training until validation scores don't improve for 100 rounds\n",
      "[2]\tvalid_0's multi_logloss: 1.52537\n",
      "[3]\tvalid_0's multi_logloss: 1.35965\n",
      "[4]\tvalid_0's multi_logloss: 1.227\n",
      "[5]\tvalid_0's multi_logloss: 1.12051\n",
      "[6]\tvalid_0's multi_logloss: 1.03266\n",
      "[7]\tvalid_0's multi_logloss: 0.958121\n",
      "[8]\tvalid_0's multi_logloss: 0.895901\n",
      "[9]\tvalid_0's multi_logloss: 0.841433\n",
      "[10]\tvalid_0's multi_logloss: 0.794604\n",
      "[11]\tvalid_0's multi_logloss: 0.753761\n",
      "[12]\tvalid_0's multi_logloss: 0.718021\n",
      "[13]\tvalid_0's multi_logloss: 0.686217\n",
      "[14]\tvalid_0's multi_logloss: 0.658374\n",
      "[15]\tvalid_0's multi_logloss: 0.633896\n",
      "[16]\tvalid_0's multi_logloss: 0.611954\n",
      "[17]\tvalid_0's multi_logloss: 0.592485\n",
      "[18]\tvalid_0's multi_logloss: 0.575235\n",
      "[19]\tvalid_0's multi_logloss: 0.55945\n",
      "[20]\tvalid_0's multi_logloss: 0.545206\n",
      "[21]\tvalid_0's multi_logloss: 0.532301\n",
      "[22]\tvalid_0's multi_logloss: 0.520599\n",
      "[23]\tvalid_0's multi_logloss: 0.509791\n",
      "[24]\tvalid_0's multi_logloss: 0.499832\n",
      "[25]\tvalid_0's multi_logloss: 0.490884\n",
      "[26]\tvalid_0's multi_logloss: 0.482595\n",
      "[27]\tvalid_0's multi_logloss: 0.475034\n",
      "[28]\tvalid_0's multi_logloss: 0.467974\n",
      "[29]\tvalid_0's multi_logloss: 0.461507\n",
      "[30]\tvalid_0's multi_logloss: 0.455648\n",
      "[31]\tvalid_0's multi_logloss: 0.450041\n",
      "[32]\tvalid_0's multi_logloss: 0.444884\n",
      "[33]\tvalid_0's multi_logloss: 0.439945\n",
      "[34]\tvalid_0's multi_logloss: 0.435286\n",
      "[35]\tvalid_0's multi_logloss: 0.431003\n",
      "[36]\tvalid_0's multi_logloss: 0.426846\n",
      "[37]\tvalid_0's multi_logloss: 0.422924\n",
      "[38]\tvalid_0's multi_logloss: 0.419419\n",
      "[39]\tvalid_0's multi_logloss: 0.41611\n",
      "[40]\tvalid_0's multi_logloss: 0.412732\n",
      "[41]\tvalid_0's multi_logloss: 0.409709\n",
      "[42]\tvalid_0's multi_logloss: 0.406785\n",
      "[43]\tvalid_0's multi_logloss: 0.404069\n",
      "[44]\tvalid_0's multi_logloss: 0.401468\n",
      "[45]\tvalid_0's multi_logloss: 0.398957\n",
      "[46]\tvalid_0's multi_logloss: 0.396542\n",
      "[47]\tvalid_0's multi_logloss: 0.394344\n",
      "[48]\tvalid_0's multi_logloss: 0.392291\n",
      "[49]\tvalid_0's multi_logloss: 0.390183\n",
      "[50]\tvalid_0's multi_logloss: 0.388153\n",
      "[51]\tvalid_0's multi_logloss: 0.385943\n",
      "[52]\tvalid_0's multi_logloss: 0.383965\n",
      "[53]\tvalid_0's multi_logloss: 0.382209\n",
      "[54]\tvalid_0's multi_logloss: 0.380404\n",
      "[55]\tvalid_0's multi_logloss: 0.378803\n",
      "[56]\tvalid_0's multi_logloss: 0.377212\n",
      "[57]\tvalid_0's multi_logloss: 0.375618\n",
      "[58]\tvalid_0's multi_logloss: 0.374264\n",
      "[59]\tvalid_0's multi_logloss: 0.372776\n",
      "[60]\tvalid_0's multi_logloss: 0.371417\n",
      "[61]\tvalid_0's multi_logloss: 0.370104\n",
      "[62]\tvalid_0's multi_logloss: 0.368725\n",
      "[63]\tvalid_0's multi_logloss: 0.367425\n",
      "[64]\tvalid_0's multi_logloss: 0.366256\n",
      "[65]\tvalid_0's multi_logloss: 0.365085\n",
      "[66]\tvalid_0's multi_logloss: 0.36389\n",
      "[67]\tvalid_0's multi_logloss: 0.362833\n",
      "[68]\tvalid_0's multi_logloss: 0.361642\n",
      "[69]\tvalid_0's multi_logloss: 0.36064\n",
      "[70]\tvalid_0's multi_logloss: 0.359629\n",
      "[71]\tvalid_0's multi_logloss: 0.358726\n",
      "[72]\tvalid_0's multi_logloss: 0.357772\n",
      "[73]\tvalid_0's multi_logloss: 0.356962\n",
      "[74]\tvalid_0's multi_logloss: 0.356147\n",
      "[75]\tvalid_0's multi_logloss: 0.355403\n",
      "[76]\tvalid_0's multi_logloss: 0.354642\n",
      "[77]\tvalid_0's multi_logloss: 0.353915\n",
      "[78]\tvalid_0's multi_logloss: 0.352997\n",
      "[79]\tvalid_0's multi_logloss: 0.352362\n",
      "[80]\tvalid_0's multi_logloss: 0.351674\n",
      "[81]\tvalid_0's multi_logloss: 0.350938\n",
      "[82]\tvalid_0's multi_logloss: 0.350284\n",
      "[83]\tvalid_0's multi_logloss: 0.349556\n",
      "[84]\tvalid_0's multi_logloss: 0.348995\n",
      "[85]\tvalid_0's multi_logloss: 0.348392\n",
      "[86]\tvalid_0's multi_logloss: 0.347798\n",
      "[87]\tvalid_0's multi_logloss: 0.347182\n",
      "[88]\tvalid_0's multi_logloss: 0.346627\n",
      "[89]\tvalid_0's multi_logloss: 0.34606\n",
      "[90]\tvalid_0's multi_logloss: 0.34547\n",
      "[91]\tvalid_0's multi_logloss: 0.345058\n",
      "[92]\tvalid_0's multi_logloss: 0.344606\n",
      "[93]\tvalid_0's multi_logloss: 0.344154\n",
      "[94]\tvalid_0's multi_logloss: 0.343702\n",
      "[95]\tvalid_0's multi_logloss: 0.343219\n",
      "[96]\tvalid_0's multi_logloss: 0.342772\n",
      "[97]\tvalid_0's multi_logloss: 0.342231\n",
      "[98]\tvalid_0's multi_logloss: 0.341824\n",
      "[99]\tvalid_0's multi_logloss: 0.341417\n",
      "[100]\tvalid_0's multi_logloss: 0.341134\n",
      "[101]\tvalid_0's multi_logloss: 0.340715\n",
      "[102]\tvalid_0's multi_logloss: 0.340384\n",
      "[103]\tvalid_0's multi_logloss: 0.340041\n",
      "[104]\tvalid_0's multi_logloss: 0.339615\n",
      "[105]\tvalid_0's multi_logloss: 0.339254\n",
      "[106]\tvalid_0's multi_logloss: 0.338909\n",
      "[107]\tvalid_0's multi_logloss: 0.338671\n",
      "[108]\tvalid_0's multi_logloss: 0.338376\n",
      "[109]\tvalid_0's multi_logloss: 0.338079\n",
      "[110]\tvalid_0's multi_logloss: 0.337757\n",
      "[111]\tvalid_0's multi_logloss: 0.337461\n",
      "[112]\tvalid_0's multi_logloss: 0.337291\n",
      "[113]\tvalid_0's multi_logloss: 0.337026\n",
      "[114]\tvalid_0's multi_logloss: 0.336778\n",
      "[115]\tvalid_0's multi_logloss: 0.336477\n",
      "[116]\tvalid_0's multi_logloss: 0.336227\n",
      "[117]\tvalid_0's multi_logloss: 0.335933\n",
      "[118]\tvalid_0's multi_logloss: 0.335753\n",
      "[119]\tvalid_0's multi_logloss: 0.335563\n",
      "[120]\tvalid_0's multi_logloss: 0.335331\n",
      "[121]\tvalid_0's multi_logloss: 0.335104\n",
      "[122]\tvalid_0's multi_logloss: 0.334935\n",
      "[123]\tvalid_0's multi_logloss: 0.334708\n",
      "[124]\tvalid_0's multi_logloss: 0.334605\n",
      "[125]\tvalid_0's multi_logloss: 0.334343\n",
      "[126]\tvalid_0's multi_logloss: 0.334132\n",
      "[127]\tvalid_0's multi_logloss: 0.333999\n",
      "[128]\tvalid_0's multi_logloss: 0.333885\n",
      "[129]\tvalid_0's multi_logloss: 0.333725\n",
      "[130]\tvalid_0's multi_logloss: 0.33359\n",
      "[131]\tvalid_0's multi_logloss: 0.333454\n",
      "[132]\tvalid_0's multi_logloss: 0.333388\n",
      "[133]\tvalid_0's multi_logloss: 0.333296\n",
      "[134]\tvalid_0's multi_logloss: 0.33317\n",
      "[135]\tvalid_0's multi_logloss: 0.333107\n",
      "[136]\tvalid_0's multi_logloss: 0.332988\n",
      "[137]\tvalid_0's multi_logloss: 0.332939\n",
      "[138]\tvalid_0's multi_logloss: 0.332928\n",
      "[139]\tvalid_0's multi_logloss: 0.332711\n",
      "[140]\tvalid_0's multi_logloss: 0.332601\n",
      "[141]\tvalid_0's multi_logloss: 0.332533\n",
      "[142]\tvalid_0's multi_logloss: 0.332536\n",
      "[143]\tvalid_0's multi_logloss: 0.332579\n",
      "[144]\tvalid_0's multi_logloss: 0.332494\n",
      "[145]\tvalid_0's multi_logloss: 0.332452\n",
      "[146]\tvalid_0's multi_logloss: 0.332353\n",
      "[147]\tvalid_0's multi_logloss: 0.33233\n",
      "[148]\tvalid_0's multi_logloss: 0.332386\n",
      "[149]\tvalid_0's multi_logloss: 0.33241\n",
      "[150]\tvalid_0's multi_logloss: 0.332336\n",
      "[151]\tvalid_0's multi_logloss: 0.332365\n",
      "[152]\tvalid_0's multi_logloss: 0.332303\n",
      "[153]\tvalid_0's multi_logloss: 0.332296\n",
      "[154]\tvalid_0's multi_logloss: 0.332201\n",
      "[155]\tvalid_0's multi_logloss: 0.332176\n",
      "[156]\tvalid_0's multi_logloss: 0.33219\n",
      "[157]\tvalid_0's multi_logloss: 0.332197\n",
      "[158]\tvalid_0's multi_logloss: 0.33221\n",
      "[159]\tvalid_0's multi_logloss: 0.332248\n",
      "[160]\tvalid_0's multi_logloss: 0.332192\n",
      "[161]\tvalid_0's multi_logloss: 0.332156\n",
      "[162]\tvalid_0's multi_logloss: 0.332183\n",
      "[163]\tvalid_0's multi_logloss: 0.33222\n",
      "[164]\tvalid_0's multi_logloss: 0.332207\n",
      "[165]\tvalid_0's multi_logloss: 0.332222\n",
      "[166]\tvalid_0's multi_logloss: 0.332328\n",
      "[167]\tvalid_0's multi_logloss: 0.332307\n",
      "[168]\tvalid_0's multi_logloss: 0.332362\n",
      "[169]\tvalid_0's multi_logloss: 0.332391\n",
      "[170]\tvalid_0's multi_logloss: 0.3324\n",
      "[171]\tvalid_0's multi_logloss: 0.332468\n",
      "[172]\tvalid_0's multi_logloss: 0.33252\n",
      "[173]\tvalid_0's multi_logloss: 0.332564\n",
      "[174]\tvalid_0's multi_logloss: 0.332647\n",
      "[175]\tvalid_0's multi_logloss: 0.332743\n",
      "[176]\tvalid_0's multi_logloss: 0.332829\n",
      "[177]\tvalid_0's multi_logloss: 0.332893\n",
      "[178]\tvalid_0's multi_logloss: 0.332926\n",
      "[179]\tvalid_0's multi_logloss: 0.333013\n",
      "[180]\tvalid_0's multi_logloss: 0.333047\n",
      "[181]\tvalid_0's multi_logloss: 0.333065\n"
     ]
    },
    {
     "name": "stdout",
     "output_type": "stream",
     "text": [
      "[182]\tvalid_0's multi_logloss: 0.333151\n",
      "[183]\tvalid_0's multi_logloss: 0.333243\n",
      "[184]\tvalid_0's multi_logloss: 0.33331\n",
      "[185]\tvalid_0's multi_logloss: 0.333338\n",
      "[186]\tvalid_0's multi_logloss: 0.333432\n",
      "[187]\tvalid_0's multi_logloss: 0.333493\n",
      "[188]\tvalid_0's multi_logloss: 0.333541\n",
      "[189]\tvalid_0's multi_logloss: 0.33358\n",
      "[190]\tvalid_0's multi_logloss: 0.33367\n",
      "[191]\tvalid_0's multi_logloss: 0.333766\n",
      "[192]\tvalid_0's multi_logloss: 0.333876\n",
      "[193]\tvalid_0's multi_logloss: 0.333995\n",
      "[194]\tvalid_0's multi_logloss: 0.334086\n",
      "[195]\tvalid_0's multi_logloss: 0.33414\n",
      "[196]\tvalid_0's multi_logloss: 0.334322\n",
      "[197]\tvalid_0's multi_logloss: 0.334327\n",
      "[198]\tvalid_0's multi_logloss: 0.334495\n",
      "[199]\tvalid_0's multi_logloss: 0.334613\n",
      "[200]\tvalid_0's multi_logloss: 0.33476\n",
      "[201]\tvalid_0's multi_logloss: 0.33481\n",
      "[202]\tvalid_0's multi_logloss: 0.334804\n",
      "[203]\tvalid_0's multi_logloss: 0.334897\n",
      "[204]\tvalid_0's multi_logloss: 0.334922\n",
      "[205]\tvalid_0's multi_logloss: 0.334953\n",
      "[206]\tvalid_0's multi_logloss: 0.335034\n",
      "[207]\tvalid_0's multi_logloss: 0.335135\n",
      "[208]\tvalid_0's multi_logloss: 0.335114\n",
      "[209]\tvalid_0's multi_logloss: 0.335287\n",
      "[210]\tvalid_0's multi_logloss: 0.335343\n",
      "[211]\tvalid_0's multi_logloss: 0.335474\n",
      "[212]\tvalid_0's multi_logloss: 0.335546\n",
      "[213]\tvalid_0's multi_logloss: 0.335665\n",
      "[214]\tvalid_0's multi_logloss: 0.335811\n",
      "[215]\tvalid_0's multi_logloss: 0.335932\n",
      "[216]\tvalid_0's multi_logloss: 0.336001\n",
      "[217]\tvalid_0's multi_logloss: 0.336087\n",
      "[218]\tvalid_0's multi_logloss: 0.336271\n",
      "[219]\tvalid_0's multi_logloss: 0.336347\n",
      "[220]\tvalid_0's multi_logloss: 0.336479\n",
      "[221]\tvalid_0's multi_logloss: 0.336589\n",
      "[222]\tvalid_0's multi_logloss: 0.33674\n",
      "[223]\tvalid_0's multi_logloss: 0.336893\n",
      "[224]\tvalid_0's multi_logloss: 0.337094\n",
      "[225]\tvalid_0's multi_logloss: 0.337278\n",
      "[226]\tvalid_0's multi_logloss: 0.337427\n",
      "[227]\tvalid_0's multi_logloss: 0.337519\n",
      "[228]\tvalid_0's multi_logloss: 0.33762\n",
      "[229]\tvalid_0's multi_logloss: 0.337781\n",
      "[230]\tvalid_0's multi_logloss: 0.337874\n",
      "[231]\tvalid_0's multi_logloss: 0.337994\n",
      "[232]\tvalid_0's multi_logloss: 0.33812\n",
      "[233]\tvalid_0's multi_logloss: 0.338236\n",
      "[234]\tvalid_0's multi_logloss: 0.3384\n",
      "[235]\tvalid_0's multi_logloss: 0.338538\n",
      "[236]\tvalid_0's multi_logloss: 0.338684\n",
      "[237]\tvalid_0's multi_logloss: 0.338769\n",
      "[238]\tvalid_0's multi_logloss: 0.338944\n",
      "[239]\tvalid_0's multi_logloss: 0.339057\n",
      "[240]\tvalid_0's multi_logloss: 0.339133\n",
      "[241]\tvalid_0's multi_logloss: 0.339273\n",
      "[242]\tvalid_0's multi_logloss: 0.339317\n",
      "[243]\tvalid_0's multi_logloss: 0.339462\n",
      "[244]\tvalid_0's multi_logloss: 0.339627\n",
      "[245]\tvalid_0's multi_logloss: 0.339745\n",
      "[246]\tvalid_0's multi_logloss: 0.339913\n",
      "[247]\tvalid_0's multi_logloss: 0.340004\n",
      "[248]\tvalid_0's multi_logloss: 0.340115\n",
      "[249]\tvalid_0's multi_logloss: 0.34023\n",
      "[250]\tvalid_0's multi_logloss: 0.340338\n",
      "[251]\tvalid_0's multi_logloss: 0.34055\n",
      "[252]\tvalid_0's multi_logloss: 0.340654\n",
      "[253]\tvalid_0's multi_logloss: 0.340851\n",
      "[254]\tvalid_0's multi_logloss: 0.340911\n",
      "[255]\tvalid_0's multi_logloss: 0.341066\n",
      "[256]\tvalid_0's multi_logloss: 0.341145\n",
      "[257]\tvalid_0's multi_logloss: 0.341368\n",
      "[258]\tvalid_0's multi_logloss: 0.341473\n",
      "[259]\tvalid_0's multi_logloss: 0.341522\n",
      "[260]\tvalid_0's multi_logloss: 0.341689\n",
      "[261]\tvalid_0's multi_logloss: 0.341899\n",
      "Early stopping, best iteration is:\n",
      "[161]\tvalid_0's multi_logloss: 0.332156\n"
     ]
    }
   ],
   "source": [
    "lgbc.fit(X_train_emb256,\n",
    "         y_train,\n",
    "         eval_set=(X_test_emb256, y_test),\n",
    "         early_stopping_rounds=100)\n",
    "# 保存\n",
    "with open('saved/lgbc_03.pickle', 'wb') as f:\n",
    "    pickle.dump(lgbc, f)"
   ]
  },
  {
   "cell_type": "code",
   "execution_count": 15,
   "metadata": {
    "ExecuteTime": {
     "end_time": "2021-06-21T05:42:20.082536Z",
     "start_time": "2021-06-21T05:42:17.754020Z"
    }
   },
   "outputs": [
    {
     "data": {
      "text/plain": [
       "0.8735853530290284"
      ]
     },
     "execution_count": 15,
     "metadata": {},
     "output_type": "execute_result"
    }
   ],
   "source": [
    "# 读取\n",
    "with open('saved/lgbc_03.pickle','rb') as f:\n",
    "    lgbc = pickle.load(f)\n",
    "y_pred = lgbc.predict(X_test_emb256)\n",
    "f1_score(y_test_emb256, y_pred, average='macro')"
   ]
  },
  {
   "cell_type": "markdown",
   "metadata": {},
   "source": [
    "## Voting"
   ]
  },
  {
   "cell_type": "code",
   "execution_count": null,
   "metadata": {
    "ExecuteTime": {
     "end_time": "2021-06-18T16:20:31.708923Z",
     "start_time": "2021-06-18T16:20:26.277703Z"
    }
   },
   "outputs": [],
   "source": [
    "all_pred = pd.DataFrame([\n",
    "    lr.predict(X_test_tfidf), \n",
    "    mnb.predict(X_test_tfidf), \n",
    "    lgbc.predict(X_test_tfidf)\n",
    "])"
   ]
  },
  {
   "cell_type": "code",
   "execution_count": null,
   "metadata": {
    "ExecuteTime": {
     "end_time": "2021-06-18T16:21:24.527614Z",
     "start_time": "2021-06-18T16:20:48.028054Z"
    }
   },
   "outputs": [],
   "source": [
    "value = all_pred.T.apply(lambda x: x.value_counts().index[0], axis=1)"
   ]
  },
  {
   "cell_type": "code",
   "execution_count": null,
   "metadata": {
    "ExecuteTime": {
     "end_time": "2021-06-18T16:22:36.773660Z",
     "start_time": "2021-06-18T16:22:36.735263Z"
    }
   },
   "outputs": [],
   "source": [
    "f1_score(y_test, value.values, average='macro')"
   ]
  },
  {
   "cell_type": "code",
   "execution_count": null,
   "metadata": {},
   "outputs": [],
   "source": []
  }
 ],
 "metadata": {
  "kernelspec": {
   "display_name": "Python 3",
   "language": "python",
   "name": "python3"
  },
  "language_info": {
   "codemirror_mode": {
    "name": "ipython",
    "version": 3
   },
   "file_extension": ".py",
   "mimetype": "text/x-python",
   "name": "python",
   "nbconvert_exporter": "python",
   "pygments_lexer": "ipython3",
   "version": "3.7.0"
  },
  "nbTranslate": {
   "displayLangs": [
    "*"
   ],
   "hotkey": "alt-t",
   "langInMainMenu": true,
   "sourceLang": "en",
   "targetLang": "fr",
   "useGoogleTranslate": true
  },
  "toc": {
   "base_numbering": 1,
   "nav_menu": {},
   "number_sections": true,
   "sideBar": true,
   "skip_h1_title": true,
   "title_cell": "Table of Contents",
   "title_sidebar": "Contents",
   "toc_cell": false,
   "toc_position": {
    "height": "calc(100% - 180px)",
    "left": "10px",
    "top": "150px",
    "width": "289.275px"
   },
   "toc_section_display": true,
   "toc_window_display": false
  },
  "varInspector": {
   "cols": {
    "lenName": 16,
    "lenType": 16,
    "lenVar": 40
   },
   "kernels_config": {
    "python": {
     "delete_cmd_postfix": "",
     "delete_cmd_prefix": "del ",
     "library": "var_list.py",
     "varRefreshCmd": "print(var_dic_list())"
    },
    "r": {
     "delete_cmd_postfix": ") ",
     "delete_cmd_prefix": "rm(",
     "library": "var_list.r",
     "varRefreshCmd": "cat(var_dic_list()) "
    }
   },
   "types_to_exclude": [
    "module",
    "function",
    "builtin_function_or_method",
    "instance",
    "_Feature"
   ],
   "window_display": false
  }
 },
 "nbformat": 4,
 "nbformat_minor": 2
}
