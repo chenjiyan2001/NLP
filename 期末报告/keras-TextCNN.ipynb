{
 "cells": [
  {
   "cell_type": "markdown",
   "metadata": {},
   "source": [
    "### 导入库和数据"
   ]
  },
  {
   "cell_type": "code",
   "execution_count": 2,
   "metadata": {
    "ExecuteTime": {
     "end_time": "2021-07-02T06:09:10.326520Z",
     "start_time": "2021-07-02T06:09:10.322525Z"
    }
   },
   "outputs": [],
   "source": [
    "import numpy as np\n",
    "import pandas as pd\n",
    "import matplotlib.pyplot as plt\n",
    "from sklearn.model_selection import train_test_split\n",
    "from tqdm.notebook import tqdm\n",
    "import tensorflow as tf\n",
    "import tensorflow_addons as tfa\n",
    "from tensorflow import keras\n",
    "from tensorflow.keras import layers\n",
    "from tensorflow.keras.preprocessing.sequence import pad_sequences\n",
    "import gensim"
   ]
  },
  {
   "cell_type": "code",
   "execution_count": 22,
   "metadata": {
    "ExecuteTime": {
     "end_time": "2021-07-02T06:15:13.053148Z",
     "start_time": "2021-07-02T06:15:05.486237Z"
    }
   },
   "outputs": [],
   "source": [
    "train_set = pd.read_csv('./train_set.csv', sep='\\t')\n",
    "X_train, X_test, y_train, y_test = train_test_split(\n",
    "    train_set['text'], \n",
    "    train_set['label'], \n",
    "    random_state=42\n",
    ")"
   ]
  },
  {
   "cell_type": "code",
   "execution_count": 23,
   "metadata": {
    "ExecuteTime": {
     "end_time": "2021-07-02T06:15:13.100454Z",
     "start_time": "2021-07-02T06:15:13.086128Z"
    }
   },
   "outputs": [],
   "source": [
    "sequence_length = 3000\n",
    "embedding_dimension = 256\n",
    "num_words = 8000\n",
    "model_save_path = \"./textcnn.h5\""
   ]
  },
  {
   "cell_type": "code",
   "execution_count": 24,
   "metadata": {
    "ExecuteTime": {
     "end_time": "2021-07-02T06:16:01.913377Z",
     "start_time": "2021-07-02T06:15:13.132436Z"
    }
   },
   "outputs": [
    {
     "data": {
      "application/vnd.jupyter.widget-view+json": {
       "model_id": "6b64226edc3e445e9f27881dae2d64a9",
       "version_major": 2,
       "version_minor": 0
      },
      "text/plain": [
       "  0%|          | 0/150000 [00:00<?, ?it/s]"
      ]
     },
     "metadata": {},
     "output_type": "display_data"
    },
    {
     "name": "stderr",
     "output_type": "stream",
     "text": [
      "D:\\Anaconda3\\lib\\site-packages\\ipykernel_launcher.py:1: VisibleDeprecationWarning: Creating an ndarray from ragged nested sequences (which is a list-or-tuple of lists-or-tuples-or ndarrays with different lengths or shapes) is deprecated. If you meant to do this, you must specify 'dtype=object' when creating the ndarray.\n",
      "  \"\"\"Entry point for launching an IPython kernel.\n"
     ]
    },
    {
     "data": {
      "application/vnd.jupyter.widget-view+json": {
       "model_id": "431e6410972a45468fee409afef6aa84",
       "version_major": 2,
       "version_minor": 0
      },
      "text/plain": [
       "  0%|          | 0/50000 [00:00<?, ?it/s]"
      ]
     },
     "metadata": {},
     "output_type": "display_data"
    },
    {
     "name": "stderr",
     "output_type": "stream",
     "text": [
      "D:\\Anaconda3\\lib\\site-packages\\ipykernel_launcher.py:2: VisibleDeprecationWarning: Creating an ndarray from ragged nested sequences (which is a list-or-tuple of lists-or-tuples-or ndarrays with different lengths or shapes) is deprecated. If you meant to do this, you must specify 'dtype=object' when creating the ndarray.\n",
      "  \n"
     ]
    }
   ],
   "source": [
    "X_train = np.array([np.array([int(y) for y in x.split()]) for x in tqdm(X_train.to_list())])\n",
    "X_test = np.array([np.array([int(y) for y in x.split()]) for x in tqdm(X_test.to_list())])"
   ]
  },
  {
   "cell_type": "code",
   "execution_count": 25,
   "metadata": {
    "ExecuteTime": {
     "end_time": "2021-07-02T06:16:02.987258Z",
     "start_time": "2021-07-02T06:16:01.946932Z"
    }
   },
   "outputs": [],
   "source": [
    "X_train, X_test = pad_sequences(X_train, maxlen=sequence_length), pad_sequences(X_test,maxlen=sequence_length)\n",
    "y_train = tf.keras.utils.to_categorical(y_train, num_classes=14)\n",
    "y_test = tf.keras.utils.to_categorical(y_test, num_classes=14)"
   ]
  },
  {
   "cell_type": "markdown",
   "metadata": {},
   "source": [
    "### 构建TextCNN网络"
   ]
  },
  {
   "cell_type": "code",
   "execution_count": 15,
   "metadata": {
    "ExecuteTime": {
     "end_time": "2021-07-02T03:43:08.448310Z",
     "start_time": "2021-07-02T03:43:04.659360Z"
    },
    "scrolled": false
   },
   "outputs": [
    {
     "name": "stdout",
     "output_type": "stream",
     "text": [
      "Model: \"sequential\"\n",
      "_________________________________________________________________\n",
      "Layer (type)                 Output Shape              Param #   \n",
      "=================================================================\n",
      "embedding (Embedding)        (None, 3000, 256)         2048000   \n",
      "_________________________________________________________________\n",
      "reshape (Reshape)            (None, 3000, 256, 1)      0         \n",
      "_________________________________________________________________\n",
      "model (Functional)           (None, 1, 1, 192)         196800    \n",
      "_________________________________________________________________\n",
      "flatten (Flatten)            (None, 192)               0         \n",
      "_________________________________________________________________\n",
      "dense (Dense)                (None, 64)                12352     \n",
      "_________________________________________________________________\n",
      "dropout (Dropout)            (None, 64)                0         \n",
      "_________________________________________________________________\n",
      "dense_1 (Dense)              (None, 14)                910       \n",
      "=================================================================\n",
      "Total params: 2,258,062\n",
      "Trainable params: 2,258,062\n",
      "Non-trainable params: 0\n",
      "_________________________________________________________________\n"
     ]
    }
   ],
   "source": [
    "# 构造分类器\n",
    "filter_sizes = [3, 4, 5]\n",
    "\n",
    "\n",
    "def convolution():\n",
    "    # 定义输入层，制定输入数据的形状\n",
    "    inn = layers.Input(shape=(sequence_length, embedding_dimension, 1))\n",
    "    cnns = []\n",
    "    for size in filter_sizes:\n",
    "        conv = layers.Conv2D(\n",
    "            filters=64,  # 卷积层神经元（卷积核）数目\n",
    "            kernel_size=(size, embedding_dimension),  # 卷积核大小\n",
    "            strides=1,  # 设置步长\n",
    "            padding='valid',  # padding策略（vaild 或 same） \n",
    "            activation='relu')(inn)  # 激活函数\n",
    "\n",
    "        pool = layers.MaxPool2D(pool_size=(sequence_length - size + 1, 1),\n",
    "                                padding='valid')(conv)\n",
    "        cnns.append(pool)\n",
    "    outt = layers.concatenate(cnns)\n",
    "\n",
    "    model = keras.Model(inputs=inn, outputs=outt)\n",
    "    return model\n",
    "\n",
    "\n",
    "def cnn_mulfilter():\n",
    "    model = keras.Sequential([\n",
    "        layers.Embedding(input_dim=num_words,\n",
    "                         output_dim=embedding_dimension,\n",
    "                         input_length=sequence_length),\n",
    "        layers.Reshape((sequence_length, embedding_dimension, 1)),\n",
    "        convolution(),\n",
    "        layers.Flatten(),\n",
    "        layers.Dense(64, activation='relu'),\n",
    "        layers.Dropout(0.2),\n",
    "        layers.Dense(14, activation='softmax')\n",
    "    ])\n",
    "    model.compile(optimizer=keras.optimizers.Adam(),\n",
    "                  loss=keras.losses.CategoricalCrossentropy(),\n",
    "                  metrics=[tfa.metrics.F1Score(num_classes=14, average='macro')])\n",
    "    return model\n",
    "\n",
    "\n",
    "model = cnn_mulfilter()\n",
    "model.summary()"
   ]
  },
  {
   "cell_type": "markdown",
   "metadata": {},
   "source": [
    "### 模型训练"
   ]
  },
  {
   "cell_type": "code",
   "execution_count": 7,
   "metadata": {
    "ExecuteTime": {
     "end_time": "2021-06-24T08:43:31.026905Z",
     "start_time": "2021-06-24T07:13:23.855146Z"
    }
   },
   "outputs": [
    {
     "name": "stdout",
     "output_type": "stream",
     "text": [
      "Epoch 1/5\n",
      "2110/2110 [==============================] - ETA: 0s - loss: 0.3793 - f1_score: 0.8475"
     ]
    },
    {
     "name": "stderr",
     "output_type": "stream",
     "text": [
      "C:\\Users\\陈继延\\AppData\\Roaming\\Python\\Python37\\site-packages\\tensorflow\\python\\keras\\metrics.py:257: UserWarning: Metric F1Score implements a `reset_states()` method; rename it to `reset_state()` (without the final \"s\"). The name `reset_states()` has been deprecated to improve API consistency.\n",
      "  'consistency.' % (self.__class__.__name__,))\n"
     ]
    },
    {
     "name": "stdout",
     "output_type": "stream",
     "text": [
      "2110/2110 [==============================] - 1742s 542ms/step - loss: 0.3793 - f1_score: 0.8475 - val_loss: 0.2116 - val_f1_score: 0.9302\n",
      "Epoch 2/5\n",
      "2110/2110 [==============================] - 917s 435ms/step - loss: 0.1781 - f1_score: 0.9351 - val_loss: 0.1977 - val_f1_score: 0.9343\n",
      "Epoch 3/5\n",
      "2110/2110 [==============================] - 917s 434ms/step - loss: 0.1291 - f1_score: 0.9523 - val_loss: 0.2155 - val_f1_score: 0.9312\n",
      "Epoch 4/5\n",
      "2110/2110 [==============================] - 915s 434ms/step - loss: 0.0961 - f1_score: 0.9641 - val_loss: 0.2024 - val_f1_score: 0.9363\n",
      "Epoch 5/5\n",
      "2110/2110 [==============================] - 916s 434ms/step - loss: 0.0724 - f1_score: 0.9716 - val_loss: 0.2221 - val_f1_score: 0.9367\n"
     ]
    }
   ],
   "source": [
    "history = model.fit(X_train, y_train, batch_size=64, epochs=5, validation_split=0.1)"
   ]
  },
  {
   "cell_type": "code",
   "execution_count": 8,
   "metadata": {
    "ExecuteTime": {
     "end_time": "2021-06-24T08:44:32.629724Z",
     "start_time": "2021-06-24T08:44:32.480045Z"
    }
   },
   "outputs": [
    {
     "data": {
      "image/png": "[encoded data removed]",
      "text/plain": [
       "<Figure size 432x288 with 1 Axes>"
      ]
     },
     "metadata": {
      "needs_background": "light"
     },
     "output_type": "display_data"
    }
   ],
   "source": [
    "plt.plot(history.history['f1_score'])\n",
    "plt.plot(history.history['val_f1_score'])\n",
    "plt.legend(['training', 'valiation'], loc='upper left')\n",
    "plt.show()"
   ]
  },
  {
   "cell_type": "code",
   "execution_count": 9,
   "metadata": {
    "ExecuteTime": {
     "end_time": "2021-06-24T08:44:34.762802Z",
     "start_time": "2021-06-24T08:44:34.640036Z"
    }
   },
   "outputs": [
    {
     "data": {
      "image/png": "[encoded data removed]",
      "text/plain": [
       "<Figure size 432x288 with 1 Axes>"
      ]
     },
     "metadata": {
      "needs_background": "light"
     },
     "output_type": "display_data"
    }
   ],
   "source": [
    "plt.plot(history.history['loss'])\n",
    "plt.plot(history.history['val_loss'])\n",
    "plt.legend(['training', 'valiation'], loc='upper left')\n",
    "plt.show()"
   ]
  },
  {
   "cell_type": "code",
   "execution_count": 10,
   "metadata": {
    "ExecuteTime": {
     "end_time": "2021-06-24T08:46:50.839588Z",
     "start_time": "2021-06-24T08:44:37.744860Z"
    }
   },
   "outputs": [
    {
     "name": "stderr",
     "output_type": "stream",
     "text": [
      "C:\\Users\\陈继延\\AppData\\Roaming\\Python\\Python37\\site-packages\\tensorflow\\python\\keras\\metrics.py:257: UserWarning: Metric F1Score implements a `reset_states()` method; rename it to `reset_state()` (without the final \"s\"). The name `reset_states()` has been deprecated to improve API consistency.\n",
      "  'consistency.' % (self.__class__.__name__,))\n"
     ]
    },
    {
     "name": "stdout",
     "output_type": "stream",
     "text": [
      "1563/1563 [==============================] - 133s 84ms/step - loss: 0.2154 - f1_score: 0.9353\n",
      "loss=0.215,accuracy=0.935\n"
     ]
    }
   ],
   "source": [
    "result = model.evaluate(X_test, y_test)\n",
    "print(\"loss=%.3f,accuracy=%.3f\" %(result[0],result[1]))"
   ]
  },
  {
   "cell_type": "code",
   "execution_count": 11,
   "metadata": {
    "ExecuteTime": {
     "end_time": "2021-06-24T08:46:54.734209Z",
     "start_time": "2021-06-24T08:46:54.591368Z"
    }
   },
   "outputs": [],
   "source": [
    "# 保存模型\n",
    "model.save(model_save_path)"
   ]
  },
  {
   "cell_type": "markdown",
   "metadata": {},
   "source": [
    "### 结果测试"
   ]
  },
  {
   "cell_type": "code",
   "execution_count": null,
   "metadata": {
    "ExecuteTime": {
     "end_time": "2021-06-24T06:48:09.033412Z",
     "start_time": "2021-06-24T06:48:00.230Z"
    }
   },
   "outputs": [],
   "source": [
    "# 加载模型\n",
    "from tensorflow.keras.models import load_model\n",
    "model = load_model(model_save_path)"
   ]
  },
  {
   "cell_type": "code",
   "execution_count": 12,
   "metadata": {
    "ExecuteTime": {
     "end_time": "2021-06-24T08:49:03.723914Z",
     "start_time": "2021-06-24T08:46:57.323733Z"
    }
   },
   "outputs": [],
   "source": [
    "y_pred = model.predict(X_test)"
   ]
  },
  {
   "cell_type": "code",
   "execution_count": 18,
   "metadata": {
    "ExecuteTime": {
     "end_time": "2021-06-24T09:10:36.861196Z",
     "start_time": "2021-06-24T09:10:36.853218Z"
    }
   },
   "outputs": [],
   "source": [
    "from sklearn.metrics import f1_score, confusion_matrix\n",
    "from seaborn import heatmap"
   ]
  },
  {
   "cell_type": "code",
   "execution_count": 25,
   "metadata": {
    "ExecuteTime": {
     "end_time": "2021-06-24T09:12:16.001781Z",
     "start_time": "2021-06-24T09:12:15.789382Z"
    }
   },
   "outputs": [],
   "source": [
    "result_matrix = pd.DataFrame(confusion_matrix([np.argmax(x) for x in y_test], [np.argmax(x) for x in y_pred]))"
   ]
  },
  {
   "cell_type": "code",
   "execution_count": 16,
   "metadata": {
    "ExecuteTime": {
     "end_time": "2021-06-24T09:10:01.607338Z",
     "start_time": "2021-06-24T09:10:01.379445Z"
    }
   },
   "outputs": [
    {
     "data": {
      "text/plain": [
       "0.9352764380268035"
      ]
     },
     "execution_count": 16,
     "metadata": {},
     "output_type": "execute_result"
    }
   ],
   "source": [
    "f1_score([np.argmax(x) for x in y_test], [np.argmax(x) for x in y_pred], average='macro')"
   ]
  },
  {
   "cell_type": "code",
   "execution_count": 35,
   "metadata": {
    "ExecuteTime": {
     "end_time": "2021-06-24T09:14:47.533638Z",
     "start_time": "2021-06-24T09:14:47.303231Z"
    }
   },
   "outputs": [
    {
     "data": {
      "text/plain": [
       "<AxesSubplot:>"
      ]
     },
     "execution_count": 35,
     "metadata": {},
     "output_type": "execute_result"
    },
    {
     "data": {
      "image/png": "[encoded data removed]",
      "text/plain": [
       "<Figure size 432x288 with 2 Axes>"
      ]
     },
     "metadata": {
      "needs_background": "light"
     },
     "output_type": "display_data"
    }
   ],
   "source": [
    "heatmap(result_matrix.apply(lambda x:x.nlargest(2)))"
   ]
  },
  {
   "cell_type": "code",
   "execution_count": 36,
   "metadata": {
    "ExecuteTime": {
     "end_time": "2021-06-24T09:15:46.469631Z",
     "start_time": "2021-06-24T09:15:46.458612Z"
    }
   },
   "outputs": [
    {
     "data": {
      "text/html": [
       "<div>\n",
       "<style scoped>\n",
       "    .dataframe tbody tr th:only-of-type {\n",
       "        vertical-align: middle;\n",
       "    }\n",
       "\n",
       "    .dataframe tbody tr th {\n",
       "        vertical-align: top;\n",
       "    }\n",
       "\n",
       "    .dataframe thead th {\n",
       "        text-align: right;\n",
       "    }\n",
       "</style>\n",
       "<table border=\"1\" class=\"dataframe\">\n",
       "  <thead>\n",
       "    <tr style=\"text-align: right;\">\n",
       "      <th></th>\n",
       "      <th>0</th>\n",
       "      <th>1</th>\n",
       "      <th>2</th>\n",
       "      <th>3</th>\n",
       "      <th>4</th>\n",
       "      <th>5</th>\n",
       "      <th>6</th>\n",
       "      <th>7</th>\n",
       "      <th>8</th>\n",
       "      <th>9</th>\n",
       "      <th>10</th>\n",
       "      <th>11</th>\n",
       "      <th>12</th>\n",
       "      <th>13</th>\n",
       "    </tr>\n",
       "  </thead>\n",
       "  <tbody>\n",
       "    <tr>\n",
       "      <th>0</th>\n",
       "      <td>9340</td>\n",
       "      <td>139</td>\n",
       "      <td>11</td>\n",
       "      <td>43</td>\n",
       "      <td>102</td>\n",
       "      <td>78</td>\n",
       "      <td>13</td>\n",
       "      <td>18</td>\n",
       "      <td>20</td>\n",
       "      <td>26</td>\n",
       "      <td>0</td>\n",
       "      <td>3</td>\n",
       "      <td>3</td>\n",
       "      <td>1</td>\n",
       "    </tr>\n",
       "    <tr>\n",
       "      <th>1</th>\n",
       "      <td>106</td>\n",
       "      <td>8893</td>\n",
       "      <td>3</td>\n",
       "      <td>7</td>\n",
       "      <td>70</td>\n",
       "      <td>1</td>\n",
       "      <td>3</td>\n",
       "      <td>131</td>\n",
       "      <td>3</td>\n",
       "      <td>0</td>\n",
       "      <td>1</td>\n",
       "      <td>0</td>\n",
       "      <td>1</td>\n",
       "      <td>0</td>\n",
       "    </tr>\n",
       "    <tr>\n",
       "      <th>2</th>\n",
       "      <td>14</td>\n",
       "      <td>5</td>\n",
       "      <td>7830</td>\n",
       "      <td>42</td>\n",
       "      <td>40</td>\n",
       "      <td>9</td>\n",
       "      <td>4</td>\n",
       "      <td>0</td>\n",
       "      <td>1</td>\n",
       "      <td>0</td>\n",
       "      <td>0</td>\n",
       "      <td>1</td>\n",
       "      <td>3</td>\n",
       "      <td>0</td>\n",
       "    </tr>\n",
       "    <tr>\n",
       "      <th>3</th>\n",
       "      <td>75</td>\n",
       "      <td>15</td>\n",
       "      <td>24</td>\n",
       "      <td>5402</td>\n",
       "      <td>29</td>\n",
       "      <td>25</td>\n",
       "      <td>3</td>\n",
       "      <td>5</td>\n",
       "      <td>10</td>\n",
       "      <td>4</td>\n",
       "      <td>0</td>\n",
       "      <td>7</td>\n",
       "      <td>0</td>\n",
       "      <td>1</td>\n",
       "    </tr>\n",
       "    <tr>\n",
       "      <th>4</th>\n",
       "      <td>58</td>\n",
       "      <td>83</td>\n",
       "      <td>9</td>\n",
       "      <td>19</td>\n",
       "      <td>3449</td>\n",
       "      <td>54</td>\n",
       "      <td>6</td>\n",
       "      <td>7</td>\n",
       "      <td>1</td>\n",
       "      <td>0</td>\n",
       "      <td>0</td>\n",
       "      <td>6</td>\n",
       "      <td>3</td>\n",
       "      <td>0</td>\n",
       "    </tr>\n",
       "    <tr>\n",
       "      <th>5</th>\n",
       "      <td>112</td>\n",
       "      <td>19</td>\n",
       "      <td>5</td>\n",
       "      <td>51</td>\n",
       "      <td>143</td>\n",
       "      <td>2635</td>\n",
       "      <td>26</td>\n",
       "      <td>22</td>\n",
       "      <td>0</td>\n",
       "      <td>1</td>\n",
       "      <td>0</td>\n",
       "      <td>3</td>\n",
       "      <td>8</td>\n",
       "      <td>0</td>\n",
       "    </tr>\n",
       "    <tr>\n",
       "      <th>6</th>\n",
       "      <td>39</td>\n",
       "      <td>12</td>\n",
       "      <td>5</td>\n",
       "      <td>12</td>\n",
       "      <td>50</td>\n",
       "      <td>59</td>\n",
       "      <td>2241</td>\n",
       "      <td>4</td>\n",
       "      <td>6</td>\n",
       "      <td>0</td>\n",
       "      <td>0</td>\n",
       "      <td>4</td>\n",
       "      <td>2</td>\n",
       "      <td>1</td>\n",
       "    </tr>\n",
       "    <tr>\n",
       "      <th>7</th>\n",
       "      <td>27</td>\n",
       "      <td>269</td>\n",
       "      <td>0</td>\n",
       "      <td>4</td>\n",
       "      <td>19</td>\n",
       "      <td>13</td>\n",
       "      <td>3</td>\n",
       "      <td>1857</td>\n",
       "      <td>4</td>\n",
       "      <td>0</td>\n",
       "      <td>0</td>\n",
       "      <td>0</td>\n",
       "      <td>4</td>\n",
       "      <td>0</td>\n",
       "    </tr>\n",
       "    <tr>\n",
       "      <th>8</th>\n",
       "      <td>67</td>\n",
       "      <td>35</td>\n",
       "      <td>7</td>\n",
       "      <td>35</td>\n",
       "      <td>14</td>\n",
       "      <td>11</td>\n",
       "      <td>12</td>\n",
       "      <td>7</td>\n",
       "      <td>1778</td>\n",
       "      <td>0</td>\n",
       "      <td>4</td>\n",
       "      <td>8</td>\n",
       "      <td>1</td>\n",
       "      <td>4</td>\n",
       "    </tr>\n",
       "    <tr>\n",
       "      <th>9</th>\n",
       "      <td>157</td>\n",
       "      <td>5</td>\n",
       "      <td>3</td>\n",
       "      <td>15</td>\n",
       "      <td>4</td>\n",
       "      <td>2</td>\n",
       "      <td>5</td>\n",
       "      <td>3</td>\n",
       "      <td>0</td>\n",
       "      <td>1237</td>\n",
       "      <td>0</td>\n",
       "      <td>1</td>\n",
       "      <td>1</td>\n",
       "      <td>0</td>\n",
       "    </tr>\n",
       "    <tr>\n",
       "      <th>10</th>\n",
       "      <td>1</td>\n",
       "      <td>1</td>\n",
       "      <td>1</td>\n",
       "      <td>0</td>\n",
       "      <td>1</td>\n",
       "      <td>0</td>\n",
       "      <td>0</td>\n",
       "      <td>1</td>\n",
       "      <td>8</td>\n",
       "      <td>0</td>\n",
       "      <td>1199</td>\n",
       "      <td>1</td>\n",
       "      <td>0</td>\n",
       "      <td>0</td>\n",
       "    </tr>\n",
       "    <tr>\n",
       "      <th>11</th>\n",
       "      <td>12</td>\n",
       "      <td>4</td>\n",
       "      <td>1</td>\n",
       "      <td>35</td>\n",
       "      <td>7</td>\n",
       "      <td>7</td>\n",
       "      <td>2</td>\n",
       "      <td>1</td>\n",
       "      <td>9</td>\n",
       "      <td>1</td>\n",
       "      <td>0</td>\n",
       "      <td>702</td>\n",
       "      <td>0</td>\n",
       "      <td>2</td>\n",
       "    </tr>\n",
       "    <tr>\n",
       "      <th>12</th>\n",
       "      <td>1</td>\n",
       "      <td>0</td>\n",
       "      <td>18</td>\n",
       "      <td>0</td>\n",
       "      <td>0</td>\n",
       "      <td>4</td>\n",
       "      <td>0</td>\n",
       "      <td>0</td>\n",
       "      <td>0</td>\n",
       "      <td>1</td>\n",
       "      <td>0</td>\n",
       "      <td>0</td>\n",
       "      <td>431</td>\n",
       "      <td>0</td>\n",
       "    </tr>\n",
       "    <tr>\n",
       "      <th>13</th>\n",
       "      <td>1</td>\n",
       "      <td>0</td>\n",
       "      <td>0</td>\n",
       "      <td>0</td>\n",
       "      <td>1</td>\n",
       "      <td>3</td>\n",
       "      <td>4</td>\n",
       "      <td>0</td>\n",
       "      <td>4</td>\n",
       "      <td>0</td>\n",
       "      <td>0</td>\n",
       "      <td>3</td>\n",
       "      <td>0</td>\n",
       "      <td>197</td>\n",
       "    </tr>\n",
       "  </tbody>\n",
       "</table>\n",
       "</div>"
      ],
      "text/plain": [
       "      0     1     2     3     4     5     6     7     8     9     10   11  \\\n",
       "0   9340   139    11    43   102    78    13    18    20    26     0    3   \n",
       "1    106  8893     3     7    70     1     3   131     3     0     1    0   \n",
       "2     14     5  7830    42    40     9     4     0     1     0     0    1   \n",
       "3     75    15    24  5402    29    25     3     5    10     4     0    7   \n",
       "4     58    83     9    19  3449    54     6     7     1     0     0    6   \n",
       "5    112    19     5    51   143  2635    26    22     0     1     0    3   \n",
       "6     39    12     5    12    50    59  2241     4     6     0     0    4   \n",
       "7     27   269     0     4    19    13     3  1857     4     0     0    0   \n",
       "8     67    35     7    35    14    11    12     7  1778     0     4    8   \n",
       "9    157     5     3    15     4     2     5     3     0  1237     0    1   \n",
       "10     1     1     1     0     1     0     0     1     8     0  1199    1   \n",
       "11    12     4     1    35     7     7     2     1     9     1     0  702   \n",
       "12     1     0    18     0     0     4     0     0     0     1     0    0   \n",
       "13     1     0     0     0     1     3     4     0     4     0     0    3   \n",
       "\n",
       "     12   13  \n",
       "0     3    1  \n",
       "1     1    0  \n",
       "2     3    0  \n",
       "3     0    1  \n",
       "4     3    0  \n",
       "5     8    0  \n",
       "6     2    1  \n",
       "7     4    0  \n",
       "8     1    4  \n",
       "9     1    0  \n",
       "10    0    0  \n",
       "11    0    2  \n",
       "12  431    0  \n",
       "13    0  197  "
      ]
     },
     "execution_count": 36,
     "metadata": {},
     "output_type": "execute_result"
    }
   ],
   "source": [
    "result_matrix"
   ]
  },
  {
   "cell_type": "markdown",
   "metadata": {},
   "source": [
    "### 使用官方提供的预训练词向量"
   ]
  },
  {
   "cell_type": "code",
   "execution_count": 21,
   "metadata": {
    "ExecuteTime": {
     "end_time": "2021-07-02T03:48:31.466178Z",
     "start_time": "2021-07-02T03:48:31.232802Z"
    }
   },
   "outputs": [
    {
     "data": {
      "application/vnd.jupyter.widget-view+json": {
       "model_id": "13be16da2566401cb38e31e800b1188e",
       "version_major": 2,
       "version_minor": 0
      },
      "text/plain": [
       "0it [00:00, ?it/s]"
      ]
     },
     "metadata": {},
     "output_type": "display_data"
    }
   ],
   "source": [
    "# 构建word-vector字典\n",
    "with open(path, encoding='utf-8') as f:\n",
    "    lines = f.readlines()\n",
    "    items = lines[0].split()\n",
    "    count, dim = int(items[0]), int(items[1])\n",
    "\n",
    "embeddings = np.zeros((8000, dim))\n",
    "for index, line in tqdm(enumerate(lines[1:])):\n",
    "    values = line.split()\n",
    "    word = int(values[0])\n",
    "    vector = np.array(values[1:], dtype='float64')\n",
    "    embeddings[word] = vector"
   ]
  },
  {
   "cell_type": "code",
   "execution_count": 22,
   "metadata": {
    "ExecuteTime": {
     "end_time": "2021-07-02T03:48:33.979490Z",
     "start_time": "2021-07-02T03:48:33.875349Z"
    }
   },
   "outputs": [
    {
     "name": "stdout",
     "output_type": "stream",
     "text": [
      "Model: \"sequential_4\"\n",
      "_________________________________________________________________\n",
      "Layer (type)                 Output Shape              Param #   \n",
      "=================================================================\n",
      "embedding_4 (Embedding)      (None, 3000, 100)         800000    \n",
      "_________________________________________________________________\n",
      "reshape_4 (Reshape)          (None, 3000, 100, 1)      0         \n",
      "_________________________________________________________________\n",
      "model_4 (Functional)         (None, 1, 1, 192)         76992     \n",
      "_________________________________________________________________\n",
      "flatten_4 (Flatten)          (None, 192)               0         \n",
      "_________________________________________________________________\n",
      "dense_8 (Dense)              (None, 64)                12352     \n",
      "_________________________________________________________________\n",
      "dropout_4 (Dropout)          (None, 64)                0         \n",
      "_________________________________________________________________\n",
      "dense_9 (Dense)              (None, 14)                910       \n",
      "=================================================================\n",
      "Total params: 890,254\n",
      "Trainable params: 90,254\n",
      "Non-trainable params: 800,000\n",
      "_________________________________________________________________\n"
     ]
    }
   ],
   "source": [
    "# 构造分类器\n",
    "filter_sizes = [3, 4, 5]\n",
    "\n",
    "\n",
    "def convolution():\n",
    "    # 定义输入层，制定输入数据的形状\n",
    "    inn = layers.Input(shape=(sequence_length, dim, 1))\n",
    "    cnns = []\n",
    "    for size in filter_sizes:\n",
    "        conv = layers.Conv2D(\n",
    "            filters=64,  # 卷积层神经元（卷积核）数目\n",
    "            kernel_size=(size, dim),  # 卷积核大小\n",
    "            strides=1,  # 设置步长\n",
    "            padding='valid',  # padding策略（vaild 或 same） \n",
    "            activation='relu')(inn)  # 激活函数\n",
    "\n",
    "        pool = layers.MaxPool2D(pool_size=(sequence_length - size + 1, 1),\n",
    "                                padding='valid')(conv)\n",
    "        cnns.append(pool)\n",
    "    outt = layers.concatenate(cnns)\n",
    "\n",
    "    model = keras.Model(inputs=inn, outputs=outt)\n",
    "    return model\n",
    "\n",
    "def cnn_mulfilter():\n",
    "    model = keras.Sequential([\n",
    "        layers.Embedding(input_dim=len(embeddings),\n",
    "                         output_dim=dim,\n",
    "                         weights=[embeddings],\n",
    "                         input_length=sequence_length,\n",
    "                         trainable=False),\n",
    "        layers.Reshape((sequence_length, dim, 1)),\n",
    "        convolution(),\n",
    "        layers.Flatten(),\n",
    "        layers.Dense(64, activation='relu'),\n",
    "        layers.Dropout(0.2),\n",
    "        layers.Dense(14, activation='softmax')\n",
    "    ])\n",
    "    model.compile(\n",
    "        optimizer=keras.optimizers.Adam(),\n",
    "        loss=keras.losses.CategoricalCrossentropy(),\n",
    "        metrics=[tfa.metrics.F1Score(num_classes=14, average='macro')])\n",
    "    return model\n",
    "\n",
    "\n",
    "model = cnn_mulfilter()\n",
    "model.summary()"
   ]
  },
  {
   "cell_type": "code",
   "execution_count": 23,
   "metadata": {
    "ExecuteTime": {
     "end_time": "2021-07-02T04:21:57.215806Z",
     "start_time": "2021-07-02T03:48:34.509086Z"
    }
   },
   "outputs": [
    {
     "name": "stdout",
     "output_type": "stream",
     "text": [
      "Epoch 1/5\n",
      "2110/2110 [==============================] - ETA: 0s - loss: 0.4899 - f1_score: 0.7710"
     ]
    },
    {
     "name": "stderr",
     "output_type": "stream",
     "text": [
      "C:\\Users\\陈继延\\AppData\\Roaming\\Python\\Python37\\site-packages\\tensorflow\\python\\keras\\metrics.py:257: UserWarning: Metric F1Score implements a `reset_states()` method; rename it to `reset_state()` (without the final \"s\"). The name `reset_states()` has been deprecated to improve API consistency.\n",
      "  'consistency.' % (self.__class__.__name__,))\n"
     ]
    },
    {
     "name": "stdout",
     "output_type": "stream",
     "text": [
      "2110/2110 [==============================] - 405s 187ms/step - loss: 0.4899 - f1_score: 0.7710 - val_loss: 0.2463 - val_f1_score: 0.9019\n",
      "Epoch 2/5\n",
      "2110/2110 [==============================] - 402s 190ms/step - loss: 0.2312 - f1_score: 0.9064 - val_loss: 0.2082 - val_f1_score: 0.9245\n",
      "Epoch 3/5\n",
      "2110/2110 [==============================] - 399s 189ms/step - loss: 0.1867 - f1_score: 0.9261 - val_loss: 0.2002 - val_f1_score: 0.9273\n",
      "Epoch 4/5\n",
      "2110/2110 [==============================] - 399s 189ms/step - loss: 0.1593 - f1_score: 0.9376 - val_loss: 0.2060 - val_f1_score: 0.9316\n",
      "Epoch 5/5\n",
      "2110/2110 [==============================] - 398s 189ms/step - loss: 0.1392 - f1_score: 0.9459 - val_loss: 0.2104 - val_f1_score: 0.9302\n"
     ]
    }
   ],
   "source": [
    "history = model.fit(X_train, y_train, batch_size=64, epochs=5, validation_split=0.1)"
   ]
  },
  {
   "cell_type": "code",
   "execution_count": 25,
   "metadata": {
    "ExecuteTime": {
     "end_time": "2021-07-02T04:25:56.015673Z",
     "start_time": "2021-07-02T04:25:08.020500Z"
    }
   },
   "outputs": [],
   "source": [
    "y_pred = model.predict(X_test)"
   ]
  },
  {
   "cell_type": "code",
   "execution_count": 26,
   "metadata": {
    "ExecuteTime": {
     "end_time": "2021-07-02T04:25:56.440773Z",
     "start_time": "2021-07-02T04:25:56.081524Z"
    }
   },
   "outputs": [
    {
     "data": {
      "text/plain": [
       "0.9263408039603096"
      ]
     },
     "execution_count": 26,
     "metadata": {},
     "output_type": "execute_result"
    }
   ],
   "source": [
    "from sklearn.metrics import f1_score, confusion_matrix\n",
    "from seaborn import heatmap\n",
    "result_matrix = pd.DataFrame(confusion_matrix([np.argmax(x) for x in y_test], [np.argmax(x) for x in y_pred]))\n",
    "f1_score([np.argmax(x) for x in y_test], [np.argmax(x) for x in y_pred], average='macro')"
   ]
  },
  {
   "cell_type": "code",
   "execution_count": 36,
   "metadata": {
    "ExecuteTime": {
     "end_time": "2021-07-02T07:17:22.129010Z",
     "start_time": "2021-07-02T07:17:22.095350Z"
    },
    "collapsed": true
   },
   "outputs": [
    {
     "ename": "NameError",
     "evalue": "name 'result_matrix' is not defined",
     "output_type": "error",
     "traceback": [
      "\u001b[1;31m---------------------------------------------------------------------------\u001b[0m",
      "\u001b[1;31mNameError\u001b[0m                                 Traceback (most recent call last)",
      "\u001b[1;32m<ipython-input-36-17205860ffa9>\u001b[0m in \u001b[0;36m<module>\u001b[1;34m()\u001b[0m\n\u001b[0;32m      1\u001b[0m \u001b[1;32mfrom\u001b[0m \u001b[0mseaborn\u001b[0m \u001b[1;32mimport\u001b[0m \u001b[0mheatmap\u001b[0m\u001b[1;33m\u001b[0m\u001b[0m\n\u001b[1;32m----> 2\u001b[1;33m \u001b[0mheatmap\u001b[0m\u001b[1;33m(\u001b[0m\u001b[0mresult_matrix\u001b[0m\u001b[1;33m.\u001b[0m\u001b[0mapply\u001b[0m\u001b[1;33m(\u001b[0m\u001b[1;32mlambda\u001b[0m \u001b[0mx\u001b[0m\u001b[1;33m:\u001b[0m\u001b[0mx\u001b[0m\u001b[1;33m.\u001b[0m\u001b[0mnlargest\u001b[0m\u001b[1;33m(\u001b[0m\u001b[1;36m2\u001b[0m\u001b[1;33m)\u001b[0m\u001b[1;33m)\u001b[0m\u001b[1;33m)\u001b[0m\u001b[1;33m\u001b[0m\u001b[0m\n\u001b[0m",
      "\u001b[1;31mNameError\u001b[0m: name 'result_matrix' is not defined"
     ]
    }
   ],
   "source": [
    "from seaborn import heatmap\n",
    "heatmap(result_matrix.apply(lambda x:x.nlargest(2)))"
   ]
  },
  {
   "cell_type": "markdown",
   "metadata": {},
   "source": [
    "### 使用自己训练的词向量"
   ]
  },
  {
   "cell_type": "code",
   "execution_count": 31,
   "metadata": {
    "ExecuteTime": {
     "end_time": "2021-07-02T06:19:35.091889Z",
     "start_time": "2021-07-02T06:19:35.070945Z"
    }
   },
   "outputs": [],
   "source": [
    "w2v = gensim.models.Word2Vec.load('./w2c_256')\n",
    "embeddings = np.zeros((8000, 256))\n",
    "indexs = w2v.wv.index_to_key\n",
    "vecotrs = w2v.wv.vectors\n",
    "for index, vector in zip(indexs, vecotrs):\n",
    "    embeddings[int(index)] = vector"
   ]
  },
  {
   "cell_type": "code",
   "execution_count": 33,
   "metadata": {
    "ExecuteTime": {
     "end_time": "2021-07-02T06:19:52.894294Z",
     "start_time": "2021-07-02T06:19:52.791057Z"
    }
   },
   "outputs": [
    {
     "name": "stdout",
     "output_type": "stream",
     "text": [
      "Model: \"sequential_1\"\n",
      "_________________________________________________________________\n",
      "Layer (type)                 Output Shape              Param #   \n",
      "=================================================================\n",
      "embedding_2 (Embedding)      (None, 3000, 256)         2048000   \n",
      "_________________________________________________________________\n",
      "reshape_1 (Reshape)          (None, 3000, 256, 1)      0         \n",
      "_________________________________________________________________\n",
      "model_1 (Functional)         (None, 1, 1, 192)         196800    \n",
      "_________________________________________________________________\n",
      "flatten_1 (Flatten)          (None, 192)               0         \n",
      "_________________________________________________________________\n",
      "dense_2 (Dense)              (None, 64)                12352     \n",
      "_________________________________________________________________\n",
      "dropout_1 (Dropout)          (None, 64)                0         \n",
      "_________________________________________________________________\n",
      "dense_3 (Dense)              (None, 14)                910       \n",
      "=================================================================\n",
      "Total params: 2,258,062\n",
      "Trainable params: 210,062\n",
      "Non-trainable params: 2,048,000\n",
      "_________________________________________________________________\n"
     ]
    }
   ],
   "source": [
    "# 构造分类器\n",
    "filter_sizes = [3, 4, 5]\n",
    "\n",
    "\n",
    "def convolution():\n",
    "    # 定义输入层，制定输入数据的形状\n",
    "    inn = layers.Input(shape=(sequence_length, embedding_dimension, 1))\n",
    "    cnns = []\n",
    "    for size in filter_sizes:\n",
    "        conv = layers.Conv2D(\n",
    "            filters=64,  # 卷积层神经元（卷积核）数目\n",
    "            kernel_size=(size, embedding_dimension),  # 卷积核大小\n",
    "            strides=1,  # 设置步长\n",
    "            padding='valid',  # padding策略（vaild 或 same） \n",
    "            activation='relu')(inn)  # 激活函数\n",
    "\n",
    "        pool = layers.MaxPool2D(pool_size=(sequence_length - size + 1, 1),\n",
    "                                padding='valid')(conv)\n",
    "        cnns.append(pool)\n",
    "    outt = layers.concatenate(cnns)\n",
    "\n",
    "    model = keras.Model(inputs=inn, outputs=outt)\n",
    "    return model\n",
    "\n",
    "def cnn_mulfilter():\n",
    "    model = keras.Sequential([\n",
    "        layers.Embedding(input_dim=len(embeddings),\n",
    "                         output_dim=embedding_dimension,\n",
    "                         weights=[embeddings],\n",
    "                         input_length=sequence_length,\n",
    "                         trainable=False),\n",
    "        layers.Reshape((sequence_length, embedding_dimension, 1)),\n",
    "        convolution(),\n",
    "        layers.Flatten(),\n",
    "        layers.Dense(64, activation='relu'),\n",
    "        layers.Dropout(0.2),\n",
    "        layers.Dense(14, activation='softmax')\n",
    "    ])\n",
    "    model.compile(\n",
    "        optimizer=keras.optimizers.Adam(),\n",
    "        loss=keras.losses.CategoricalCrossentropy(),\n",
    "        metrics=[tfa.metrics.F1Score(num_classes=14, average='macro')])\n",
    "    return model\n",
    "\n",
    "\n",
    "model = cnn_mulfilter()\n",
    "model.summary()"
   ]
  },
  {
   "cell_type": "code",
   "execution_count": 34,
   "metadata": {
    "ExecuteTime": {
     "end_time": "2021-07-02T07:16:18.573788Z",
     "start_time": "2021-07-02T06:19:53.229061Z"
    }
   },
   "outputs": [
    {
     "name": "stdout",
     "output_type": "stream",
     "text": [
      "Epoch 1/5\n",
      "2110/2110 [==============================] - ETA: 0s - loss: 0.4296 - f1_score: 0.8167"
     ]
    },
    {
     "name": "stderr",
     "output_type": "stream",
     "text": [
      "C:\\Users\\陈继延\\AppData\\Roaming\\Python\\Python37\\site-packages\\tensorflow\\python\\keras\\metrics.py:257: UserWarning: Metric F1Score implements a `reset_states()` method; rename it to `reset_state()` (without the final \"s\"). The name `reset_states()` has been deprecated to improve API consistency.\n",
      "  'consistency.' % (self.__class__.__name__,))\n"
     ]
    },
    {
     "name": "stdout",
     "output_type": "stream",
     "text": [
      "2110/2110 [==============================] - 690s 323ms/step - loss: 0.4296 - f1_score: 0.8167 - val_loss: 0.2683 - val_f1_score: 0.9019\n",
      "Epoch 2/5\n",
      "2110/2110 [==============================] - 675s 320ms/step - loss: 0.2881 - f1_score: 0.8846 - val_loss: 0.2493 - val_f1_score: 0.9117\n",
      "Epoch 3/5\n",
      "2110/2110 [==============================] - 674s 320ms/step - loss: 0.2461 - f1_score: 0.9022 - val_loss: 0.2500 - val_f1_score: 0.9226\n",
      "Epoch 4/5\n",
      "2110/2110 [==============================] - 673s 319ms/step - loss: 0.2167 - f1_score: 0.9156 - val_loss: 0.2315 - val_f1_score: 0.9272\n",
      "Epoch 5/5\n",
      "2110/2110 [==============================] - 673s 319ms/step - loss: 0.1969 - f1_score: 0.9227 - val_loss: 0.2299 - val_f1_score: 0.9264\n"
     ]
    }
   ],
   "source": [
    "history = model.fit(X_train, y_train, batch_size=64, epochs=5, validation_split=0.1)"
   ]
  },
  {
   "cell_type": "code",
   "execution_count": 37,
   "metadata": {
    "ExecuteTime": {
     "end_time": "2021-07-02T07:19:45.861998Z",
     "start_time": "2021-07-02T07:17:39.339201Z"
    }
   },
   "outputs": [],
   "source": [
    "y_pred = model.predict(X_test)"
   ]
  },
  {
   "cell_type": "code",
   "execution_count": 38,
   "metadata": {
    "ExecuteTime": {
     "end_time": "2021-07-02T07:19:46.331805Z",
     "start_time": "2021-07-02T07:19:45.897905Z"
    }
   },
   "outputs": [
    {
     "data": {
      "text/plain": [
       "0.927503472961493"
      ]
     },
     "execution_count": 38,
     "metadata": {},
     "output_type": "execute_result"
    }
   ],
   "source": [
    "from sklearn.metrics import f1_score, confusion_matrix\n",
    "from seaborn import heatmap\n",
    "result_matrix = pd.DataFrame(confusion_matrix([np.argmax(x) for x in y_test], [np.argmax(x) for x in y_pred]))\n",
    "f1_score([np.argmax(x) for x in y_test], [np.argmax(x) for x in y_pred], average='macro')"
   ]
  },
  {
   "cell_type": "code",
   "execution_count": 39,
   "metadata": {
    "ExecuteTime": {
     "end_time": "2021-07-02T07:19:46.720603Z",
     "start_time": "2021-07-02T07:19:46.396877Z"
    }
   },
   "outputs": [
    {
     "data": {
      "text/plain": [
       "<AxesSubplot:>"
      ]
     },
     "execution_count": 39,
     "metadata": {},
     "output_type": "execute_result"
    },
    {
     "data": {
      "image/png": "[encoded data removed]",
      "text/plain": [
       "<Figure size 432x288 with 2 Axes>"
      ]
     },
     "metadata": {
      "needs_background": "light"
     },
     "output_type": "display_data"
    }
   ],
   "source": [
    "from seaborn import heatmap\n",
    "heatmap(result_matrix.apply(lambda x:x.nlargest(2)))"
   ]
  },
  {
   "cell_type": "code",
   "execution_count": null,
   "metadata": {},
   "outputs": [],
   "source": []
  }
 ],
 "metadata": {
  "kernelspec": {
   "display_name": "Python 3",
   "language": "python",
   "name": "python3"
  },
  "language_info": {
   "codemirror_mode": {
    "name": "ipython",
    "version": 3
   },
   "file_extension": ".py",
   "mimetype": "text/x-python",
   "name": "python",
   "nbconvert_exporter": "python",
   "pygments_lexer": "ipython3",
   "version": "3.7.0"
  },
  "nbTranslate": {
   "displayLangs": [
    "*"
   ],
   "hotkey": "alt-t",
   "langInMainMenu": true,
   "sourceLang": "en",
   "targetLang": "fr",
   "useGoogleTranslate": true
  },
  "toc": {
   "base_numbering": 1,
   "nav_menu": {},
   "number_sections": true,
   "sideBar": true,
   "skip_h1_title": true,
   "title_cell": "Table of Contents",
   "title_sidebar": "Contents",
   "toc_cell": false,
   "toc_position": {
    "height": "calc(100% - 180px)",
    "left": "10px",
    "top": "150px",
    "width": "289.275px"
   },
   "toc_section_display": true,
   "toc_window_display": true
  },
  "varInspector": {
   "cols": {
    "lenName": 16,
    "lenType": 16,
    "lenVar": 40
   },
   "kernels_config": {
    "python": {
     "delete_cmd_postfix": "",
     "delete_cmd_prefix": "del ",
     "library": "var_list.py",
     "varRefreshCmd": "print(var_dic_list())"
    },
    "r": {
     "delete_cmd_postfix": ") ",
     "delete_cmd_prefix": "rm(",
     "library": "var_list.r",
     "varRefreshCmd": "cat(var_dic_list()) "
    }
   },
   "types_to_exclude": [
    "module",
    "function",
    "builtin_function_or_method",
    "instance",
    "_Feature"
   ],
   "window_display": false
  }
 },
 "nbformat": 4,
 "nbformat_minor": 2
}
