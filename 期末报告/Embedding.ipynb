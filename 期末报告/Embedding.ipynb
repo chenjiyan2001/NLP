{
 "cells": [
  {
   "cell_type": "code",
   "execution_count": 1,
   "metadata": {
    "ExecuteTime": {
     "end_time": "2021-07-02T05:59:03.821703Z",
     "start_time": "2021-07-02T05:59:02.905661Z"
    }
   },
   "outputs": [],
   "source": [
    "import pandas as pd\n",
    "from sklearn.model_selection import train_test_split\n",
    "from sklearn.metrics import f1_score\n",
    "from tqdm.notebook import tqdm\n",
    "from gensim.test.utils import datapath\n",
    "from gensim.models import word2vec, doc2vec"
   ]
  },
  {
   "cell_type": "markdown",
   "metadata": {},
   "source": [
    "## Word2Vec"
   ]
  },
  {
   "cell_type": "code",
   "execution_count": 2,
   "metadata": {
    "ExecuteTime": {
     "end_time": "2021-07-02T05:59:28.139358Z",
     "start_time": "2021-07-02T05:59:20.702833Z"
    }
   },
   "outputs": [],
   "source": [
    "train_set = pd.read_csv('./train_set.csv', sep='\\t')\n",
    "X_train, X_test, y_train, y_test = train_test_split(\n",
    "    train_set['text'], \n",
    "    train_set['label'], \n",
    "    random_state=42\n",
    ")\n",
    "# train_set['text'].to_csv('vocab.csv', index=None, header=None, sep='\\t')"
   ]
  },
  {
   "cell_type": "code",
   "execution_count": 3,
   "metadata": {
    "ExecuteTime": {
     "end_time": "2021-06-21T04:09:32.294309Z",
     "start_time": "2021-06-21T04:09:32.280000Z"
    }
   },
   "outputs": [],
   "source": [
    "# 1w train_set\n",
    "w2v_vocab = word2vec.LineSentence(\n",
    "    datapath(r'D:\\Python\\Python Codes\\★ 比赛代码\\★ 学习赛\\新闻分类\\vocab.csv'),\n",
    "    max_sentence_length=5000,\n",
    "    limit=10000 # 1w\n",
    ")"
   ]
  },
  {
   "cell_type": "code",
   "execution_count": 4,
   "metadata": {
    "ExecuteTime": {
     "end_time": "2021-07-02T06:00:02.074032Z",
     "start_time": "2021-07-02T06:00:02.069433Z"
    },
    "code_folding": []
   },
   "outputs": [],
   "source": [
    "# 全量train_set，覆写word2vec.LineSentence\n",
    "import itertools\n",
    "class sentences(word2vec.LineSentence):\n",
    "    def __init__(self, train_set, max_sentence_length=3000, limit=None):\n",
    "        self.train_set = train_set\n",
    "        self.max_sentence_length = max_sentence_length\n",
    "        self.limit = limit\n",
    "        \n",
    "    def __iter__(self):\n",
    "        for doc in tqdm(self.train_set):\n",
    "            doc = doc.split()\n",
    "            yield doc[:self.max_sentence_length]"
   ]
  },
  {
   "cell_type": "code",
   "execution_count": 5,
   "metadata": {
    "ExecuteTime": {
     "end_time": "2021-07-02T06:07:21.383553Z",
     "start_time": "2021-07-02T06:00:17.575625Z"
    }
   },
   "outputs": [
    {
     "data": {
      "application/vnd.jupyter.widget-view+json": {
       "model_id": "a6b58537189a439dae840dde6f9b9827",
       "version_major": 2,
       "version_minor": 0
      },
      "text/plain": [
       "  0%|          | 0/200000 [00:00<?, ?it/s]"
      ]
     },
     "metadata": {},
     "output_type": "display_data"
    },
    {
     "data": {
      "application/vnd.jupyter.widget-view+json": {
       "model_id": "dfe9d4b626734c4dab094a93dcb5d372",
       "version_major": 2,
       "version_minor": 0
      },
      "text/plain": [
       "  0%|          | 0/200000 [00:00<?, ?it/s]"
      ]
     },
     "metadata": {},
     "output_type": "display_data"
    },
    {
     "data": {
      "application/vnd.jupyter.widget-view+json": {
       "model_id": "24f0c55a36824bda9702d2ee3ef3e13d",
       "version_major": 2,
       "version_minor": 0
      },
      "text/plain": [
       "  0%|          | 0/200000 [00:00<?, ?it/s]"
      ]
     },
     "metadata": {},
     "output_type": "display_data"
    },
    {
     "data": {
      "application/vnd.jupyter.widget-view+json": {
       "model_id": "5de9c914573d418196c6349ee37a89c1",
       "version_major": 2,
       "version_minor": 0
      },
      "text/plain": [
       "  0%|          | 0/200000 [00:00<?, ?it/s]"
      ]
     },
     "metadata": {},
     "output_type": "display_data"
    },
    {
     "data": {
      "application/vnd.jupyter.widget-view+json": {
       "model_id": "fb45e6664be04275b6cd5b95c6448b1e",
       "version_major": 2,
       "version_minor": 0
      },
      "text/plain": [
       "  0%|          | 0/200000 [00:00<?, ?it/s]"
      ]
     },
     "metadata": {},
     "output_type": "display_data"
    },
    {
     "data": {
      "application/vnd.jupyter.widget-view+json": {
       "model_id": "cf5e1d3ac648447d82e7b94ed6a68b26",
       "version_major": 2,
       "version_minor": 0
      },
      "text/plain": [
       "  0%|          | 0/200000 [00:00<?, ?it/s]"
      ]
     },
     "metadata": {},
     "output_type": "display_data"
    }
   ],
   "source": [
    "w2v = word2vec.Word2Vec(\n",
    "    sentences(train_set['text']),\n",
    "#     w2v_vocab, # 仅1w\n",
    "    vector_size=256, # 词向量的维度\n",
    "    workers=6 # 调大速度会快一点，但太大会爆内存\n",
    ")"
   ]
  },
  {
   "cell_type": "code",
   "execution_count": 7,
   "metadata": {
    "ExecuteTime": {
     "end_time": "2021-07-02T06:08:14.325342Z",
     "start_time": "2021-07-02T06:08:14.307126Z"
    }
   },
   "outputs": [],
   "source": [
    "w2v.save('./w2c_256')"
   ]
  },
  {
   "cell_type": "markdown",
   "metadata": {},
   "source": [
    "Word Embedding"
   ]
  },
  {
   "cell_type": "code",
   "execution_count": 7,
   "metadata": {
    "ExecuteTime": {
     "end_time": "2021-06-21T05:30:06.299093Z",
     "start_time": "2021-06-21T05:23:31.480184Z"
    }
   },
   "outputs": [
    {
     "data": {
      "application/vnd.jupyter.widget-view+json": {
       "model_id": "5af8dbded7a4482580a2efdabc885244",
       "version_major": 2,
       "version_minor": 0
      },
      "text/plain": [
       "  0%|          | 0/150000 [00:00<?, ?it/s]"
      ]
     },
     "metadata": {},
     "output_type": "display_data"
    },
    {
     "data": {
      "application/vnd.jupyter.widget-view+json": {
       "model_id": "31328277c2f742e7a3e75c83585640fb",
       "version_major": 2,
       "version_minor": 0
      },
      "text/plain": [
       "  0%|          | 0/50000 [00:00<?, ?it/s]"
      ]
     },
     "metadata": {},
     "output_type": "display_data"
    }
   ],
   "source": [
    "# 用 word vec 的均值作为 doc vec\n",
    "def get_doc_vec(sentence, model):\n",
    "    scores = np.array([model.wv[word] for word in sentence.split() if word in model.wv])\n",
    "    return np.mean(scores, axis=0)\n",
    "import numpy as np\n",
    "X_word2vec_train = np.array([get_doc_vec(sentence, w2v) for sentence in tqdm(X_train)])\n",
    "X_word2vec_test =  np.array([get_doc_vec(sentence, w2v) for sentence in tqdm(X_test)])"
   ]
  },
  {
   "cell_type": "code",
   "execution_count": 8,
   "metadata": {
    "ExecuteTime": {
     "end_time": "2021-06-21T05:31:55.198758Z",
     "start_time": "2021-06-21T05:31:01.369508Z"
    }
   },
   "outputs": [],
   "source": [
    "# 保存结果\n",
    "pd.concat([pd.DataFrame(X_word2vec_train),\n",
    "           y_train.reset_index(drop=True)],\n",
    "          axis=1).to_csv('train_emb256.csv', index=None, header=None, sep='\\t')\n",
    "\n",
    "pd.concat([pd.DataFrame(X_word2vec_test),\n",
    "           y_test.reset_index(drop=True)],\n",
    "          axis=1).to_csv('test_emb256.csv', index=None, header=None, sep='\\t')"
   ]
  },
  {
   "cell_type": "markdown",
   "metadata": {},
   "source": [
    "train and test"
   ]
  },
  {
   "cell_type": "markdown",
   "metadata": {},
   "source": [
    "## Doc2Vec"
   ]
  },
  {
   "cell_type": "code",
   "execution_count": null,
   "metadata": {},
   "outputs": [],
   "source": []
  }
 ],
 "metadata": {
  "kernelspec": {
   "display_name": "Python 3",
   "language": "python",
   "name": "python3"
  },
  "language_info": {
   "codemirror_mode": {
    "name": "ipython",
    "version": 3
   },
   "file_extension": ".py",
   "mimetype": "text/x-python",
   "name": "python",
   "nbconvert_exporter": "python",
   "pygments_lexer": "ipython3",
   "version": "3.7.0"
  },
  "nbTranslate": {
   "displayLangs": [
    "*"
   ],
   "hotkey": "alt-t",
   "langInMainMenu": true,
   "sourceLang": "en",
   "targetLang": "fr",
   "useGoogleTranslate": true
  },
  "toc": {
   "base_numbering": 1,
   "nav_menu": {},
   "number_sections": true,
   "sideBar": true,
   "skip_h1_title": true,
   "title_cell": "Table of Contents",
   "title_sidebar": "Contents",
   "toc_cell": false,
   "toc_position": {},
   "toc_section_display": true,
   "toc_window_display": false
  },
  "varInspector": {
   "cols": {
    "lenName": 16,
    "lenType": 16,
    "lenVar": 40
   },
   "kernels_config": {
    "python": {
     "delete_cmd_postfix": "",
     "delete_cmd_prefix": "del ",
     "library": "var_list.py",
     "varRefreshCmd": "print(var_dic_list())"
    },
    "r": {
     "delete_cmd_postfix": ") ",
     "delete_cmd_prefix": "rm(",
     "library": "var_list.r",
     "varRefreshCmd": "cat(var_dic_list()) "
    }
   },
   "types_to_exclude": [
    "module",
    "function",
    "builtin_function_or_method",
    "instance",
    "_Feature"
   ],
   "window_display": false
  }
 },
 "nbformat": 4,
 "nbformat_minor": 2
}
